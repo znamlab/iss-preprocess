{
 "cells": [
  {
   "cell_type": "markdown",
   "metadata": {},
   "source": [
    "# Registering mCherry to reference acquisition\n",
    "\n",
    "This is hard because that's the only acquisition before sequencing, which means before\n",
    "we have any background fluorescence. Let's first register the 2 mCherry channels."
   ]
  },
  {
   "cell_type": "code",
   "execution_count": 1,
   "metadata": {},
   "outputs": [],
   "source": [
    "%load_ext autoreload\n",
    "%autoreload 2"
   ]
  },
  {
   "cell_type": "code",
   "execution_count": 2,
   "metadata": {},
   "outputs": [],
   "source": [
    "import iss_preprocess as issp"
   ]
  },
  {
   "cell_type": "code",
   "execution_count": 14,
   "metadata": {},
   "outputs": [],
   "source": [
    "project = 'becalia_rabies_barseq'\n",
    "mouse = 'BRAC8498.3e'\n",
    "chamber= 'chamber_07'\n",
    "mcherry_prefix = 'mCherry_1'\n",
    "roi = 9\n"
   ]
  },
  {
   "cell_type": "code",
   "execution_count": 15,
   "metadata": {},
   "outputs": [],
   "source": [
    "data_path = f'{project}/{mouse}/{chamber}'\n",
    "ops = issp.io.load_ops(data_path)\n",
    "ref_prefix = ops['reference_prefix']\n",
    "mcherry_channels = [ops['mcherry_signal_channel'], ops['mcherry_background_channel']]\n",
    "ref_channel = ops['ref_ch']"
   ]
  },
  {
   "cell_type": "code",
   "execution_count": 16,
   "metadata": {},
   "outputs": [],
   "source": [
    "# Make stitched image  \n",
    "stitched_ref = issp.pipeline.stitch_registered(data_path, ref_prefix, roi=roi, channels=range(4))\n",
    "stitched_mcherry = issp.pipeline.stitch_registered(data_path, mcherry_prefix, roi=roi,channels=mcherry_channels)"
   ]
  },
  {
   "cell_type": "code",
   "execution_count": null,
   "metadata": {},
   "outputs": [],
   "source": [
    "# plot a downsampled version\n",
    "\n",
    "import matplotlib.pyplot as plt\n",
    "import numpy as np\n",
    "import cv2\n",
    "\n",
    "downsample = 0.1\n",
    "\n",
    "stitched_ref_downsampled = cv2.resize(stitched_ref, (0,0), fx=downsample, fy=downsample)\n",
    "stitched_mcherry_downsampled = cv2.resize(stitched_mcherry, (0,0), fx=downsample, fy=downsample)\n",
    "\n",
    "colors = [(1,0,0), (0,1,0), (1,0,1), (0,0,1)]\n",
    "st = np.dstack([stitched_mcherry_downsampled, stitched_ref_downsampled[...,ref_channel]])\n",
    "vmax = np.nanpercentile(st, 99.9, axis=(0,1))\n",
    "vmin = np.nanpercentile(st, 0.01, axis=(0,1))\n",
    "rgb = issp.vis.to_rgb(st, colors, vmax=vmax, vmin=vmin)\n",
    "\n",
    "fig, axes = plt.subplots(1,1, figsize=(10,10), squeeze=False)\n",
    "axes[0, 0].imshow(rgb)\n",
    "axes[0, 0].axis('off')\n",
    "fig.tight_layout()"
   ]
  },
  {
   "cell_type": "code",
   "execution_count": null,
   "metadata": {},
   "outputs": [],
   "source": [
    "from iss_preprocess.vis.utils import get_stack_part\n",
    "\n",
    "xl = [11000, 18000]\n",
    "yl = [8000, 15000]\n",
    "st_p = get_stack_part(stitched_mcherry, xl, yl)\n",
    "st_p = np.dstack([st_p, get_stack_part(stitched_ref[...,ref_channel], xl, yl)])\n",
    "vmax = np.nanpercentile(st_p, 99, axis=(0,1))\n",
    "vmin = np.nanpercentile(st_p, 1, axis=(0,1))\n",
    "rgb = issp.vis.to_rgb(st_p, colors, vmax=vmax, vmin=vmin)\n",
    "plt.figure(figsize=(10,10))\n",
    "plt.imshow(rgb, extent=[xl[0], xl[1], yl[1], yl[0]])\n",
    "plt.axis('off')"
   ]
  },
  {
   "cell_type": "code",
   "execution_count": null,
   "metadata": {},
   "outputs": [],
   "source": [
    "import pandas as pd\n",
    "rabies_spot = issp.io.get_processed_path(data_path).parent / 'error_corrected_barcodes_10.pkl'\n",
    "spots_df = pd.read_pickle(rabies_spot)\n",
    "spots_df = spots_df.query('chamber == @chamber and roi == @roi').copy()\n",
    "\n",
    "spots_df.shape"
   ]
  },
  {
   "cell_type": "code",
   "execution_count": null,
   "metadata": {},
   "outputs": [],
   "source": [
    "from iss_preprocess.vis.utils import get_spot_part\n",
    "st_p = get_stack_part(stitched_mcherry, xl, yl)\n",
    "vmax = np.nanpercentile(st_p, 99, axis=(0,1))\n",
    "vmin = np.nanpercentile(st_p, 1, axis=(0,1))\n",
    "rgb = issp.vis.to_rgb(st_p, colors[:2], vmax=vmax, vmin=vmin)\n",
    "\n",
    "sp = get_spot_part(spots_df, xl, yl)\n",
    "plt.figure(figsize=(20,20))\n",
    "plt.imshow(rgb, extent=[xl[0], xl[1], yl[1], yl[0]])\n",
    "plt.scatter(sp['x'], sp['y'], c='cyan', s=5, alpha=0.2)\n",
    "plt.axis('off')"
   ]
  },
  {
   "cell_type": "code",
   "execution_count": null,
   "metadata": {},
   "outputs": [],
   "source": []
  }
 ],
 "metadata": {
  "kernelspec": {
   "display_name": "iss-preprocess",
   "language": "python",
   "name": "python3"
  },
  "language_info": {
   "codemirror_mode": {
    "name": "ipython",
    "version": 3
   },
   "file_extension": ".py",
   "mimetype": "text/x-python",
   "name": "python",
   "nbconvert_exporter": "python",
   "pygments_lexer": "ipython3",
   "version": "3.9.20"
  }
 },
 "nbformat": 4,
 "nbformat_minor": 2
}
