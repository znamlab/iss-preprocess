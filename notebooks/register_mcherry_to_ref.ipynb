{
 "cells": [
  {
   "cell_type": "markdown",
   "metadata": {},
   "source": [
    "# Registering mCherry to reference acquisition\n",
    "\n",
    "This is hard because that's the only acquisition before sequencing, which means before\n",
    "we have any background fluorescence. Let's first register the 2 mCherry channels."
   ]
  },
  {
   "cell_type": "code",
   "execution_count": null,
   "metadata": {},
   "outputs": [],
   "source": [
    "%load_ext autoreload\n",
    "%autoreload 2"
   ]
  },
  {
   "cell_type": "code",
   "execution_count": null,
   "metadata": {},
   "outputs": [],
   "source": [
    "import numpy as np\n",
    "\n",
    "import iss_preprocess as issp"
   ]
  },
  {
   "cell_type": "code",
   "execution_count": null,
   "metadata": {},
   "outputs": [],
   "source": [
    "project = \"becalia_rabies_barseq\"\n",
    "mouse = \"BRAC8498.3e\"\n",
    "chamber = \"chamber_07\"\n",
    "mcherry_prefix = \"mCherry_1\"\n",
    "roi = 9"
   ]
  },
  {
   "cell_type": "code",
   "execution_count": null,
   "metadata": {},
   "outputs": [],
   "source": [
    "data_path = f\"{project}/{mouse}/{chamber}\"\n",
    "ops = issp.io.load_ops(data_path)\n",
    "ref_prefix = ops[\"reference_prefix\"]\n",
    "mcherry_channels = [ops[\"mcherry_signal_channel\"], ops[\"mcherry_background_channel\"]]\n",
    "ref_channel = ops[\"ref_ch\"]"
   ]
  },
  {
   "cell_type": "markdown",
   "metadata": {},
   "source": [
    "# Register mCherry within"
   ]
  },
  {
   "cell_type": "code",
   "execution_count": null,
   "metadata": {},
   "outputs": [],
   "source": [
    "import matplotlib.pyplot as plt\n",
    "\n",
    "example_tile, bd = issp.pipeline.load_and_register_tile(\n",
    "    data_path, tile_coors=[roi, 3, 3], prefix=mcherry_prefix, filter_r=False\n",
    ")\n",
    "fig, axes = plt.subplots(2, 2)\n",
    "for i, ax in enumerate(axes.flat):\n",
    "    ax.imshow(example_tile[..., i, 0], vmin=0, vmax=100)\n",
    "    ax.set_title(f\"Channel {i}\")\n",
    "    ax.set_axis_off()\n",
    "\n",
    "rgb = issp.vis.to_rgb(\n",
    "    example_tile[..., 0],\n",
    "    colors=[(1, 0, 0), (0, 1, 0), (1, 0, 1), (0, 1, 1)],\n",
    "    vmin=0,\n",
    "    vmax=100,\n",
    ")\n",
    "plt.figure()\n",
    "plt.imshow(rgb)\n",
    "plt.axis(\"off\")"
   ]
  },
  {
   "cell_type": "code",
   "execution_count": null,
   "metadata": {},
   "outputs": [],
   "source": [
    "o = issp.pipeline.stitch.register_within_acquisition(\n",
    "    data_path,\n",
    "    roi,\n",
    "    prefix=mcherry_prefix,\n",
    "    ref_ch=3,\n",
    "    suffix=\"max\",\n",
    "    correct_illumination=False,\n",
    "    reload=False,\n",
    "    save_plot=True,\n",
    "    dimension_prefix=\"genes_round_1_1\",\n",
    "    min_corrcoef=0.4,\n",
    "    max_delta_shift=20,\n",
    "    verbose=2,\n",
    ")"
   ]
  },
  {
   "cell_type": "code",
   "execution_count": null,
   "metadata": {},
   "outputs": [],
   "source": [
    "ops = issp.io.load_ops(data_path)\n",
    "use_masked_correlation = True\n",
    "save_plot = True\n",
    "downsample = 5\n",
    "estimate_rotation = True\n",
    "\n",
    "reg_prefix = mcherry_prefix\n",
    "if (ref_prefix is None) or (ref_prefix == \"None\"):\n",
    "    ref_prefix = ops[\"reference_prefix\"]\n",
    "ref_channels = ops[\"reg2ref_reference_channels\"]\n",
    "spref = reg_prefix.split(\"_\")[0]  # short prefix\n",
    "# use either the same as ref or what is in the ops\n",
    "reg_channels = ops.get(f\"reg2ref_{spref}_channels\", ref_channels)\n",
    "# if there is something defined for this acquisition, use it instead\n",
    "reg_channels = ops.get(f\"reg2ref_{reg_prefix}_channels\", reg_channels)\n",
    "\n",
    "# get the transformation from the stitched image to the reference\n",
    "print(f\"Registering {reg_prefix} to {ref_prefix} for ROI {roi}\")\n",
    "print(f\"    mask: {use_masked_correlation}\")\n",
    "print(f\"    ref_channels: {ref_channels}\")\n",
    "print(f\"    reg_channels: {reg_channels}\")\n",
    "print(f\"    estimate_rotation: {estimate_rotation}\")\n",
    "print(f\"    downsample: {downsample}\")\n",
    "print(f\"    save_plot: {save_plot}\")\n",
    "\n",
    "# first register within if needed\n",
    "issp.pipeline.register_within_acquisition(\n",
    "    data_path,\n",
    "    prefix=ref_prefix,\n",
    "    roi=roi,\n",
    "    reload=True,\n",
    "    save_plot=True,\n",
    "    use_slurm=False,\n",
    ")\n",
    "issp.pipeline.register_within_acquisition(\n",
    "    data_path,\n",
    "    prefix=reg_prefix,\n",
    "    roi=roi,\n",
    "    reload=True,\n",
    "    save_plot=True,\n",
    "    use_slurm=False,\n",
    ")"
   ]
  },
  {
   "cell_type": "code",
   "execution_count": null,
   "metadata": {},
   "outputs": [],
   "source": [
    "target_prefix = reg_prefix\n",
    "reference_prefix = ref_prefix\n",
    "target_ch = [2, 3]\n",
    "ref_ch = ref_channels\n",
    "target_projection = \"max\"\n",
    "if reference_prefix is None:\n",
    "    reference_prefix = ops[\"reference_prefix\"]\n",
    "\n",
    "ref_projection = ops[f\"{reference_prefix.split('_')[0].lower()}_projection\"]\n",
    "if isinstance(target_ch, int):\n",
    "    target_ch = [target_ch]\n",
    "stitched_stack_target = None\n",
    "for ch in target_ch:\n",
    "    stitched = issp.pipeline.stitch.stitch_tiles(\n",
    "        data_path,\n",
    "        target_prefix,\n",
    "        suffix=target_projection,\n",
    "        roi=roi,\n",
    "        ich=ch,\n",
    "        shifts_prefix=target_prefix,\n",
    "        correct_illumination=True,\n",
    "    ).astype(np.single)  # to save memory\n",
    "    if stitched_stack_target is None:\n",
    "        stitched_stack_target = stitched\n",
    "    else:\n",
    "        stitched_stack_target += stitched\n",
    "stitched_stack_target /= len(target_ch)"
   ]
  },
  {
   "cell_type": "code",
   "execution_count": null,
   "metadata": {},
   "outputs": [],
   "source": [
    "if isinstance(ref_ch, int):\n",
    "    ref_ch = [ref_ch]\n",
    "stitched_stack_reference = None\n",
    "for ch in ref_ch:\n",
    "    stitched = issp.pipeline.stitch.stitch_tiles(\n",
    "        data_path,\n",
    "        prefix=reference_prefix,\n",
    "        suffix=ref_projection,\n",
    "        roi=roi,\n",
    "        ich=ch,\n",
    "        shifts_prefix=reference_prefix,\n",
    "        correct_illumination=True,\n",
    "    ).astype(np.single)\n",
    "    if stitched_stack_reference is None:\n",
    "        stitched_stack_reference = stitched\n",
    "    else:\n",
    "        stitched_stack_reference += stitched\n",
    "stitched_stack_reference /= len(ref_ch)"
   ]
  },
  {
   "cell_type": "code",
   "execution_count": null,
   "metadata": {},
   "outputs": [],
   "source": [
    "# If they have different shapes, crop to the smallest size\n",
    "import warnings\n",
    "\n",
    "from skimage import transform\n",
    "\n",
    "if stitched_stack_target.shape != stitched_stack_reference.shape:\n",
    "    warnings.warn(\"Stitched stacks have different shapes. Padding to match.\")\n",
    "    stacks_shape = np.vstack(\n",
    "        (stitched_stack_target.shape, stitched_stack_reference.shape)\n",
    "    )\n",
    "    fshape = np.min(stacks_shape, axis=0)\n",
    "    stitched_stack_target = stitched_stack_target[: fshape[0], : fshape[1]]\n",
    "    stitched_stack_reference = stitched_stack_reference[: fshape[0], : fshape[1]]\n",
    "else:\n",
    "    fshape = stitched_stack_target.shape\n",
    "\n",
    "\n",
    "def prep_stack(stack, downsample):\n",
    "    if stack.dtype != bool:\n",
    "        ma = np.nanpercentile(stack, 99)\n",
    "        stack = np.clip(stack, 0, ma)\n",
    "        stack = stack / ma\n",
    "    # downsample\n",
    "    new_size = np.array(stack.shape) // downsample\n",
    "    stack = transform.resize(stack, new_size)\n",
    "    return stack\n",
    "\n",
    "\n",
    "# setup common args for registration\n",
    "kwargs = dict(\n",
    "    angle_range=1.0,\n",
    "    niter=3,\n",
    "    nangles=11,\n",
    "    upsample=False,\n",
    "    debug=True,\n",
    "    max_shift=ops[\"max_shift2ref\"] // downsample,\n",
    "    min_shift=0,\n",
    "    reference=prep_stack(stitched_stack_reference, downsample),\n",
    "    target=prep_stack(stitched_stack_target, downsample),\n",
    ")\n",
    "if use_masked_correlation:\n",
    "    kwargs[\"target_mask\"] = prep_stack(stitched_stack_target != 0, downsample)\n",
    "    kwargs[\"reference_mask\"] = prep_stack(stitched_stack_reference != 0, downsample)"
   ]
  },
  {
   "cell_type": "code",
   "execution_count": null,
   "metadata": {},
   "outputs": [],
   "source": [
    "plt.imshow(kwargs[\"reference\"])"
   ]
  },
  {
   "cell_type": "code",
   "execution_count": null,
   "metadata": {},
   "outputs": [],
   "source": [
    "plt.imshow(kwargs[\"target\"])"
   ]
  },
  {
   "cell_type": "code",
   "execution_count": null,
   "metadata": {},
   "outputs": [],
   "source": [
    "plt.imshow(kwargs[\"target\"])\n",
    "plt.ylim(4500, 2500)\n",
    "plt.xlim(2000, 4500)"
   ]
  },
  {
   "cell_type": "code",
   "execution_count": null,
   "metadata": {},
   "outputs": [],
   "source": [
    "debug = True\n",
    "\n",
    "out = issp.reg.estimate_rotation_translation(\n",
    "    **kwargs,\n",
    ")\n",
    "if debug:\n",
    "    angle, shift, debug_dict = out\n",
    "else:\n",
    "    angle, shift, scale = out\n",
    "from image_tools.similarity_transforms import transform_image\n",
    "\n",
    "trans_targ2 = transform_image(kwargs[\"target\"], angle=angle, shift=shift, scale=1)"
   ]
  },
  {
   "cell_type": "code",
   "execution_count": null,
   "metadata": {},
   "outputs": [],
   "source": [
    "rgb = np.dstack([kwargs[\"reference\"], trans_targ])\n",
    "rgb = issp.vis.to_rgb(\n",
    "    rgb,\n",
    "    colors=[(1, 0, 0), (0, 1, 0)],\n",
    "    vmin=0,\n",
    "    vmax=np.nanpercentile(rgb, 99, axis=(0, 1)),\n",
    ")\n",
    "plt.figure(figsize=(10, 10))\n",
    "plt.imshow(rgb)"
   ]
  },
  {
   "cell_type": "code",
   "execution_count": null,
   "metadata": {},
   "outputs": [],
   "source": [
    "rgb = np.dstack([kwargs[\"reference\"], trans_targ2])\n",
    "rgb = issp.vis.to_rgb(\n",
    "    rgb,\n",
    "    colors=[(1, 0, 0), (0, 1, 0)],\n",
    "    vmin=0,\n",
    "    vmax=np.nanpercentile(rgb, 99, axis=(0, 1)),\n",
    ")\n",
    "plt.figure(figsize=(10, 10))\n",
    "plt.imshow(rgb)"
   ]
  },
  {
   "cell_type": "code",
   "execution_count": null,
   "metadata": {},
   "outputs": [],
   "source": [
    "if False:\n",
    "    issp.pipeline.register_fluorescent_tile(\n",
    "        data_path,\n",
    "        tile_coors=(13, 0, 0),\n",
    "        prefix=prefix,\n",
    "        reference_prefix=None,\n",
    "    )\n",
    "issp.pipeline.correct_hyb_shifts(\n",
    "    data_path,\n",
    "    prefix,\n",
    ")\n",
    "job2 = issp.pipeline.diagnostics.check_shift_correction(\n",
    "    data_path,\n",
    "    prefix,\n",
    "    roi_dimension_prefix=prefix,\n",
    "    within=False,\n",
    ")"
   ]
  },
  {
   "cell_type": "code",
   "execution_count": null,
   "metadata": {},
   "outputs": [],
   "source": [
    "stacks_shape"
   ]
  },
  {
   "cell_type": "code",
   "execution_count": null,
   "metadata": {},
   "outputs": [],
   "source": [
    "fshape"
   ]
  },
  {
   "cell_type": "code",
   "execution_count": null,
   "metadata": {},
   "outputs": [],
   "source": [
    "# Make stitched image\n",
    "stitched_ref = issp.pipeline.stitch_registered(\n",
    "    data_path, ref_prefix, roi=roi, channels=ref_channel\n",
    ")\n",
    "stitched_mcherry = issp.pipeline.stitch_registered(\n",
    "    data_path, mcherry_prefix, roi=roi, channels=mcherry_channels\n",
    ")"
   ]
  },
  {
   "cell_type": "code",
   "execution_count": null,
   "metadata": {},
   "outputs": [],
   "source": [
    "# plot a downsampled version\n",
    "\n",
    "import cv2\n",
    "import matplotlib.pyplot as plt\n",
    "import numpy as np\n",
    "\n",
    "downsample = 0.1\n",
    "\n",
    "stitched_ref_downsampled = cv2.resize(\n",
    "    stitched_ref, (0, 0), fx=downsample, fy=downsample\n",
    ")\n",
    "stitched_mcherry_downsampled = cv2.resize(\n",
    "    stitched_mcherry, (0, 0), fx=downsample, fy=downsample\n",
    ")\n",
    "\n",
    "colors = [(1, 0, 0), (0, 1, 0), (1, 0, 1), (0, 0, 1)]\n",
    "st = np.dstack([stitched_mcherry_downsampled, stitched_ref_downsampled])\n",
    "vmax = np.nanpercentile(st, 99.9, axis=(0, 1))\n",
    "vmin = np.nanpercentile(st, 0.01, axis=(0, 1))\n",
    "rgb = issp.vis.to_rgb(st, colors, vmax=vmax, vmin=vmin)\n",
    "\n",
    "fig, axes = plt.subplots(1, 1, figsize=(10, 10), squeeze=False)\n",
    "axes[0, 0].imshow(rgb)\n",
    "axes[0, 0].axis(\"off\")\n",
    "fig.tight_layout()"
   ]
  },
  {
   "cell_type": "code",
   "execution_count": null,
   "metadata": {},
   "outputs": [],
   "source": [
    "issp.pipeline.register.register_to_ref_using_stitched_registration(\n",
    "    data_path,\n",
    "    roi,\n",
    "    reg_prefix=\"mCherry_1\",\n",
    "    ref_prefix=None,\n",
    "    ref_channels=None,\n",
    "    reg_channels=None,\n",
    "    estimate_rotation=True,\n",
    "    target_suffix=None,\n",
    "    use_masked_correlation=True,\n",
    "    downsample=5,\n",
    "    save_plot=True,\n",
    ")"
   ]
  },
  {
   "cell_type": "code",
   "execution_count": null,
   "metadata": {},
   "outputs": [],
   "source": [
    "stitched_mcherry_new = issp.pipeline.stitch_registered(\n",
    "    data_path, mcherry_prefix, roi=roi, channels=mcherry_channels\n",
    ")"
   ]
  },
  {
   "cell_type": "code",
   "execution_count": null,
   "metadata": {},
   "outputs": [],
   "source": [
    "from iss_preprocess.vis.utils import get_stack_part\n",
    "\n",
    "xl = [11000, 18000]\n",
    "yl = [8000, 15000]\n",
    "st_p = get_stack_part(stitched_mcherry, xl, yl)\n",
    "st_p = np.dstack([st_p, get_stack_part(stitched_ref, xl, yl)])\n",
    "vmax = np.nanpercentile(st_p, 99, axis=(0, 1))\n",
    "vmin = np.nanpercentile(st_p, 1, axis=(0, 1))\n",
    "rgb = issp.vis.to_rgb(st_p, colors, vmax=vmax, vmin=vmin)\n",
    "plt.figure(figsize=(10, 10))\n",
    "plt.imshow(rgb, extent=[xl[0], xl[1], yl[1], yl[0]])\n",
    "plt.axis(\"off\")"
   ]
  },
  {
   "cell_type": "code",
   "execution_count": null,
   "metadata": {},
   "outputs": [],
   "source": [
    "from iss_preprocess.vis.utils import get_stack_part\n",
    "\n",
    "xl = [11000, 18000]\n",
    "yl = [8000, 15000]\n",
    "st_p = get_stack_part(stitched_mcherry_new, xl, yl)\n",
    "st_p = np.dstack([st_p, get_stack_part(stitched_ref, xl, yl)])\n",
    "vmax = np.nanpercentile(st_p, 99, axis=(0, 1))\n",
    "vmin = np.nanpercentile(st_p, 1, axis=(0, 1))\n",
    "rgb = issp.vis.to_rgb(st_p, colors, vmax=vmax, vmin=vmin)\n",
    "plt.figure(figsize=(10, 10))\n",
    "plt.imshow(rgb, extent=[xl[0], xl[1], yl[1], yl[0]])\n",
    "plt.axis(\"off\")"
   ]
  },
  {
   "cell_type": "code",
   "execution_count": null,
   "metadata": {},
   "outputs": [],
   "source": [
    "colors"
   ]
  },
  {
   "cell_type": "code",
   "execution_count": null,
   "metadata": {},
   "outputs": [],
   "source": [
    "st_p_new = get_stack_part(stitched_mcherry_new[..., 0], xl, yl)\n",
    "st_p = get_stack_part(stitched_mcherry[..., 0], xl, yl)\n",
    "rgb = np.dstack([st_p_new, st_p])\n",
    "rgb = issp.vis.to_rgb(rgb, colors[:2], vmax=vmax[0], vmin=vmin[0])\n",
    "from iss_preprocess.vis.utils import get_spot_part\n",
    "\n",
    "sp = get_spot_part(spots_df, xl, yl)\n",
    "plt.figure(figsize=(20, 20))\n",
    "plt.imshow(rgb, extent=[xl[0], xl[1], yl[1], yl[0]])\n",
    "plt.scatter(sp[\"x\"], sp[\"y\"], c=\"cyan\", s=10, alpha=0.5)\n",
    "plt.imshow(rgb, extent=[xl[0], xl[1], yl[1], yl[0]])"
   ]
  },
  {
   "cell_type": "code",
   "execution_count": null,
   "metadata": {},
   "outputs": [],
   "source": [
    "data_path"
   ]
  },
  {
   "cell_type": "code",
   "execution_count": null,
   "metadata": {},
   "outputs": [],
   "source": [
    "reg_folder = issp.io.get_processed_path(data_path) / \"reg\"\n",
    "t = [9, 3, 4]\n",
    "fname = f\"tforms_to_ref_{mcherry_prefix}_{t[0]}_{t[1]}_{t[2]}.npz\"\n",
    "new = np.load(reg_folder / fname)\n",
    "old = np.load(reg_folder.parent / \"temp_mcherry_reg\" / fname)"
   ]
  },
  {
   "cell_type": "code",
   "execution_count": null,
   "metadata": {},
   "outputs": [],
   "source": [
    "old[\"matrix_between_channels\"]"
   ]
  },
  {
   "cell_type": "code",
   "execution_count": null,
   "metadata": {},
   "outputs": [],
   "source": [
    "new[\"matrix_between_channels\"]"
   ]
  },
  {
   "cell_type": "code",
   "execution_count": null,
   "metadata": {},
   "outputs": [],
   "source": [
    "import pandas as pd\n",
    "\n",
    "rabies_spot = (\n",
    "    issp.io.get_processed_path(data_path).parent / \"error_corrected_barcodes_10.pkl\"\n",
    ")\n",
    "spots_df = pd.read_pickle(rabies_spot)\n",
    "spots_df = spots_df.query(\"chamber == @chamber and roi == @roi\").copy()\n",
    "\n",
    "spots_df.shape"
   ]
  },
  {
   "cell_type": "code",
   "execution_count": null,
   "metadata": {},
   "outputs": [],
   "source": [
    "from iss_preprocess.vis.utils import get_spot_part\n",
    "\n",
    "st_p = get_stack_part(stitched_mcherry, xl, yl)\n",
    "vmax = np.nanpercentile(st_p, 99, axis=(0, 1))\n",
    "vmin = np.nanpercentile(st_p, 1, axis=(0, 1))\n",
    "rgb = issp.vis.to_rgb(st_p, colors[:2], vmax=vmax, vmin=vmin)\n",
    "\n",
    "sp = get_spot_part(spots_df, xl, yl)\n",
    "plt.figure(figsize=(20, 20))\n",
    "plt.imshow(rgb, extent=[xl[0], xl[1], yl[1], yl[0]])\n",
    "plt.scatter(sp[\"x\"], sp[\"y\"], c=\"cyan\", s=5, alpha=0.2)\n",
    "plt.axis(\"off\")"
   ]
  },
  {
   "cell_type": "code",
   "execution_count": null,
   "metadata": {},
   "outputs": [],
   "source": []
  }
 ],
 "metadata": {
  "kernelspec": {
   "language": "python"
  },
  "language_info": {
   "codemirror_mode": {
    "name": "ipython",
    "version": 3
   },
   "file_extension": ".py",
   "mimetype": "text/x-python",
   "name": "python",
   "nbconvert_exporter": "python",
   "pygments_lexer": "ipython3"
  }
 },
 "nbformat": 4,
 "nbformat_minor": 2
}
