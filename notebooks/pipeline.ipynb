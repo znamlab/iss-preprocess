{
 "cells": [
  {
   "attachments": {},
   "cell_type": "markdown",
   "metadata": {},
   "source": [
    "# Compute projections\n",
    "Best options is to run `iss project-round` command after each acquisition:\n",
    "\n",
    "`iss project-round -p $PATH -n $PREFIX`\n",
    "\n",
    "where `$PATH` is the path to the data relative to raw data root and `$PREFIX` is the file name prefix and directory name of the round, e.g. `genes_round_1_1`.\n"
   ]
  },
  {
   "cell_type": "markdown",
   "metadata": {},
   "source": [
    "# Import requirements"
   ]
  },
  {
   "cell_type": "code",
   "execution_count": null,
   "metadata": {},
   "outputs": [],
   "source": [
    "import iss_preprocess as iss\n",
    "import numpy as np\n",
    "import matplotlib.pyplot as plt\n",
    "import yaml\n",
    "from flexiznam.config import PARAMETERS\n",
    "from pathlib import Path\n",
    "from itertools import cycle\n",
    "from matplotlib.animation import FuncAnimation\n"
   ]
  },
  {
   "cell_type": "markdown",
   "metadata": {},
   "source": [
    "# Estimate registration for rounds and channels"
   ]
  },
  {
   "cell_type": "code",
   "execution_count": null,
   "metadata": {},
   "outputs": [],
   "source": [
    "data_path = 'becalia_rabies_barseq/BRYC65.1d/chamber_13/'\n",
    "\n",
    "processed_path = Path(PARAMETERS['data_root']['processed'])\n",
    "raw_path = Path(PARAMETERS['data_root']['raw'])\n",
    "metadata_fname = raw_path / data_path / (Path(data_path).name + \"_metadata.yml\")\n",
    "with open(metadata_fname, \"r\") as f:\n",
    "    metadata = yaml.safe_load(f)\n",
    "\n",
    "ops = { \n",
    "    'camera_order': metadata[\"camera_order\"],\n",
    "    'genes_rounds': len(metadata[\"gene_rounds\"]),\n",
    "    'barcode_rounds': len(metadata[\"rabies_rounds\"]),\n",
    "    'use_rois': [1, 2, 5, 6],\n",
    "    'correction_tiles': [(1, 5, 8), (1, 5, 9), (1, 4, 8), (1, 4, 9), (2, 4, 9), (2, 3, 9), (2, 2, 9), (2, 2, 8)],\n",
    "    'correction_quantile': 0.9999,    \n",
    "    'ref_tile': (1, 5, 8), \n",
    "    'barcode_ref_tiles': [(1, 5, 8), (1, 5, 9), (1, 4, 8), (1, 4, 9), (2, 4, 9), (2, 3, 9), (2, 2, 9), (2, 2, 8)],\n",
    "    'ref_ch': 0,\n",
    "    'ref_round': 0,\n",
    "    'filter_r': (2, 4),\n",
    "    'detection_threshold': 0.15,\n",
    "    'isolation_threshold': 0.05,\n",
    "    'barcode_correct_channels': \"round1_only\",\n",
    "    'barcode_detection_threshold': 0.3,\n",
    "    'barcode_isolation_threshold': 0.3,\n",
    "    'barcode_detection_threshold_basecalling': 0.3,\n",
    "    'codebook': 'codebook_83gene_pool.csv',\n",
    "    'projection': 'fstack',\n",
    "    'spot_extraction_radius': 2,\n",
    "    'spot_shape_radius': 7, \n",
    "    'spot_shape_neighbor_filter_size': 9, \n",
    "    'spot_shape_neighbor_threshold': 15,\n",
    "    'omp_min_intensity': 0.005,\n",
    "    'omp_threshold': 0.2,\n",
    "    'omp_max_genes': 12,\n",
    "    'omp_alpha': 200,\n",
    "    'spot_threshold': 0.15,\n",
    "    'spot_rho': 2,\n",
    "    'barcode_spot_rho': 0.5,\n",
    "    'cellpose_model': 'cyto',\n",
    "    'cellpose_rescale': 0.55,\n",
    "    'cellpose_flow_threshold': 0.4\n",
    "}\n",
    "\n",
    "dark_frame_path = \"becalia_iss_microscope/calibration/20221209_dark_frame/20221209_dark_frame_MMStack_Pos0.ome.tif\"\n",
    "ops[\"black_level\"], _ = iss.image.analyze_dark_frames(processed_path / dark_frame_path)\n"
   ]
  },
  {
   "cell_type": "code",
   "execution_count": null,
   "metadata": {},
   "outputs": [],
   "source": [
    "save_path = processed_path / data_path / 'ops.npy'\n",
    "np.save(save_path, ops, allow_pickle=True)"
   ]
  },
  {
   "cell_type": "code",
   "execution_count": null,
   "metadata": {},
   "outputs": [],
   "source": [
    "pixel_dist, norm_factors = iss.pipeline.estimate_channel_correction(\n",
    "    data_path, \n",
    "    prefix=\"barcode_round\", \n",
    "    nrounds=ops[\"barcode_rounds\"]\n",
    ")\n",
    "save_path = processed_path / data_path / 'correction_barcode_round.npz'\n",
    "np.savez(save_path, pixel_dist=pixel_dist, norm_factors=norm_factors)\n",
    "\n",
    "pixel_dist, norm_factors = iss.pipeline.estimate_channel_correction(\n",
    "    data_path, \n",
    "    prefix=\"genes_round\",\n",
    "    nrounds=ops[\"genes_rounds\"])\n",
    "save_path = processed_path / data_path / 'correction_genes_round.npz'\n",
    "np.savez(save_path, pixel_dist=pixel_dist, norm_factors=norm_factors)\n"
   ]
  },
  {
   "attachments": {},
   "cell_type": "markdown",
   "metadata": {},
   "source": [
    "Start a registration jobs for the reference tile for genes and barcodes:\n",
    "\n",
    "`sbatch --export=DATAPATH=becalia_rabies_barseq/BRYC65.1d/chamber_13/,PREFIX=genes_round register_ref_tile.sh`\n",
    "\n",
    "`sbatch --export=DATAPATH=becalia_rabies_barseq/BRYC65.1d/chamber_13/,PREFIX=barcode_round,ROUNDS=10 register_ref_tile.sh`\n",
    "\n",
    "Next, estimate shifts for individual tiles:\n",
    "\n",
    "`iss estimate-shifts -p becalia_rabies_barseq/BRYC65.1d/chamber_13/ -n barcode_round -m 10`\n",
    "\n",
    "`iss estimate-shifts -p becalia_rabies_barseq/BRYC65.1d/chamber_13/ -n genes_round -m 7`\n",
    "\n",
    "Finally, calculate robust regression corrected shifts:\n",
    "\n",
    "`iss correct-shifts -p becalia_rabies_barseq/BRYC65.1d/chamber_13/ -n barcode_round`\n",
    "\n",
    "`iss correct-shifts -p becalia_rabies_barseq/BRYC65.1d/chamber_13/ -n genes_round`"
   ]
  },
  {
   "attachments": {},
   "cell_type": "markdown",
   "metadata": {},
   "source": [
    "# Prepare parameters for OMP and barcode calling"
   ]
  },
  {
   "cell_type": "code",
   "execution_count": null,
   "metadata": {},
   "outputs": [],
   "source": [
    "stack, bad_pixels = iss.pipeline.load_and_register_tile(\n",
    "    data_path, \n",
    "    ops['ref_tile'], \n",
    "    filter_r=ops['filter_r'], \n",
    "    prefix='genes_round',\n",
    "    suffix=ops['projection'], \n",
    "    correct_channels=True\n",
    ")\n",
    "stack = stack[:, :, np.argsort(ops['camera_order']), :]\n",
    "gene_dict, gene_names, norm_shift = iss.pipeline.setup_omp(\n",
    "    stack, \n",
    "    detection_threshold=ops['detection_threshold'], \n",
    "    isolation_threshold=ops['isolation_threshold'],\n",
    "    codebook_name=ops['codebook']\n",
    ")\n",
    "save_path = processed_path / data_path / 'gene_dict.npz'\n",
    "np.savez(save_path, gene_dict=gene_dict, gene_names=gene_names, norm_shift=norm_shift)"
   ]
  },
  {
   "cell_type": "code",
   "execution_count": null,
   "metadata": {},
   "outputs": [],
   "source": [
    "cluster_means, rois = iss.pipeline.setup_barcode_calling(\n",
    "    data_path, score_thresh=0.5, correct_channels=\"round1_only\")\n",
    "save_path = processed_path / data_path / 'barcode_cluster_means.npy'\n",
    "np.save(save_path, cluster_means)"
   ]
  },
  {
   "attachments": {},
   "cell_type": "markdown",
   "metadata": {},
   "source": [
    "# Check registration"
   ]
  },
  {
   "cell_type": "code",
   "execution_count": null,
   "metadata": {},
   "outputs": [],
   "source": [
    "stack, bad_pixels = iss.pipeline.load_and_register_tile(\n",
    "    data_path, \n",
    "    (2, 4, 9), \n",
    "    filter_r=ops['filter_r'], \n",
    "    prefix='barcode_round',\n",
    "    suffix=ops['projection'],\n",
    "    nrounds=ops['barcode_rounds'],\n",
    "    correct_channels=True,\n",
    "    corrected_shifts=True,\n",
    "    correct_illumination=True\n",
    ")\n",
    "stack = stack[:, :, np.argsort(ops['camera_order']), :]\n",
    "nrounds = stack.shape[3]\n",
    "channel_colors = [ [1,0,0], [0,1,0], [0,1,1], [1,0,1]]\n",
    "def round_image(iround):\n",
    "    vmax = 3\n",
    "    return iss.vis.to_rgb(\n",
    "        stack[501:1000, 1501:2000, :, iround], \n",
    "        channel_colors, \n",
    "        vmin=np.array([0,0,0,0]),\n",
    "        vmax=np.array([1,1,1,1]) * vmax)\n",
    "\n",
    "fig = plt.figure(figsize=(10,8))\n",
    "for iround in range(nrounds):\n",
    "    plt.subplot(3,4,iround+1)\n",
    "    plt.imshow(round_image(iround))\n",
    "    plt.axis('off')\n",
    "plt.tight_layout()"
   ]
  },
  {
   "cell_type": "code",
   "execution_count": null,
   "metadata": {},
   "outputs": [],
   "source": [
    "%matplotlib ipympl\n",
    "fig = plt.figure(figsize=(10,5))\n",
    "ax1 = plt.subplot(1,2,1)\n",
    "im = ax1.imshow(round_image(0))\n",
    "\n",
    "def animate(frame_num):\n",
    "    im.set_data(round_image(frame_num))\n",
    "    ax1.set_title(f'round {frame_num}')\n",
    "    return im\n",
    "\n",
    "anim = FuncAnimation(fig, animate, frames=nrounds, interval=2000)\n",
    "plt.show()"
   ]
  },
  {
   "cell_type": "markdown",
   "metadata": {},
   "source": [
    "# Re-compute average spot image\n",
    "\n",
    "Run OMP on the reference tile and detect spots to generate a new spot sign image.\n",
    "\n",
    "Inspect OMP output to check parameters."
   ]
  },
  {
   "cell_type": "code",
   "execution_count": null,
   "metadata": {},
   "outputs": [],
   "source": [
    "g, b, r = iss.call.run_omp(\n",
    "    np.moveaxis(stack, 2, 3),\n",
    "    gene_dict,\n",
    "    tol=ops['omp_threshold'],\n",
    "    weighted=True,\n",
    "    refit_background=True,\n",
    "    alpha=ops[\"omp_alpha\"],\n",
    "    norm_shift=norm_shift,\n",
    "    max_comp=ops[\"omp_max_genes\"],\n",
    "    min_intensity=ops['omp_min_intensity'],\n",
    ")\n",
    "\n",
    "spot_sign_image = iss.call.get_spot_shape(g, spot_xy=7, neighbor_filter_size=9, neighbor_threshold=15)\n",
    "spot_sign_image = iss.call.apply_symmetry(spot_sign_image)\n",
    "save_path = processed_path / data_path / 'spot_sign_image.npy'\n",
    "np.save(save_path, spot_sign_image)\n",
    "plt.figure(figsize=(3,3))\n",
    "plt.imshow(spot_sign_image, cmap='bwr', vmin=-1, vmax=1)\n",
    "\n",
    "plt.figure(figsize=(10,80))\n",
    "for i in range(len(gene_names)):\n",
    "    plt.subplot(30,3,i+1)\n",
    "    plt.imshow(g[:200, :200, i], cmap='bwr', vmin=-1, vmax=1)\n",
    "    plt.title(gene_names[i])\n",
    "plt.tight_layout()"
   ]
  },
  {
   "attachments": {},
   "cell_type": "markdown",
   "metadata": {},
   "source": [
    "# Run OMP\n",
    "Run `iss extract` to start Slurm jobs to run OMP on each tile:\n",
    "\n",
    "`iss extract -p becalia_rabies_barseq/BRYC65.1d/chamber_13/`\n",
    "\n",
    "# Run basecalling\n",
    "\n",
    "`iss basecall -p becalia_rabies_barseq/BRYC65.1d/chamber_13/`\n",
    "\n",
    "Then merge barcodes across tiles and align to gene rounds:\n",
    "\n",
    "`iss align-barcodes -p becalia_rabies_barseq/BRYC65.1d/chamber_13/`\n"
   ]
  },
  {
   "cell_type": "markdown",
   "metadata": {},
   "source": [
    "# Merge OMP output"
   ]
  },
  {
   "cell_type": "code",
   "execution_count": null,
   "metadata": {},
   "outputs": [],
   "source": [
    "shift_right, shift_down, tile_shape = iss.pipeline.register_adjacent_tiles(\n",
    "    data_path, ref_coors=ops['ref_tile'], prefix='genes_round_1_1'\n",
    ")\n",
    "for iroi in range(8):\n",
    "    spots = iss.pipeline.merge_roi_spots(data_path, shift_right, shift_down, tile_shape, iroi=iroi+1)\n",
    "    save_path = Path(PARAMETERS['data_root']['processed']) / data_path / f'gene_spots_{iroi+1}.pkl' \n",
    "    spots.to_pickle(save_path)"
   ]
  },
  {
   "attachments": {},
   "cell_type": "markdown",
   "metadata": {},
   "source": [
    "# Plot some barcodes and genes"
   ]
  },
  {
   "cell_type": "code",
   "execution_count": null,
   "metadata": {},
   "outputs": [],
   "source": [
    "import pandas as pd\n",
    "all_spots = []\n",
    "genes_spots = []\n",
    "for i, roi in enumerate(ops[\"use_rois\"]):\n",
    "    save_path = processed_path / data_path / f'barcode_spots_{roi}.pkl' \n",
    "    these_spots = pd.read_pickle(save_path)\n",
    "    these_spots[\"roi\"] = roi\n",
    "    all_spots.append(these_spots)\n",
    "    these_spots = pd.read_pickle(processed_path / data_path / f'gene_spots_{roi}.pkl' )\n",
    "    these_spots[\"roi\"] = roi\n",
    "    genes_spots.append(these_spots)\n",
    "\n",
    "spots = pd.concat(all_spots)\n",
    "genes_spots = pd.concat(genes_spots)\n",
    "\n",
    "spots = iss.call.correct_barcode_sequences(\n",
    "    spots[(spots[\"dot_product_score\"]>0.2) & (spots[\"spot_score\"]>0.8)], \n",
    "    max_edit_distance=1\n",
    ")\n",
    "\n",
    "from itertools import cycle\n",
    "from matplotlib import rcParams\n",
    "plt.style.use(\"default\")\n",
    "\n",
    "fig = plt.figure(figsize=(20, 40), dpi=300)\n",
    "fig.patch.set_facecolor('black')\n",
    "\n",
    "\n",
    "sequence_counts = spots['corrected_bases'].value_counts()\n",
    "xmax = spots['x'].max()\n",
    "ymax = spots['y'].max()\n",
    "genes = genes_spots['gene'].unique()\n",
    "prop_cycle = plt.rcParams['axes.prop_cycle']\n",
    "rois = genes_spots['roi'].unique()\n",
    "genes_to_plot = [ 'Crym', 'Ctgf', 'Igfbp4', 'Lamp5' ,'Lypd1', 'Npy', 'Rgs4', 'Necab1', 'Cck', 'Myl4' ,'Th']\n",
    "for iseq, seq in enumerate(sequence_counts.index[:6]):\n",
    "    plt.subplot(10,1,iseq+1)\n",
    "    plt.title(seq, color='white')\n",
    "    plt.gca().set_aspect('equal', 'box')\n",
    "    plt.gca().set_facecolor('black')\n",
    "    colors = cycle(['deepskyblue', 'darkorange', 'forestgreen', 'royalblue', 'magenta', 'coral', 'gold', 'mediumorchid', 'red', 'lawngreen'])\n",
    "\n",
    "    for gene in genes_to_plot:\n",
    "        c = next(colors)\n",
    "        alpha = np.min([ 1e5 / np.sum(genes_spots['gene']==gene), 0.2 ])\n",
    "        for iroi, roi in enumerate(rois):            \n",
    "            plt.plot(\n",
    "                genes_spots[(genes_spots['gene']==gene) & (genes_spots['roi']==roi)]['x'] + iroi*60000,\n",
    "                genes_spots[(genes_spots['gene']==gene) & (genes_spots['roi']==roi)]['y'],\n",
    "                ',',\n",
    "                c=c,  \n",
    "                alpha=alpha,\n",
    "            )   \n",
    "    for iroi, roi in enumerate(rois):    \n",
    "        this_barcode = spots[(spots['corrected_bases'] == seq) & (spots['roi']==roi)]\n",
    "        plt.plot(\n",
    "            this_barcode['x'] + iroi*60000,\n",
    "            this_barcode['y'],        \n",
    "            's',\n",
    "            markersize=0.2,\n",
    "            c='white',\n",
    "        )\n",
    "    plt.axis('off')\n",
    "    plt.gca().invert_yaxis()\n",
    "    plt.tight_layout()"
   ]
  },
  {
   "attachments": {},
   "cell_type": "markdown",
   "metadata": {},
   "source": [
    "# Generate an overview image and segment cells\n",
    "\n",
    "Test segmentation parameters:\n"
   ]
  },
  {
   "cell_type": "code",
   "execution_count": null,
   "metadata": {},
   "outputs": [],
   "source": [
    "roi = 1\n",
    "stitched_stack_dapi, stitched_stack_genes, angle, shift = iss.pipeline.stitch_and_register(\n",
    "    data_path, 'genes_round_1_1', 'DAPI_1', roi=roi, downsample=5\n",
    ")"
   ]
  },
  {
   "cell_type": "code",
   "execution_count": null,
   "metadata": {},
   "outputs": [],
   "source": [
    "masks = np.load(processed_path / data_path / \"masks_1.npy\")\n",
    "im = np.stack([\n",
    "    stitched_stack_genes[3000:10000, 12000:20000], \n",
    "    stitched_stack_dapi[3000:10000, 12000:20000],\n",
    "    masks[3000:10000, 12000:20000]>0],\n",
    "    axis=2\n",
    ")\n",
    "shift_right, shift_down, tile_shape = iss.pipeline.register_adjacent_tiles(\n",
    "    data_path, ref_coors=ops['ref_tile'], prefix='genes_round_1_1'\n",
    ")\n",
    "spots = iss.pipeline.merge_roi_spots(\n",
    "    data_path, shift_right, shift_down, tile_shape, iroi=roi, prefix=\"genes_round\"\n",
    ")\n",
    "plt.figure(figsize=(50,50))\n",
    "plt.imshow(iss.vis.to_rgb(im, colors=[[1,0,0], [0,0,1], [0, 1, 0]], vmax=[400, 200, 1], vmin=np.array([30, 0, 0])))\n",
    "plt.plot(spots[\"x\"]-12000, spots[\"y\"]-3000, '.r', alpha=1, markersize=0.5)\n",
    "plt.xlim([0, 8000])\n",
    "plt.ylim([7000, 0])\n",
    "plt.axis(\"off\")"
   ]
  },
  {
   "cell_type": "code",
   "execution_count": null,
   "metadata": {},
   "outputs": [],
   "source": [
    "from cellpose.models import CellposeModel\n",
    "from cellpose.plot import mask_rgb\n",
    "\n",
    "model = CellposeModel(gpu=True, model_type='cyto', net_avg=False)\n",
    "masks, flows, styles = model.eval(\n",
    "    stitched_stack_dapi[11000:12000, 5000:6000],\n",
    "    rescale=0.55,\n",
    "    channels=[0,0],\n",
    "    flow_threshold=0.4,\n",
    "    tile=True\n",
    ")\n",
    "plt.figure(figsize=(10,5))\n",
    "plt.subplot(1,2,1)\n",
    "plt.imshow(stitched_stack_dapi[11000:12000, 5000:6000], vmax=1000)\n",
    "plt.subplot(1,2,2)\n",
    "plt.imshow(mask_rgb(masks))"
   ]
  },
  {
   "attachments": {},
   "cell_type": "markdown",
   "metadata": {},
   "source": [
    "# Run batch segmentation:\n",
    "\n",
    "`iss segment-all -p $DATAPATH -n $PREFIX`\n",
    "\n",
    "# Align hybridisation rounds"
   ]
  },
  {
   "cell_type": "code",
   "execution_count": null,
   "metadata": {},
   "outputs": [],
   "source": [
    "stack = iss.io.load_tile_by_coors(\n",
    "    data_path, tile_coors=ops[\"ref_tile\"], suffix=ops[\"projection\"], prefix=\"hybridisation_1_1\"\n",
    ")"
   ]
  },
  {
   "cell_type": "code",
   "execution_count": null,
   "metadata": {},
   "outputs": [],
   "source": [
    "tforms = np.load(processed_path / data_path / \"tforms_barcode_round.npz\")"
   ]
  },
  {
   "cell_type": "code",
   "execution_count": null,
   "metadata": {},
   "outputs": [],
   "source": [
    "import scipy\n",
    "ref_ch = 0\n",
    "scales = tforms[\"scales_between_channels\"]\n",
    "verbose = True\n",
    "upsample = 5\n",
    "threshold_quantile = 0.1\n",
    "\n",
    "nch = stack.shape[2]\n",
    "angles = []\n",
    "shifts = []\n",
    "ref_thresh = np.quantile(stack[:,:,ref_ch], threshold_quantile)\n",
    "for ich in range(nch):\n",
    "    if ref_ch != ich:\n",
    "        thresh = np.quantile(stack[:,:,ich], threshold_quantile)\n",
    "        angle, shift = iss.reg.estimate_rotation_translation(\n",
    "            stack[:,:,ref_ch]>ref_thresh,\n",
    "            iss.reg.transform_image(stack[:,:,ich]>thresh, scale=scales[ich]),\n",
    "            angle_range=2.0,\n",
    "            niter=3,\n",
    "            nangles=21,\n",
    "        )\n",
    "    else:\n",
    "        angle, shift = 0.0, [0.0, 0.0]\n",
    "    angles.append(angle)\n",
    "    shifts.append(shift)\n",
    "    print(f\"Channel {ich} angle: {angle}, shift: {shift}\", flush=True)\n"
   ]
  },
  {
   "cell_type": "code",
   "execution_count": null,
   "metadata": {},
   "outputs": [],
   "source": [
    "stack = iss.io.load_tile_by_coors(\n",
    "    data_path, tile_coors=(1,10,8), suffix=ops[\"projection\"], prefix=\"hybridisation_1_1\"\n",
    ")\n",
    "for ich in range(nch):\n",
    "    stack[:,:,ich] = iss.reg.transform_image(\n",
    "        stack[:,:,ich], scale=scales[ich], angle=angles[ich], shift=shifts[ich]\n",
    "    )\n",
    "plt.figure(figsize=(10,10))\n",
    "plt.imshow(\n",
    "    iss.vis.to_rgb(\n",
    "        stack, colors=[[1,0,0], [0,1,0], [0,1,1], [1,0,1]], vmax=[200, 400, 400, 300]\n",
    "    )[:1000,:1000,:]\n",
    ")"
   ]
  },
  {
   "cell_type": "code",
   "execution_count": null,
   "metadata": {},
   "outputs": [],
   "source": [
    "dapi_stack = iss.io.load_tile_by_coors(\n",
    "    data_path, tile_coors=ops[\"ref_tile\"], suffix=ops[\"projection\"], prefix=\"DAPI_1\"\n",
    ")\n",
    "genes_stack = iss.io.load_tile_by_coors(\n",
    "    data_path, tile_coors=ops[\"ref_tile\"], suffix=ops[\"projection\"], prefix=\"genes_round_1_1\"\n",
    ")"
   ]
  },
  {
   "cell_type": "code",
   "execution_count": null,
   "metadata": {},
   "outputs": [],
   "source": [
    "ref_ch = 0\n",
    "threshold_quantile = 0.9\n",
    "\n",
    "ref_thresh = np.quantile(genes_stack[:,:,ref_ch], threshold_quantile)\n",
    "target_thresh = np.quantile(dapi_stack[:,:,ref_ch], threshold_quantile)\n",
    "\n",
    "angle, shift = iss.reg.estimate_rotation_translation(\n",
    "    genes_stack[:,:,ref_ch]>ref_thresh,\n",
    "    dapi_stack[:,:,0]>target_thresh,\n",
    "    angle_range=2.0,\n",
    "    niter=3,\n",
    "    nangles=21,\n",
    "    min_shift=2\n",
    ")"
   ]
  }
 ],
 "metadata": {
  "kernelspec": {
   "display_name": "Python 3 (ipykernel)",
   "language": "python",
   "name": "python3"
  },
  "language_info": {
   "codemirror_mode": {
    "name": "ipython",
    "version": 3
   },
   "file_extension": ".py",
   "mimetype": "text/x-python",
   "name": "python",
   "nbconvert_exporter": "python",
   "pygments_lexer": "ipython3",
   "version": "3.10.2 | packaged by conda-forge | (main, Feb  1 2022, 19:28:35) [GCC 9.4.0]"
  },
  "vscode": {
   "interpreter": {
    "hash": "8bb836ee7a7f920788b20d5854d92bd801c5e73de6597884fa98bb264343fff7"
   }
  }
 },
 "nbformat": 4,
 "nbformat_minor": 2
}
