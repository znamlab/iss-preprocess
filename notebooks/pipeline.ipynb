{
 "cells": [
  {
   "attachments": {},
   "cell_type": "markdown",
   "metadata": {},
   "source": [
    "# Compute projections\n",
    "Best options is to run `iss project-round` command after each acquisition:\n",
    "\n",
    "`DATAPATH=BARseq/FIAA48.1b/chambre_03_random`\n",
    "\n",
    "`iss project-round -p $DATAPATH -n $PREFIX`\n",
    "\n",
    "where `$DATAPATH` is the path to the data relative to raw data root and `$PREFIX` is the file name prefix and directory name of the round, e.g. `genes_round_1_1`.\n",
    "\n",
    "This will also start a \"plot_overview\" job for each round, which will generate a plot of the projected data.\n",
    "Use this to select a few tiles to use for registration and change `ops.yml` to add these tiles."
   ]
  },
  {
   "cell_type": "markdown",
   "metadata": {},
   "source": [
    "## Import requirements"
   ]
  },
  {
   "cell_type": "code",
   "execution_count": null,
   "metadata": {},
   "outputs": [],
   "source": [
    "%load_ext autoreload\n",
    "%autoreload 2"
   ]
  },
  {
   "cell_type": "code",
   "execution_count": null,
   "metadata": {},
   "outputs": [],
   "source": [
    "import iss_preprocess as iss\n",
    "import numpy as np\n",
    "import matplotlib.pyplot as plt\n",
    "from flexiznam.config import PARAMETERS\n",
    "from pathlib import Path\n",
    "from itertools import cycle\n",
    "from matplotlib.animation import FuncAnimation"
   ]
  },
  {
   "attachments": {},
   "cell_type": "markdown",
   "metadata": {},
   "source": [
    "## Set path and load options"
   ]
  },
  {
   "cell_type": "code",
   "execution_count": null,
   "metadata": {},
   "outputs": [],
   "source": [
    "data_path = \"becalia_rabies_barseq/BRYC65.1d/chamber_13/\"\n",
    "data_path = \"BARseq/FIAA48.1b/chambre_03_random\"\n",
    "data_path = \"karapir_barseq_5ht/FIAA48.1b/chambre_03_random\"\n",
    "processed_path = iss.io.get_processed_path(data_path)\n",
    "ops = iss.io.load_ops(data_path)\n",
    "metadata = iss.io.load_metadata(data_path)"
   ]
  },
  {
   "cell_type": "code",
   "execution_count": null,
   "metadata": {},
   "outputs": [],
   "source": [
    "ops[\"anchor_binarise_quantile\"] is not None"
   ]
  },
  {
   "attachments": {},
   "cell_type": "markdown",
   "metadata": {},
   "source": [
    "# Illumination correction\n",
    "\n",
    "Illumination correction is done in two steps: \n",
    "\n",
    "- Average each acquisition folder:\n",
    "\n",
    "This can be done with: `iss create-all-single-averages -p $DATAPATH`\n",
    "\n",
    "- Average all acquisition averages for each \"round\" type of data\n",
    "\n",
    "This can be done with: `iss create-grand-averages -p $DATAPATH`\n",
    "\n",
    "One can also generate some summary diagnostic plot that will be saved in the `figures`\n",
    "subfolder of `data_path`"
   ]
  },
  {
   "cell_type": "code",
   "execution_count": null,
   "metadata": {},
   "outputs": [],
   "source": [
    "# Generate diagnostic plot\n",
    "from iss_preprocess.pipeline import diagnostics\n",
    "\n",
    "# it takes about 2 minutes to run and save all images\n",
    "diagnostics.check_illumination_correction(\n",
    "    data_path, grand_averages=(\"genes_round\",), verbose=False\n",
    ")"
   ]
  },
  {
   "cell_type": "markdown",
   "metadata": {},
   "source": [
    "# Normalise channels and rounds\n",
    "\n",
    "Will try to normalise rolonie brightness across rounds and channels. \n",
    "\n",
    "`iss setup-channel-correction -p $DATAPATH`"
   ]
  },
  {
   "cell_type": "code",
   "execution_count": null,
   "metadata": {},
   "outputs": [],
   "source": [
    "# You can redo it here to get a plot:\n",
    "pixel_dist, norm_factors, norm_factors_raw = iss.pipeline.estimate_channel_correction(\n",
    "    data_path,\n",
    "    prefix=\"barcode_round\",\n",
    "    nrounds=ops[\"barcode_rounds\"],\n",
    "    fit_norm_factors=ops[\"fit_channel_correction\"],\n",
    ")\n",
    "plt.figure()\n",
    "plt.plot(norm_factors.T)\n",
    "plt.gca().set_prop_cycle(None)\n",
    "plt.plot(norm_factors_raw.T, \"o\")"
   ]
  },
  {
   "cell_type": "markdown",
   "metadata": {},
   "source": [
    "# Register sequencing rounds\n",
    "\n",
    "It has 3 steps:\n",
    "\n",
    "- Register reference tile\n",
    "- Register all tiles using reference tile initial estimate\n",
    "- Correct shifts\n",
    "\n",
    "## Register reference tile\n",
    "\n",
    "It can be done simply with:\n",
    "\n",
    "`iss register-ref-tile -p $DATAPATH`\n",
    "\n",
    "Or from the notebook:"
   ]
  },
  {
   "cell_type": "code",
   "execution_count": null,
   "metadata": {},
   "outputs": [],
   "source": [
    "iss.pipeline.register_reference_tile(\n",
    "    data_path,\n",
    "    prefix=\"genes_round\",\n",
    "    use_slurm=True,\n",
    "    slurm_folder=\"/camp/home/znamenp/slurm_logs\",\n",
    "    slurm_options={\"mem\": \"128G\", \"cpus-per-task\": 4, \"time\": \"24:00:00\"},\n",
    "    scripts_name=\"razi_register_reference_tile\",\n",
    ")"
   ]
  },
  {
   "cell_type": "markdown",
   "metadata": {},
   "source": [
    "# Check registration"
   ]
  },
  {
   "cell_type": "code",
   "execution_count": null,
   "metadata": {},
   "outputs": [],
   "source": [
    "iss.pipeline.diagnostics.check_ref_tile_registration(\n",
    "    data_path,\n",
    "    prefix=\"genes_round\",\n",
    ")"
   ]
  },
  {
   "attachments": {},
   "cell_type": "markdown",
   "metadata": {},
   "source": [
    "Start a registration jobs for the reference tile for genes and barcodes:\n",
    "\n",
    "`iss register-ref-tile -p $DATAPATH -n genes_round`\n",
    "\n",
    "`iss register-ref-tile -p $DATAPATH -n barcode_round`\n",
    "\n",
    "where `$DATAPATH` is the path to the data relative to raw data root\n",
    "\n",
    "Next, estimate shifts for individual tiles:\n",
    "\n",
    "`iss estimate-shifts -p $DATAPATH -n barcode_round`\n",
    "\n",
    "`iss estimate-shifts -p $DATAPATH -n genes_round`\n",
    "\n",
    "Finally, calculate robust regression corrected shifts:\n",
    "\n",
    "`iss correct-shifts -p $DATAPATH -n barcode_round`\n",
    "\n",
    "`iss correct-shifts -p $DATAPATH -n genes_round`"
   ]
  },
  {
   "attachments": {},
   "cell_type": "markdown",
   "metadata": {},
   "source": [
    "# Prepare parameters for OMP and barcode calling\n",
    "\n",
    "`iss setup-omp -p $DATAPATH`\n",
    "\n",
    "`iss setup-barcodes -p $DATAPATH`"
   ]
  },
  {
   "attachments": {},
   "cell_type": "markdown",
   "metadata": {},
   "source": [
    "# Re-compute average spot image\n",
    "\n",
    "Run OMP on the reference tile and detect spots to generate a new spot sign image.\n",
    "\n",
    "`iss spot-image -p becalia_rabies_barseq/BRYC65.1d/chamber_13/`"
   ]
  },
  {
   "attachments": {},
   "cell_type": "markdown",
   "metadata": {},
   "source": [
    "# Check barcode threshold"
   ]
  },
  {
   "cell_type": "code",
   "execution_count": null,
   "metadata": {},
   "outputs": [],
   "source": [
    "stack, bad_pixels = iss.pipeline.load_and_register_tile(\n",
    "    data_path,\n",
    "    ops[\"ref_tile\"],\n",
    "    filter_r=ops[\"filter_r\"],\n",
    "    prefix=\"barcode_round\",\n",
    "    suffix=ops[\"barcode_projection\"],\n",
    "    nrounds=10,\n",
    "    correct_channels=ops[\"barcode_correct_channels\"],\n",
    "    corrected_shifts=True,\n",
    "    correct_illumination=True,\n",
    ")\n",
    "spots = iss.segment.detect_spots(np.mean(stack, axis=(2, 3)), threshold=0.1)\n",
    "plt.figure(figsize=(10, 10))\n",
    "plt.imshow(np.mean(stack, axis=(2, 3)), cmap=\"bwr\", vmin=-0.1, vmax=0.1)\n",
    "plt.plot(spots[\"x\"], spots[\"y\"], \".k\", markersize=0.5)"
   ]
  },
  {
   "attachments": {},
   "cell_type": "markdown",
   "metadata": {},
   "source": [
    "# Run OMP\n",
    "Run `iss extract` to start Slurm jobs to run OMP on each tile:\n",
    "\n",
    "`iss extract -p becalia_rabies_barseq/BRYC65.1d/chamber_13/`\n",
    "\n",
    "# Run basecalling\n",
    "\n",
    "`iss basecall -p becalia_rabies_barseq/BRYC65.1d/chamber_13/`\n",
    "\n",
    "\n",
    "# Register to reference\n",
    "\n",
    "To register barcodes to the reference `genes_round_1_1`, we estimate the shift and \n",
    "angle at each tile:\n",
    "\n",
    "`iss register-to-reference -p becalia_rabies_barseq/BRYC65.1d/chamber_13 -n barcode_round`\n",
    "\n",
    "Then the shifts estimates are corrected using robust regression:\n",
    "\n",
    "`iss correct-ref-shifts -p becalia_rabies_barseq/BRYC65.1d/chamber_13 -g barcode_round`\n",
    "\n",
    "And plot diagnostic plot if wanted:"
   ]
  },
  {
   "cell_type": "code",
   "execution_count": null,
   "metadata": {},
   "outputs": [],
   "source": [
    "from iss_preprocess.pipeline.diagnostics import reg_to_ref_estimation\n",
    "\n",
    "reg_to_ref_estimation(data_path, prefix=\"barcode_round\")"
   ]
  },
  {
   "cell_type": "markdown",
   "metadata": {},
   "source": [
    "\n",
    "Then merge barcodes across tiles and align to gene rounds:\n",
    "\n",
    "`iss align-spots -p becalia_rabies_barseq/BRYC65.1d/chamber_13/ -s barcode_round -g barcode_round_1_1 -r genes_round_1_1`\n"
   ]
  },
  {
   "cell_type": "markdown",
   "metadata": {},
   "source": [
    "# Merge OMP output\n",
    "\n",
    "`iss align-spots -p karapir_barseq_5ht/FIAA48.1b/chambre_03_random -s genes_round -g genes_round_1_1 -r genes_round_1_1`"
   ]
  },
  {
   "attachments": {},
   "cell_type": "markdown",
   "metadata": {},
   "source": [
    "# Plot some barcodes and genes"
   ]
  },
  {
   "cell_type": "code",
   "execution_count": null,
   "metadata": {},
   "outputs": [],
   "source": [
    "import pandas as pd\n",
    "\n",
    "all_spots = []\n",
    "genes_spots = []\n",
    "roi_dims = iss.io.get_roi_dimensions(data_path)\n",
    "for i, roi in enumerate(roi_dims[:, 0]):\n",
    "    # save_path = processed_path / f\"barcode_round_spots_{roi}.pkl\"\n",
    "    # these_spots = pd.read_pickle(save_path)\n",
    "    # these_spots[\"roi\"] = roi\n",
    "    # all_spots.append(these_spots)\n",
    "    these_spots = pd.read_pickle(processed_path / f\"genes_round_spots_{roi}.pkl\")\n",
    "    these_spots[\"roi\"] = roi\n",
    "    genes_spots.append(these_spots)\n",
    "\n",
    "# spots = pd.concat(all_spots, ignore_index=True)\n",
    "genes_spots = pd.concat(genes_spots, ignore_index=True)"
   ]
  },
  {
   "cell_type": "code",
   "execution_count": null,
   "metadata": {},
   "outputs": [],
   "source": [
    "genes = genes_spots[\"gene\"].unique()\n",
    "rois = genes_spots[\"roi\"].unique()"
   ]
  },
  {
   "cell_type": "code",
   "execution_count": null,
   "metadata": {},
   "outputs": [],
   "source": [
    "xmax = genes_spots[\"x\"].max()\n",
    "fig = plt.figure(figsize=(10, 120), dpi=300)\n",
    "fig.patch.set_facecolor(\"black\")\n",
    "colors = cycle(\n",
    "    [\n",
    "        \"deepskyblue\",\n",
    "        \"darkorange\",\n",
    "        \"forestgreen\",\n",
    "        \"royalblue\",\n",
    "        \"magenta\",\n",
    "        \"coral\",\n",
    "        \"gold\",\n",
    "        \"mediumorchid\",\n",
    "        \"red\",\n",
    "        \"lawngreen\",\n",
    "    ]\n",
    ")\n",
    "for igene, gene in enumerate(genes):\n",
    "    plt.subplot(len(genes), 1, igene + 1)\n",
    "    this_gene = genes_spots[\n",
    "        (genes_spots[\"gene\"] == gene) & (genes_spots[\"spot_score\"] > 0.2)\n",
    "    ]\n",
    "    alpha = np.min([2e5 / (this_gene.shape[0] + 1), 1])\n",
    "    c = next(colors)\n",
    "    for iroi, roi in enumerate(rois):\n",
    "        plt.plot(\n",
    "            this_gene[this_gene[\"roi\"] == roi][\"x\"] + iroi * xmax * 1.1,\n",
    "            this_gene[this_gene[\"roi\"] == roi][\"y\"],\n",
    "            \",\",\n",
    "            c=c,\n",
    "            alpha=alpha,\n",
    "        )\n",
    "    plt.title(gene, color=\"white\")\n",
    "    plt.gca().set_aspect(\"equal\", \"box\")\n",
    "    plt.gca().invert_yaxis()\n",
    "    plt.axis(\"off\")\n",
    "    plt.gca().set_facecolor(\"black\")\n",
    "\n",
    "(processed_path / \"figures\" / \"genes\").mkdir(exist_ok=True, parents=True)\n",
    "plt.savefig(processed_path / \"figures\" / \"genes\" / f\"all_genes.png\")"
   ]
  },
  {
   "cell_type": "code",
   "execution_count": null,
   "metadata": {},
   "outputs": [],
   "source": [
    "from itertools import cycle\n",
    "from matplotlib import rcParams\n",
    "\n",
    "plt.style.use(\"default\")\n",
    "\n",
    "fig = plt.figure(figsize=(20, 40), dpi=300)\n",
    "fig.patch.set_facecolor(\"black\")\n",
    "\n",
    "xmax = genes_spots[\"x\"].max()\n",
    "ymax = genes_spots[\"y\"].max()\n",
    "genes = genes_spots[\"gene\"].unique()\n",
    "prop_cycle = plt.rcParams[\"axes.prop_cycle\"]\n",
    "rois = genes_spots[\"roi\"].unique()\n",
    "colors = cycle(\n",
    "    [\n",
    "        \"deepskyblue\",\n",
    "        \"darkorange\",\n",
    "        \"forestgreen\",\n",
    "        \"royalblue\",\n",
    "        \"magenta\",\n",
    "        \"coral\",\n",
    "        \"gold\",\n",
    "        \"mediumorchid\",\n",
    "        \"red\",\n",
    "        \"lawngreen\",\n",
    "    ]\n",
    ")\n",
    "\n",
    "for gene in genes:\n",
    "    c = next(colors)\n",
    "    alpha = np.min([1e5 / np.sum(genes_spots[\"gene\"] == gene), 0.2])\n",
    "    for iroi, roi in enumerate(rois):\n",
    "        plt.plot(\n",
    "            genes_spots[(genes_spots[\"gene\"] == gene) & (genes_spots[\"roi\"] == roi)][\n",
    "                \"x\"\n",
    "            ]\n",
    "            + iroi * 60000,\n",
    "            genes_spots[(genes_spots[\"gene\"] == gene) & (genes_spots[\"roi\"] == roi)][\n",
    "                \"y\"\n",
    "            ],\n",
    "            \",\",\n",
    "            c=c,\n",
    "            alpha=alpha,\n",
    "        )\n",
    "plt.gca().set_aspect(\"equal\", \"box\")\n",
    "plt.gca().set_facecolor(\"black\")\n",
    "plt.axis(\"off\")\n",
    "plt.gca().invert_yaxis()\n",
    "plt.tight_layout()"
   ]
  },
  {
   "cell_type": "code",
   "execution_count": null,
   "metadata": {},
   "outputs": [],
   "source": [
    "spots = iss.call.correct_barcode_sequences(\n",
    "    spots[spots[\"dot_product_score\"] > 0.25], max_edit_distance=1\n",
    ")\n",
    "\n",
    "from itertools import cycle\n",
    "from matplotlib import rcParams\n",
    "\n",
    "plt.style.use(\"default\")\n",
    "\n",
    "fig = plt.figure(figsize=(20, 40), dpi=300)\n",
    "fig.patch.set_facecolor(\"black\")\n",
    "\n",
    "sequence_counts = spots[\"corrected_bases\"].value_counts()\n",
    "xmax = spots[\"x\"].max()\n",
    "ymax = spots[\"y\"].max()\n",
    "genes = genes_spots[\"gene\"].unique()\n",
    "prop_cycle = plt.rcParams[\"axes.prop_cycle\"]\n",
    "rois = genes_spots[\"roi\"].unique()\n",
    "genes_to_plot = [\n",
    "    \"Crym\",\n",
    "    \"Ctgf\",\n",
    "    \"Igfbp4\",\n",
    "    \"Lamp5\",\n",
    "    \"Lypd1\",\n",
    "    \"Npy\",\n",
    "    \"Rgs4\",\n",
    "    \"Necab1\",\n",
    "    \"Cck\",\n",
    "    \"Myl4\",\n",
    "    \"Th\",\n",
    "]\n",
    "for iseq, seq in enumerate(sequence_counts.index[:8]):\n",
    "    plt.subplot(10, 1, iseq + 1)\n",
    "    plt.title(seq, color=\"white\")\n",
    "    plt.gca().set_aspect(\"equal\", \"box\")\n",
    "    plt.gca().set_facecolor(\"black\")\n",
    "    colors = cycle(\n",
    "        [\n",
    "            \"deepskyblue\",\n",
    "            \"darkorange\",\n",
    "            \"forestgreen\",\n",
    "            \"royalblue\",\n",
    "            \"magenta\",\n",
    "            \"coral\",\n",
    "            \"gold\",\n",
    "            \"mediumorchid\",\n",
    "            \"red\",\n",
    "            \"lawngreen\",\n",
    "        ]\n",
    "    )\n",
    "\n",
    "    # for gene in genes_to_plot:\n",
    "    #     c = next(colors)\n",
    "    #     alpha = np.min([ 1e5 / np.sum(genes_spots['gene']==gene), 0.2 ])\n",
    "    #     for iroi, roi in enumerate(rois):\n",
    "    #         plt.plot(\n",
    "    #             genes_spots[(genes_spots['gene']==gene) & (genes_spots['roi']==roi)]['x'] + iroi*60000,\n",
    "    #             genes_spots[(genes_spots['gene']==gene) & (genes_spots['roi']==roi)]['y'],\n",
    "    #             ',',\n",
    "    #             c=c,\n",
    "    #             alpha=alpha,\n",
    "    #         )\n",
    "    for iroi, roi in enumerate(rois):\n",
    "        this_barcode = spots[(spots[\"corrected_bases\"] == seq) & (spots[\"roi\"] == roi)]\n",
    "        plt.plot(\n",
    "            this_barcode[\"x\"] + iroi * 60000,\n",
    "            this_barcode[\"y\"],\n",
    "            \"s\",\n",
    "            markersize=0.2,\n",
    "            c=\"white\",\n",
    "        )\n",
    "    plt.axis(\"off\")\n",
    "    plt.gca().invert_yaxis()\n",
    "    plt.tight_layout()"
   ]
  },
  {
   "attachments": {},
   "cell_type": "markdown",
   "metadata": {},
   "source": [
    "# Generate an overview image and segment cells\n",
    "\n",
    "Test segmentation parameters:\n"
   ]
  },
  {
   "cell_type": "code",
   "execution_count": null,
   "metadata": {},
   "outputs": [],
   "source": [
    "roi = 5\n",
    "(\n",
    "    stitched_stack_dapi,\n",
    "    stitched_stack_genes,\n",
    "    angle,\n",
    "    shift,\n",
    ") = iss.pipeline.stitch_and_register(\n",
    "    data_path, \"genes_round_1_1\", \"barcode_round_10_1\", roi=roi, downsample=5\n",
    ")"
   ]
  },
  {
   "cell_type": "code",
   "execution_count": null,
   "metadata": {},
   "outputs": [],
   "source": [
    "masks = np.load(processed_path / data_path / \"masks_1.npy\")\n",
    "im = np.stack(\n",
    "    [\n",
    "        stitched_stack_genes[3000:10000, 12000:20000],\n",
    "        stitched_stack_dapi[3000:10000, 12000:20000],\n",
    "        masks[3000:10000, 12000:20000] > 0,\n",
    "    ],\n",
    "    axis=2,\n",
    ")\n",
    "shift_right, shift_down, tile_shape = iss.pipeline.register_adjacent_tiles(\n",
    "    data_path, ref_coors=ops[\"ref_tile\"], prefix=\"genes_round_1_1\"\n",
    ")\n",
    "spots = iss.pipeline.merge_roi_spots(\n",
    "    data_path, shift_right, shift_down, tile_shape, iroi=roi, prefix=\"genes_round\"\n",
    ")\n",
    "plt.figure(figsize=(50, 50))\n",
    "plt.imshow(\n",
    "    iss.vis.to_rgb(\n",
    "        im,\n",
    "        colors=[[1, 0, 0], [0, 0, 1], [0, 1, 0]],\n",
    "        vmax=[400, 200, 1],\n",
    "        vmin=np.array([30, 0, 0]),\n",
    "    )\n",
    ")\n",
    "plt.plot(spots[\"x\"] - 12000, spots[\"y\"] - 3000, \".r\", alpha=1, markersize=0.5)\n",
    "plt.xlim([0, 8000])\n",
    "plt.ylim([7000, 0])\n",
    "plt.axis(\"off\")"
   ]
  },
  {
   "cell_type": "code",
   "execution_count": null,
   "metadata": {},
   "outputs": [],
   "source": [
    "from cellpose.models import CellposeModel\n",
    "from cellpose.plot import mask_rgb\n",
    "\n",
    "model = CellposeModel(gpu=True, model_type=\"cyto\", net_avg=False)\n",
    "masks, flows, styles = model.eval(\n",
    "    stitched_stack_dapi[11000:12000, 5000:6000],\n",
    "    rescale=0.55,\n",
    "    channels=[0, 0],\n",
    "    flow_threshold=0.4,\n",
    "    tile=True,\n",
    ")\n",
    "plt.figure(figsize=(10, 5))\n",
    "plt.subplot(1, 2, 1)\n",
    "plt.imshow(stitched_stack_dapi[11000:12000, 5000:6000], vmax=1000)\n",
    "plt.subplot(1, 2, 2)\n",
    "plt.imshow(mask_rgb(masks))"
   ]
  },
  {
   "attachments": {},
   "cell_type": "markdown",
   "metadata": {},
   "source": [
    "# Run batch segmentation:\n",
    "\n",
    "`iss segment-all -p $DATAPATH -n $PREFIX`\n",
    "\n",
    "# Align hybridisation rounds\n",
    "To run all hybridisation rounds listed in metadata:\n",
    "\n",
    "`iss estimate-hyb-shifts -p becalia_rabies_barseq/BRYC65.1d/chamber_13/`\n",
    "\n",
    "`iss correct_hyb_shifts -p becalia_rabies_barseq/BRYC65.1d/chamber_13/`\n",
    "\n",
    "To run a specific round, e.g. anchor round:\n",
    "\n",
    "`iss estimate-hyb-shifts -p becalia_rabies_barseq/BRYC65.1d/chamber_13/ -n hybridisation_3_1`\n",
    "\n",
    "`iss correct_hyb_shifts -p becalia_rabies_barseq/BRYC65.1d/chamber_13/ -n hybridisation_3_1`\n"
   ]
  },
  {
   "cell_type": "code",
   "execution_count": null,
   "metadata": {},
   "outputs": [],
   "source": [
    "iss.pipeline.setup_hyb_spot_calling(data_path)"
   ]
  },
  {
   "attachments": {},
   "cell_type": "markdown",
   "metadata": {},
   "source": [
    "# Check hyb spot detection threshold"
   ]
  },
  {
   "cell_type": "code",
   "execution_count": null,
   "metadata": {},
   "outputs": [],
   "source": [
    "stack, bad_pixels = iss.pipeline.load_and_register_hyb_tile(\n",
    "    data_path,\n",
    "    tile_coors=ops[\"ref_tile\"],\n",
    "    prefix=\"hybridisation_2_1\",\n",
    "    suffix=\"max\",\n",
    "    correct_illumination=True,\n",
    "    correct_channels=True,\n",
    ")\n",
    "\n",
    "spots = iss.segment.detect_spots(np.max(stack, axis=2), threshold=0.5)\n",
    "plt.figure(figsize=(20, 20))\n",
    "plt.imshow(np.max(np.abs(stack), axis=2), vmax=1, vmin=-1, cmap=\"bwr\")\n",
    "plt.plot(spots[\"x\"], spots[\"y\"], \".\", c=\"k\", markersize=3, alpha=0.5)\n",
    "# plt.xlim([1000,2000])\n",
    "# plt.ylim([1000,2000])"
   ]
  },
  {
   "attachments": {},
   "cell_type": "markdown",
   "metadata": {},
   "source": [
    "# Detect hybridisation spots in all tiles\n",
    "\n",
    "`iss hyb-spots -p becalia_rabies_barseq/BRYC65.1d/chamber_13/`\n",
    "\n",
    "`iss align-spots -p becalia_rabies_barseq/BRYC65.1d/chamber_13/ -s hybridisation_1_1 -g hybridisation_1_1 -r genes_round_1_1`\n",
    "\n",
    "`iss align-spots -p becalia_rabies_barseq/BRYC65.1d/chamber_13/ -s hybridisation_2_1 -g hybridisation_2_1 -r genes_round_1_1`\n"
   ]
  }
 ],
 "metadata": {
  "kernelspec": {
   "display_name": "Python 3",
   "language": "python",
   "name": "python3"
  },
  "language_info": {
   "codemirror_mode": {
    "name": "ipython",
    "version": 3
   },
   "file_extension": ".py",
   "mimetype": "text/x-python",
   "name": "python",
   "nbconvert_exporter": "python",
   "pygments_lexer": "ipython3",
   "version": "3.10.2"
  },
  "vscode": {
   "interpreter": {
    "hash": "02c4ab6ff317cb8a885d2aa2247e2bd7c17b0a4a2d1482529ed329ad25df85a1"
   }
  }
 },
 "nbformat": 4,
 "nbformat_minor": 2
}
