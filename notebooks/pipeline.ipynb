{
 "cells": [
  {
   "cell_type": "markdown",
   "metadata": {},
   "source": [
    "# Compute projections\n",
    "Execute `project_roi.sh` shell script to start Slurm jobs to compute tile projections:\n",
    "\n",
    "`./project_roi.sh becalia_rabies_barseq/BRYC65.1d/brain/slide_008/section_02/ 1 8 8 7`"
   ]
  },
  {
   "cell_type": "markdown",
   "metadata": {},
   "source": [
    "# Import requirements"
   ]
  },
  {
   "cell_type": "code",
   "execution_count": null,
   "metadata": {},
   "outputs": [],
   "source": [
    "import iss_preprocess as iss\n",
    "import numpy as np\n",
    "from flexiznam.config import PARAMETERS\n",
    "from pathlib import Path\n",
    "import matplotlib.pyplot as plt\n",
    "import pandas as pd \n",
    "from itertools import cycle"
   ]
  },
  {
   "cell_type": "markdown",
   "metadata": {},
   "source": [
    "# Estimate registration for rounds and channels"
   ]
  },
  {
   "cell_type": "code",
   "execution_count": null,
   "metadata": {},
   "outputs": [],
   "source": [
    "ref_tile = (1,2,7)\n",
    "data_path = 'becalia_rabies_barseq/BRYC65.1d/brain/slide_008/section_02/'\n",
    "processed_path = Path(PARAMETERS['data_root']['processed'])"
   ]
  },
  {
   "cell_type": "code",
   "execution_count": null,
   "metadata": {},
   "outputs": [],
   "source": [
    "stack = iss.pipeline.load_processed_tile(data_path, ref_tile)\n",
    "tforms = iss.reg.register_channels_and_rounds(stack)\n",
    "save_path = processed_path / data_path / 'tforms.npy'\n",
    "np.save(save_path, tforms, allow_pickle=True)"
   ]
  },
  {
   "cell_type": "markdown",
   "metadata": {},
   "source": [
    "# Prepare parameters for OMP"
   ]
  },
  {
   "cell_type": "code",
   "execution_count": null,
   "metadata": {},
   "outputs": [],
   "source": [
    "stack, bad_pixels = iss.pipeline.load_and_register_tile(data_path, ref_tile)\n",
    "gene_dict, gene_names, norm_shift = iss.pipeline.setup_omp(stack)\n",
    "save_path = processed_path / data_path / 'gene_dict.npz'\n",
    "np.savez(save_path, gene_dict=gene_dict, gene_names=gene_names, norm_shift=norm_shift)"
   ]
  },
  {
   "cell_type": "markdown",
   "metadata": {},
   "source": [
    "# Run OMP\n",
    "Execute `extract_roi.sh` shell script to start Slurm jobs to run OMP on each tile:\n",
    "\n",
    "`./extract_roi.sh becalia_rabies_barseq/BRYC65.1d/brain/slide_008/section_02/ 1 8 8`\n",
    "\n",
    "# Merge OMP output"
   ]
  },
  {
   "cell_type": "code",
   "execution_count": null,
   "metadata": {},
   "outputs": [],
   "source": [
    "shift_right, shift_down, tile_shape = iss.pipeline.register_adjacent_tiles(data_path, ref_coors=ref_tile)\n",
    "spots = iss.pipeline.merge_roi_spots(data_path, shift_right, shift_down, tile_shape, (9,9))\n",
    "save_path = Path(PARAMETERS['data_root']['processed']) / data_path / 'gene_spots.pkl' \n",
    "spots.to_pickle(save_path)"
   ]
  },
  {
   "cell_type": "code",
   "execution_count": null,
   "metadata": {},
   "outputs": [],
   "source": [
    "plt.style.use(\"default\")\n",
    "\n",
    "colors = cycle([ 'deepskyblue', 'aquamarine', 'orangered', 'violet', 'forestgreen', 'darkorange'])\n",
    "markers = cycle('ov^<>spPXD*')\n",
    "plt.figure(figsize=(18,120))\n",
    "\n",
    "gene_names = spots['gene'].unique()\n",
    "\n",
    "for igene, gene in enumerate(gene_names):\n",
    "    plt.subplot(30,3,igene+1)\n",
    "    plt.title(gene)\n",
    "    plt.gca().set_aspect('equal', 'box')\n",
    "\n",
    "    plt.plot(\n",
    "        spots[spots['gene'] == gene]['x'],\n",
    "        spots[spots['gene'] == gene]['y'],        \n",
    "        '.',\n",
    "        alpha=0.5,\n",
    "        markersize=0.5\n",
    "    )\n",
    "    plt.gca().invert_yaxis()\n",
    "    plt.axis('off')"
   ]
  },
  {
   "cell_type": "markdown",
   "metadata": {},
   "source": [
    "# Generate an overview image and segment cells"
   ]
  },
  {
   "cell_type": "code",
   "execution_count": null,
   "metadata": {},
   "outputs": [],
   "source": [
    "tile_origins, tile_centers = iss.pipeline.calculate_tile_positions(shift_right, shift_down, tile_shape, (9,9))\n",
    "\n",
    "stitched_stack = iss.pipeline.stitch_tiles(data_path, 'round_01_1', tile_origins, tile_shape)\n",
    "\n",
    "from cellpose.models import CellposeModel\n",
    "model = CellposeModel(gpu=False, model_type='cyto', net_avg=True)\n",
    "masks, flows, styles = model.eval(\n",
    "    stitched_stack,\n",
    "    rescale=.55,\n",
    "    channels=[0,0],\n",
    "    flow_threshold=0.4,\n",
    "    tile=True\n",
    ")\n",
    "np.save(processed_path / data_path / 'masks_1.npy', masks)"
   ]
  }
 ],
 "metadata": {
  "kernelspec": {
   "display_name": "Python 3.10.2 ('iss-preprocess')",
   "language": "python",
   "name": "python3"
  },
  "language_info": {
   "codemirror_mode": {
    "name": "ipython",
    "version": 3
   },
   "file_extension": ".py",
   "mimetype": "text/x-python",
   "name": "python",
   "nbconvert_exporter": "python",
   "pygments_lexer": "ipython3",
   "version": "3.10.2"
  },
  "orig_nbformat": 4,
  "vscode": {
   "interpreter": {
    "hash": "8bb836ee7a7f920788b20d5854d92bd801c5e73de6597884fa98bb264343fff7"
   }
  }
 },
 "nbformat": 4,
 "nbformat_minor": 2
}
