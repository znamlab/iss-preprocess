{
 "cells": [
  {
   "attachments": {},
   "cell_type": "markdown",
   "metadata": {},
   "source": [
    "# Compute projections\n",
    "Best options is to run `iss project-round` command after each acquisition:\n",
    "\n",
    "`DATAPATH=BARseq/FIAA48.1b/chambre_03_random`\n",
    "\n",
    "`iss project-round -p $DATAPATH -n $PREFIX`\n",
    "\n",
    "where `$DATAPATH` is the path to the data relative to raw data root and `$PREFIX` is the file name prefix and directory name of the round, e.g. `genes_round_1_1`.\n",
    "\n",
    "This will also start a \"plot_overview\" job for each round, which will generate a plot of the projected data.\n",
    "Use this to select a few tiles to use for registration and change `ops.yml` to add these tiles."
   ]
  },
  {
   "cell_type": "markdown",
   "metadata": {},
   "source": [
    "## Import requirements"
   ]
  },
  {
   "cell_type": "code",
   "execution_count": null,
   "metadata": {},
   "outputs": [],
   "source": [
    "%load_ext autoreload\n",
    "%autoreload 2"
   ]
  },
  {
   "cell_type": "code",
   "execution_count": null,
   "metadata": {},
   "outputs": [],
   "source": [
    "import iss_preprocess as iss\n",
    "import numpy as np\n",
    "import matplotlib.pyplot as plt\n",
    "from flexiznam.config import PARAMETERS\n",
    "from pathlib import Path\n",
    "from itertools import cycle\n",
    "from matplotlib.animation import FuncAnimation\n"
   ]
  },
  {
   "attachments": {},
   "cell_type": "markdown",
   "metadata": {},
   "source": [
    "## Set path and load options"
   ]
  },
  {
   "cell_type": "code",
   "execution_count": null,
   "metadata": {},
   "outputs": [],
   "source": [
    "data_path = 'becalia_rabies_barseq/BRYC65.1d/chamber_13/'\n",
    "data_path = 'BARseq/FIAA48.1b/chambre_03_random'\n",
    "processed_path = Path(PARAMETERS['data_root']['processed'])\n",
    "ops = iss.io.load_ops(data_path)\n",
    "metadata = iss.io.load_metadata(data_path)"
   ]
  },
  {
   "attachments": {},
   "cell_type": "markdown",
   "metadata": {},
   "source": [
    "# Illumination correction\n",
    "\n",
    "Illumination correction is done in two steps: \n",
    "\n",
    "- Average each acquisition folder:\n",
    "\n",
    "This can be done with: `iss create-all-single-averages -p $DATAPATH`\n",
    "\n",
    "- Average all acquisition averages for each \"round\" type of data\n",
    "\n",
    "This can be done with: `iss create-grand-averages -p $DATAPATH`\n",
    "\n",
    "One can also generate some summary diagnostic plot that will be saved in the `figures`\n",
    "subfolder of `data_path`"
   ]
  },
  {
   "cell_type": "code",
   "execution_count": null,
   "metadata": {},
   "outputs": [],
   "source": [
    "# Generate diagnostic plot\n",
    "from iss_preprocess.pipeline import diagnostics\n",
    "# it takes about 2 minutes to run and save all images\n",
    "diagnostics.check_illumination_correction(\n",
    "    data_path, grand_averages=(\"genes_round\",), verbose=False\n",
    ")\n"
   ]
  },
  {
   "cell_type": "code",
   "execution_count": null,
   "metadata": {},
   "outputs": [],
   "source": [
    "prefix = 'genes_round'\n",
    "processed_path = iss.io.get_processed_path(data_path)\n",
    "target_folder = processed_path / \"figures\" / \"registration\"\n",
    "\n",
    "target_folder.mkdir(exist_ok=True, parents=True)\n",
    "\n",
    "ops = iss.io.load_ops(data_path)\n",
    "nrounds = ops[f\"{prefix}s\"]\n",
    "\n",
    "# get stack registered between channel and rounds\n",
    "reg_stack, bad_pixels = iss.pipeline.sequencing.load_and_register_sequencing_tile(\n",
    "    data_path,\n",
    "    filter_r=False,\n",
    "    correct_channels=False,\n",
    "    correct_illumination=False,\n",
    "    corrected_shifts='reference',\n",
    "    tile_coors=ops[\"ref_tile\"],\n",
    "    suffix=ops[f\"{prefix.split('_')[0]}_projection\"],\n",
    "    prefix=prefix,\n",
    "    nrounds=nrounds,\n",
    "    specific_rounds=None,\n",
    ")\n"
   ]
  },
  {
   "cell_type": "code",
   "execution_count": null,
   "metadata": {},
   "outputs": [],
   "source": [
    "iss.pipeline.vis.plot_sequencing_rounds(reg_stack, vmax=3000)"
   ]
  },
  {
   "cell_type": "markdown",
   "metadata": {},
   "source": [
    "# Normalise channels and rounds\n",
    "\n",
    "Will try to normalise rolonie brightness across rounds and channels. \n",
    "\n",
    "`iss setup-channel-correction -p $DATAPATH`"
   ]
  },
  {
   "cell_type": "code",
   "execution_count": null,
   "metadata": {},
   "outputs": [],
   "source": [
    "# You can redo it here to get a plot:\n",
    "pixel_dist, norm_factors, norm_factors_raw = iss.pipeline.estimate_channel_correction(\n",
    "    data_path, \n",
    "    prefix=\"genes_round\", \n",
    "    nrounds=ops[\"genes_rounds\"],\n",
    "    fit_norm_factors=ops[\"fit_channel_correction\"]\n",
    ")\n",
    "plt.figure()\n",
    "plt.plot(norm_factors.T)\n",
    "plt.gca().set_prop_cycle(None)\n",
    "plt.plot(norm_factors_raw.T, 'o')\n"
   ]
  },
  {
   "cell_type": "markdown",
   "metadata": {},
   "source": [
    "# Register sequencing rounds\n",
    "\n",
    "It has 3 steps:\n",
    "\n",
    "- Register reference tile\n",
    "- Register all tiles using reference tile initial estimate\n",
    "- Correct shifts\n",
    "\n",
    "## Register reference tile\n",
    "\n",
    "It can be done simply with:\n",
    "\n",
    "`iss register-ref-tile -p $DATAPATH`\n",
    "\n",
    "Below is a verbose version for debugging:"
   ]
  },
  {
   "cell_type": "code",
   "execution_count": null,
   "metadata": {},
   "outputs": [],
   "source": [
    "# Load the ref tile data\n",
    "prefix = 'genes_round'\n",
    "ops = iss.io.load.load_ops(data_path)\n",
    "nrounds = ops[prefix + \"s\"]\n",
    "projection = ops[f\"{prefix.split('_')[0].lower()}_projection\"]\n",
    "stack = iss.pipeline.sequencing.load_sequencing_rounds(\n",
    "    data_path, ops[\"ref_tile\"], prefix=prefix, suffix=projection, nrounds=nrounds\n",
    ")\n",
    "ori_stack = stack.copy()\n",
    "from scipy.ndimage import median_filter\n",
    "if ops[\"reg_median_filter\"]:\n",
    "        msize = ops[\"reg_median_filter\"]\n",
    "        msize = 5\n",
    "        print(f\"Filtering with median filter of size {msize}\")\n",
    "        assert isinstance(msize, int), \"reg_median_filter must be an integer\"\n",
    "        for ch in range(stack.shape[2]):\n",
    "            for r in range(stack.shape[3]):\n",
    "                stack[:, :, ch, r] = median_filter(stack[:, :, ch, r], size=msize)"
   ]
  },
  {
   "cell_type": "code",
   "execution_count": null,
   "metadata": {},
   "outputs": [],
   "source": [
    "vmax = np.percentile(stack[:,:,0,0], 99.9)\n",
    "fig = plt.figure(figsize=(10, 5))\n",
    "ax = fig.add_subplot(1, 3, 1)\n",
    "ax.imshow(ori_stack[:, :, 0, 0], cmap=\"gray\", vmax=vmax)\n",
    "ax.set_title(\"Original\")\n",
    "ax.axis(\"off\")\n",
    "ax = fig.add_subplot(1, 3, 2)\n",
    "ax.imshow(stack[:, :, 0, 0], cmap=\"gray\", vmax=vmax)\n",
    "ax.set_title(\"Median filtered\")\n",
    "ax.axis(\"off\")\n",
    "ax = fig.add_subplot(1, 3, 3)\n",
    "diff = stack[:, :, 0, 0].astype(float) - ori_stack[:, :, 0, 0].astype(float)\n",
    "im = ax.imshow(diff, cmap=\"RdBu_r\", vmin=-vmax/10, vmax=vmax/10)\n",
    "plt.colorbar(mappable=im, ax=ax)\n",
    "ax.set_title(\"Difference\")\n",
    "ax.axis(\"off\")\n",
    "for x in fig.axes[:-1]:\n",
    "    x.set_xlim(1000, 1500)\n",
    "    x.set_ylim(1500, 1000)\n"
   ]
  },
  {
   "cell_type": "code",
   "execution_count": null,
   "metadata": {},
   "outputs": [],
   "source": [
    "from pathlib import Path\n",
    "iss.pipeline.diagnostics.check_ref_tile_registration(data_path, prefix=\"genes_round\", use_slurm=True, slurm_folder=Path.home() / \"slurm_logs\")"
   ]
  },
  {
   "cell_type": "code",
   "execution_count": null,
   "metadata": {},
   "outputs": [],
   "source": [
    "if False:\n",
    "    # first call is:\n",
    "    (\n",
    "        angles_within_channels,\n",
    "        shifts_within_channels,\n",
    "        scales_between_channels,\n",
    "        angles_between_channels,\n",
    "        shifts_between_channels,\n",
    "    ) = iss.pipeline.register_channels_and_rounds(\n",
    "        stack, ref_ch=ops[\"ref_ch\"], ref_round=ops[\"ref_round\"]\n",
    "    )\n",
    "    \n"
   ]
  },
  {
   "cell_type": "code",
   "execution_count": null,
   "metadata": {},
   "outputs": [],
   "source": [
    "if False:\n",
    "    # which calls\n",
    "    # first register images across rounds within each channel\n",
    "    angles_within_channels, shifts_within_channels = iss.reg.align_within_channels(\n",
    "        stack, upsample=False, ref_round=ops[\"ref_round\"]\n",
    "    )\n",
    "# That is already bad:\n",
    "o = '''\n",
    "optimizing angles and shifts for channel 0\n",
    "angle: 0.0, shift: [0.0, 0.0]\n",
    "angle: -0.0857142857142858, shift: [2. 0.]\n",
    "angle: 0.05714285714285708, shift: [-1635.  -370.]\n",
    "angle: -0.0857142857142858, shift: [2. 0.]\n",
    "angle: 0.08571428571428566, shift: [-171.  -12.]\n",
    "angle: -0.0857142857142858, shift: [2. 0.]\n",
    "angle: 0.05714285714285708, shift: [-1635.  -370.]\n",
    "optimizing angles and shifts for channel 1\n",
    "angle: 0.0, shift: [0.0, 0.0]\n",
    "'''\n"
   ]
  },
  {
   "cell_type": "code",
   "execution_count": null,
   "metadata": {},
   "outputs": [],
   "source": [
    "upsample=False\n",
    "ref_round=ops['ref_round']\n",
    "angle_range=1.0\n",
    "niter=3\n",
    "nangles=15\n",
    "min_shift=2\n",
    "nchannels, nrounds = stack.shape[2:]\n",
    "angles_channels = []\n",
    "shifts_channels = []\n",
    "ref_ch = 0 \n",
    "print(f\"optimizing angles and shifts for channel {ref_ch}\", flush=True)\n",
    "angles = []\n",
    "shifts = []\n",
    "iround = 1\n",
    "if True:\n",
    "    angle, shift = iss.reg.rounds_and_channels.estimate_rotation_translation(\n",
    "                        stack[:, :, ref_ch, ref_round],\n",
    "                        stack[:, :, ref_ch, iround],\n",
    "                        angle_range=angle_range,\n",
    "                        niter=niter,\n",
    "                        nangles=nangles,\n",
    "                        min_shift=min_shift,\n",
    "                        upsample=upsample,\n",
    "                    )\n",
    "    print(f\"angle: {angle}, shift: {shift}\")\n"
   ]
  },
  {
   "cell_type": "code",
   "execution_count": null,
   "metadata": {},
   "outputs": [],
   "source": [
    "reference.dtype"
   ]
  },
  {
   "cell_type": "code",
   "execution_count": null,
   "metadata": {},
   "outputs": [],
   "source": [
    "reference = stack[:, :, ref_ch, ref_round]\n",
    "reference /= reference.mean()\n",
    "target = stack[:, :, ref_ch, iround]\n",
    "target /= target.mean()\n",
    "import scipy\n",
    "best_angle = 0\n",
    "reference_fft = scipy.fft.fft2(reference)\n",
    "angles = np.linspace(-angle_range, angle_range, nangles) + best_angle\n",
    "max_cc = np.empty(angles.shape)\n",
    "shifts = np.empty((nangles, 2))\n",
    "best_angle, max_cc, all_cc = iss.reg.rounds_and_channels.estimate_rotation_angle(reference_fft, target, angle_range, best_angle, nangles, min_shift=0, debug=True)\n"
   ]
  },
  {
   "cell_type": "code",
   "execution_count": null,
   "metadata": {},
   "outputs": [],
   "source": [
    "im = np.stack([reference, target, reference], axis=2)\n",
    "best_cc = np.unravel_index(all_cc.argmax(), all_cc.shape)\n",
    "best_cc"
   ]
  },
  {
   "cell_type": "code",
   "execution_count": null,
   "metadata": {},
   "outputs": [],
   "source": [
    "fig = plt.figure(figsize=(15, 10))\n",
    "vmax = np.percentile(reference, 99.9)\n",
    "ax = fig.add_subplot(231)\n",
    "ax.set_title('reference')\n",
    "ax.imshow(reference, vmax=vmax)\n",
    "ax = fig.add_subplot(232)\n",
    "ax.set_title('round 2')\n",
    "ax.imshow(target, vmax=vmax)\n",
    "ax = fig.add_subplot(233)\n",
    "ax.set_title('overlay')\n",
    "ax.imshow(iss.vis.to_rgb(im, colors=[[1,0,0], [0,1,0], [0, 0, 1]], vmax=[vmax, vmax, vmax]))\n",
    "\n",
    "# plot the CC\n",
    "vmax=np.percentile(all_cc, 99.999)\n",
    "ax = fig.add_subplot(234)\n",
    "ax.set_title('CC, best angle')\n",
    "ax.imshow(all_cc[best_cc[0]], vmax=vmax)\n",
    "m = np.unravel_index(all_cc[best_cc[0]].argmax(), all_cc[0].shape)\n",
    "ax.scatter(m[1], m[0], fc='none', edgecolors='r')\n",
    "ax = fig.add_subplot(235)\n",
    "\n",
    "ax.imshow(all_cc[best_cc[0]], vmax=vmax)\n",
    "middle = all_cc[best_cc[0]].shape[0] // 2\n",
    "ax.scatter(m[1], m[0], fc='none', edgecolors='r')\n",
    "ax.set_xlim(middle - 40, middle + 40)\n",
    "ax.set_ylim(middle + 40, middle - 40)\n",
    "\n",
    "ax = fig.add_subplot(236)\n",
    "ax.imshow(all_cc[best_cc[0]])\n",
    "ax.scatter(m[1], m[0], fc='none', edgecolors='r')\n",
    "ax.set_xlim(best_cc[2] - 40, best_cc[2] + 40)\n",
    "ax.set_ylim(best_cc[1] + 40, best_cc[1] - 40)\n"
   ]
  },
  {
   "cell_type": "code",
   "execution_count": null,
   "metadata": {},
   "outputs": [],
   "source": [
    "%timeit scipy.ndimage.median_filter(stack[:, :, ref_ch, ref_round], size=2)"
   ]
  },
  {
   "cell_type": "code",
   "execution_count": null,
   "metadata": {},
   "outputs": [],
   "source": [
    "%timeit scipy.ndimage.median_filter(stack[:, :, ref_ch, iround], size=2)"
   ]
  },
  {
   "cell_type": "code",
   "execution_count": null,
   "metadata": {},
   "outputs": [],
   "source": [
    "# Try with mediian filtered version\n",
    "reference = scipy.ndimage.median_filter(stack[:, :, ref_ch, ref_round], size=2)\n",
    "target = scipy.ndimage.median_filter(stack[:, :, ref_ch, iround], size=2)\n",
    "import scipy\n",
    "best_angle = 0\n",
    "reference_fft = scipy.fft.fft2(reference)\n",
    "angles = np.linspace(-angle_range, angle_range, nangles) + best_angle\n",
    "max_cc = np.empty(angles.shape)\n",
    "shifts = np.empty((nangles, 2))\n",
    "best_angle, max_cc, all_cc = iss.reg.rounds_and_channels.estimate_rotation_angle(reference_fft, target, angle_range, best_angle, nangles, min_shift=0, debug=True)\n"
   ]
  },
  {
   "cell_type": "code",
   "execution_count": null,
   "metadata": {},
   "outputs": [],
   "source": [
    "im = np.stack([reference, target, reference], axis=2)\n",
    "best_cc = np.unravel_index(all_cc.argmax(), all_cc.shape)\n",
    "best_cc"
   ]
  },
  {
   "cell_type": "code",
   "execution_count": null,
   "metadata": {},
   "outputs": [],
   "source": [
    "fig = plt.figure(figsize=(15, 10))\n",
    "vmax = np.percentile(stack[:, :, ref_ch, iround], 99.9)\n",
    "ax = fig.add_subplot(231)\n",
    "ax.set_title('reference')\n",
    "ax.imshow(reference, vmax=vmax)\n",
    "ax = fig.add_subplot(232)\n",
    "ax.set_title('round 2')\n",
    "ax.imshow(stack[:, :, ref_ch, iround], vmax=vmax)\n",
    "ax = fig.add_subplot(233)\n",
    "ax.set_title('overlay')\n",
    "ax.imshow(iss.vis.to_rgb(im, colors=[[1,0,0], [0,1,0], [0, 0, 1]], vmax=[400, 400, 400]))\n",
    "\n",
    "# plot the CC\n",
    "vmax=np.percentile(all_cc, 99.999)\n",
    "ax = fig.add_subplot(234)\n",
    "ax.set_title('CC, best angle')\n",
    "ax.imshow(all_cc[best_cc[0]], vmax=vmax)\n",
    "m = np.unravel_index(all_cc[best_cc[0]].argmax(), all_cc[0].shape)\n",
    "ax.scatter(m[1], m[0], fc='none', edgecolors='r')\n",
    "ax = fig.add_subplot(235)\n",
    "\n",
    "ax.imshow(all_cc[best_cc[0]], vmax=vmax)\n",
    "middle = all_cc[best_cc[0]].shape[0] // 2\n",
    "ax.scatter(m[1], m[0], fc='none', edgecolors='r')\n",
    "ax.set_xlim(middle - 40, middle + 40)\n",
    "ax.set_ylim(middle + 40, middle - 40)\n",
    "\n",
    "ax = fig.add_subplot(236)\n",
    "ax.imshow(all_cc[best_cc[0]])\n",
    "ax.scatter(m[1], m[0], fc='none', edgecolors='r')\n",
    "ax.set_xlim(middle - 40, middle + 40)\n",
    "ax.set_ylim(middle + 40, middle - 40)\n"
   ]
  },
  {
   "attachments": {},
   "cell_type": "markdown",
   "metadata": {},
   "source": [
    "Start a registration jobs for the reference tile for genes and barcodes:\n",
    "\n",
    "`iss register-ref-tile -p $DATAPATH -n genes_round`\n",
    "\n",
    "`iss register-ref-tile -p $DATAPATH -n barcode_round`\n",
    "\n",
    "where `$DATAPATH` is the path to the data relative to raw data root\n",
    "\n",
    "Next, estimate shifts for individual tiles:\n",
    "\n",
    "`iss estimate-shifts -p $DATAPATH -n barcode_round`\n",
    "\n",
    "`iss estimate-shifts -p $DATAPATH -n genes_round`\n",
    "\n",
    "Finally, calculate robust regression corrected shifts:\n",
    "\n",
    "`iss correct-shifts -p $DATAPATH -n barcode_round`\n",
    "\n",
    "`iss correct-shifts -p $DATAPATH -n genes_round`"
   ]
  },
  {
   "cell_type": "code",
   "execution_count": null,
   "metadata": {},
   "outputs": [],
   "source": [
    "np.nanmedian(img)"
   ]
  },
  {
   "attachments": {},
   "cell_type": "markdown",
   "metadata": {},
   "source": [
    "# Prepare parameters for OMP and barcode calling\n",
    "\n",
    "`iss setup-omp -p $DATAPATH`\n",
    "\n",
    "`iss setup-barcodes -p $DATAPATH`"
   ]
  },
  {
   "attachments": {},
   "cell_type": "markdown",
   "metadata": {},
   "source": [
    "# Check registration"
   ]
  },
  {
   "cell_type": "code",
   "execution_count": null,
   "metadata": {},
   "outputs": [],
   "source": [
    "iss.call.BASES"
   ]
  },
  {
   "cell_type": "code",
   "execution_count": null,
   "metadata": {},
   "outputs": [],
   "source": [
    "stack, bad_pixels = iss.pipeline.load_and_register_sequencing_tile(\n",
    "    data_path, \n",
    "    ops['ref_tile'], \n",
    "    filter_r=False, \n",
    "    prefix='genes_round',\n",
    "    suffix=ops['genes_projection'],\n",
    "    nrounds=ops['genes_rounds'],\n",
    "    correct_channels=True,\n",
    "    corrected_shifts='reference',\n",
    "    correct_illumination=True\n",
    ")\n",
    "stack = stack[:, :, np.argsort(ops['camera_order']), :]\n",
    "nrounds = stack.shape[3]\n",
    "channel_colors = [ [1,0,0], [0,1,0], [0,1,1], [1,0,1]]\n",
    "def round_image(iround):\n",
    "    data  = stack[501:1000, 1501:2000, :, iround]\n",
    "    return iss.vis.to_rgb(data, \n",
    "        channel_colors, \n",
    "        vmin=np.array([0,0,0,0]),\n",
    "        vmax=np.percentile(data, 99.99, axis=(0,1)))\n",
    "\n",
    "fig = plt.figure(figsize=(10,8))\n",
    "for iround in range(nrounds):\n",
    "    plt.subplot(3,4,iround+1)\n",
    "    plt.imshow(round_image(iround))\n",
    "    plt.axis('off')\n",
    "plt.tight_layout()"
   ]
  },
  {
   "cell_type": "code",
   "execution_count": null,
   "metadata": {},
   "outputs": [],
   "source": [
    "iss.call.BASES"
   ]
  },
  {
   "cell_type": "code",
   "execution_count": null,
   "metadata": {},
   "outputs": [],
   "source": []
  },
  {
   "cell_type": "code",
   "execution_count": null,
   "metadata": {},
   "outputs": [],
   "source": [
    "stack, bad_pixels = iss.pipeline.load_and_register_sequencing_tile(\n",
    "    data_path, \n",
    "    (2, 4, 9), \n",
    "    filter_r=ops['filter_r'], \n",
    "    prefix='barcode_round',\n",
    "    suffix=ops['barcode_projection'],\n",
    "    nrounds=ops['barcode_rounds'],\n",
    "    correct_channels=True,\n",
    "    corrected_shifts=True,\n",
    "    correct_illumination=True\n",
    ")\n",
    "stack = stack[:, :, np.argsort(ops['camera_order']), :]\n",
    "nrounds = stack.shape[3]\n",
    "channel_colors = [ [1,0,0], [0,1,0], [0,1,1], [1,0,1]]\n",
    "def round_image(iround):\n",
    "    vmax = 3\n",
    "    return iss.vis.to_rgb(\n",
    "        stack[501:1000, 1501:2000, :, iround], \n",
    "        channel_colors, \n",
    "        vmin=np.array([0,0,0,0]),\n",
    "        vmax=np.array([1,1,1,1]) * vmax)\n",
    "\n",
    "fig = plt.figure(figsize=(10,8))\n",
    "for iround in range(nrounds):\n",
    "    plt.subplot(3,4,iround+1)\n",
    "    plt.imshow(round_image(iround))\n",
    "    plt.axis('off')\n",
    "plt.tight_layout()"
   ]
  },
  {
   "cell_type": "code",
   "execution_count": null,
   "metadata": {},
   "outputs": [],
   "source": [
    "%matplotlib ipympl\n",
    "fig = plt.figure(figsize=(10,5))\n",
    "ax1 = plt.subplot(1,2,1)\n",
    "im = ax1.imshow(round_image(0))\n",
    "\n",
    "def animate(frame_num):\n",
    "    im.set_data(round_image(frame_num))\n",
    "    ax1.set_title(f'round {frame_num}')\n",
    "    return im\n",
    "\n",
    "anim = FuncAnimation(fig, animate, frames=nrounds, interval=2000)\n",
    "plt.show()"
   ]
  },
  {
   "attachments": {},
   "cell_type": "markdown",
   "metadata": {},
   "source": [
    "# Re-compute average spot image\n",
    "\n",
    "Run OMP on the reference tile and detect spots to generate a new spot sign image.\n",
    "\n",
    "`iss spot-image -p becalia_rabies_barseq/BRYC65.1d/chamber_13/`"
   ]
  },
  {
   "attachments": {},
   "cell_type": "markdown",
   "metadata": {},
   "source": [
    "# Check barcode threshold"
   ]
  },
  {
   "cell_type": "code",
   "execution_count": null,
   "metadata": {},
   "outputs": [],
   "source": [
    "stack, bad_pixels = iss.pipeline.load_and_register_tile(\n",
    "    data_path,\n",
    "    ops[\"ref_tile\"],\n",
    "    filter_r=ops[\"filter_r\"],\n",
    "    prefix=\"barcode_round\",\n",
    "    suffix=ops[\"barcode_projection\"],\n",
    "    nrounds=10,\n",
    "    correct_channels=ops[\"barcode_correct_channels\"],\n",
    "    corrected_shifts=True,\n",
    "    correct_illumination=True,\n",
    ")\n",
    "spots = iss.segment.detect_spots(np.mean(stack, axis=(2,3)), threshold=0.1)\n",
    "plt.figure(figsize=(10,10))\n",
    "plt.imshow(np.mean(stack, axis=(2,3)), cmap='bwr', vmin=-.1, vmax=.1)\n",
    "plt.plot(spots[\"x\"], spots[\"y\"], '.k', markersize=0.5)"
   ]
  },
  {
   "attachments": {},
   "cell_type": "markdown",
   "metadata": {},
   "source": [
    "# Run OMP\n",
    "Run `iss extract` to start Slurm jobs to run OMP on each tile:\n",
    "\n",
    "`iss extract -p becalia_rabies_barseq/BRYC65.1d/chamber_13/`\n",
    "\n",
    "# Run basecalling\n",
    "\n",
    "`iss basecall -p becalia_rabies_barseq/BRYC65.1d/chamber_13/`\n",
    "\n",
    "\n",
    "# Register to reference\n",
    "\n",
    "To register barcodes to the reference `genes_round_1_1`, we estimate the shift and \n",
    "angle at each tile:\n",
    "\n",
    "`iss register-to-reference -p becalia_rabies_barseq/BRYC65.1d/chamber_13 -g barcode_round`\n",
    "\n",
    "Then the shifts estimates are corrected using robust regression:\n",
    "\n",
    "`iss correct-ref-shifts -p becalia_rabies_barseq/BRYC65.1d/chamber_13 -g barcode_round`\n",
    "\n",
    "And plot diagnostic plot if wanted:"
   ]
  },
  {
   "cell_type": "code",
   "execution_count": null,
   "metadata": {},
   "outputs": [],
   "source": [
    "from iss_preprocess.pipeline.diagnostics import reg_to_ref_estimation\n",
    "reg_to_ref_estimation(data_path, prefix='barcode_round')"
   ]
  },
  {
   "cell_type": "markdown",
   "metadata": {},
   "source": [
    "\n",
    "Then merge barcodes across tiles and align to gene rounds:\n",
    "\n",
    "`iss align-spots -p becalia_rabies_barseq/BRYC65.1d/chamber_13/ -s barcode_round -g barcode_round_1_1 -r genes_round_1_1`\n"
   ]
  },
  {
   "cell_type": "markdown",
   "metadata": {},
   "source": [
    "# Merge OMP output"
   ]
  },
  {
   "cell_type": "code",
   "execution_count": null,
   "metadata": {},
   "outputs": [],
   "source": [
    "shift_right, shift_down, tile_shape = iss.pipeline.register_adjacent_tiles(\n",
    "    data_path, ref_coors=ops['ref_tile'], prefix='genes_round_1_1'\n",
    ")\n",
    "for iroi in range(8):\n",
    "    spots = iss.pipeline.merge_roi_spots(data_path, shift_right, shift_down, tile_shape, iroi=iroi+1)\n",
    "    save_path = Path(PARAMETERS['data_root']['processed']) / data_path / f'gene_spots_{iroi+1}.pkl' \n",
    "    spots.to_pickle(save_path)"
   ]
  },
  {
   "attachments": {},
   "cell_type": "markdown",
   "metadata": {},
   "source": [
    "# Plot some barcodes and genes"
   ]
  },
  {
   "cell_type": "code",
   "execution_count": null,
   "metadata": {},
   "outputs": [],
   "source": [
    "import pandas as pd\n",
    "all_spots = []\n",
    "genes_spots = []\n",
    "for i, roi in enumerate(ops[\"use_rois\"]):\n",
    "    save_path = processed_path / data_path / f'barcode_round_spots_{roi}.pkl' \n",
    "    these_spots = pd.read_pickle(save_path)\n",
    "    these_spots[\"roi\"] = roi\n",
    "    all_spots.append(these_spots)\n",
    "    these_spots = pd.read_pickle(processed_path / data_path / f'gene_spots_{roi}.pkl' )\n",
    "    these_spots[\"roi\"] = roi\n",
    "    genes_spots.append(these_spots)\n",
    "\n",
    "spots = pd.concat(all_spots, ignore_index=True)\n",
    "genes_spots = pd.concat(genes_spots, ignore_index=True)"
   ]
  },
  {
   "cell_type": "code",
   "execution_count": null,
   "metadata": {},
   "outputs": [],
   "source": [
    "spots = iss.call.correct_barcode_sequences(\n",
    "    spots[spots[\"dot_product_score\"]>0.25], \n",
    "    max_edit_distance=1\n",
    ")\n",
    "\n",
    "from itertools import cycle\n",
    "from matplotlib import rcParams\n",
    "plt.style.use(\"default\")\n",
    "\n",
    "fig = plt.figure(figsize=(20, 40), dpi=300)\n",
    "fig.patch.set_facecolor('black')\n",
    "\n",
    "sequence_counts = spots['corrected_bases'].value_counts()\n",
    "xmax = spots['x'].max()\n",
    "ymax = spots['y'].max()\n",
    "genes = genes_spots['gene'].unique()\n",
    "prop_cycle = plt.rcParams['axes.prop_cycle']\n",
    "rois = genes_spots['roi'].unique()\n",
    "genes_to_plot = [ 'Crym', 'Ctgf', 'Igfbp4', 'Lamp5' ,'Lypd1', 'Npy', 'Rgs4', 'Necab1', 'Cck', 'Myl4' ,'Th']\n",
    "for iseq, seq in enumerate(sequence_counts.index[:8]):\n",
    "    plt.subplot(10,1,iseq+1)\n",
    "    plt.title(seq, color='white')\n",
    "    plt.gca().set_aspect('equal', 'box')\n",
    "    plt.gca().set_facecolor('black')\n",
    "    colors = cycle(['deepskyblue', 'darkorange', 'forestgreen', 'royalblue', 'magenta', 'coral', 'gold', 'mediumorchid', 'red', 'lawngreen'])\n",
    "\n",
    "    # for gene in genes_to_plot:\n",
    "    #     c = next(colors)\n",
    "    #     alpha = np.min([ 1e5 / np.sum(genes_spots['gene']==gene), 0.2 ])\n",
    "    #     for iroi, roi in enumerate(rois):            \n",
    "    #         plt.plot(\n",
    "    #             genes_spots[(genes_spots['gene']==gene) & (genes_spots['roi']==roi)]['x'] + iroi*60000,\n",
    "    #             genes_spots[(genes_spots['gene']==gene) & (genes_spots['roi']==roi)]['y'],\n",
    "    #             ',',\n",
    "    #             c=c,  \n",
    "    #             alpha=alpha,\n",
    "    #         )   \n",
    "    for iroi, roi in enumerate(rois):    \n",
    "        this_barcode = spots[(spots['corrected_bases'] == seq) & (spots['roi']==roi)]\n",
    "        plt.plot(\n",
    "            this_barcode['x'] + iroi*60000,\n",
    "            this_barcode['y'],        \n",
    "            's',\n",
    "            markersize=0.2,\n",
    "            c='white',\n",
    "        )\n",
    "    plt.axis('off')\n",
    "    plt.gca().invert_yaxis()\n",
    "    plt.tight_layout()"
   ]
  },
  {
   "attachments": {},
   "cell_type": "markdown",
   "metadata": {},
   "source": [
    "# Generate an overview image and segment cells\n",
    "\n",
    "Test segmentation parameters:\n"
   ]
  },
  {
   "cell_type": "code",
   "execution_count": null,
   "metadata": {},
   "outputs": [],
   "source": [
    "roi = 5\n",
    "stitched_stack_dapi, stitched_stack_genes, angle, shift = iss.pipeline.stitch_and_register(\n",
    "    data_path, 'genes_round_1_1', 'barcode_round_10_1', roi=roi, downsample=5\n",
    ")"
   ]
  },
  {
   "cell_type": "code",
   "execution_count": null,
   "metadata": {},
   "outputs": [],
   "source": [
    "masks = np.load(processed_path / data_path / \"masks_1.npy\")\n",
    "im = np.stack([\n",
    "    stitched_stack_genes[3000:10000, 12000:20000], \n",
    "    stitched_stack_dapi[3000:10000, 12000:20000],\n",
    "    masks[3000:10000, 12000:20000]>0],\n",
    "    axis=2\n",
    ")\n",
    "shift_right, shift_down, tile_shape = iss.pipeline.register_adjacent_tiles(\n",
    "    data_path, ref_coors=ops['ref_tile'], prefix='genes_round_1_1'\n",
    ")\n",
    "spots = iss.pipeline.merge_roi_spots(\n",
    "    data_path, shift_right, shift_down, tile_shape, iroi=roi, prefix=\"genes_round\"\n",
    ")\n",
    "plt.figure(figsize=(50,50))\n",
    "plt.imshow(iss.vis.to_rgb(im, colors=[[1,0,0], [0,0,1], [0, 1, 0]], vmax=[400, 200, 1], vmin=np.array([30, 0, 0])))\n",
    "plt.plot(spots[\"x\"]-12000, spots[\"y\"]-3000, '.r', alpha=1, markersize=0.5)\n",
    "plt.xlim([0, 8000])\n",
    "plt.ylim([7000, 0])\n",
    "plt.axis(\"off\")"
   ]
  },
  {
   "cell_type": "code",
   "execution_count": null,
   "metadata": {},
   "outputs": [],
   "source": [
    "from cellpose.models import CellposeModel\n",
    "from cellpose.plot import mask_rgb\n",
    "\n",
    "model = CellposeModel(gpu=True, model_type='cyto', net_avg=False)\n",
    "masks, flows, styles = model.eval(\n",
    "    stitched_stack_dapi[11000:12000, 5000:6000],\n",
    "    rescale=0.55,\n",
    "    channels=[0,0],\n",
    "    flow_threshold=0.4,\n",
    "    tile=True\n",
    ")\n",
    "plt.figure(figsize=(10,5))\n",
    "plt.subplot(1,2,1)\n",
    "plt.imshow(stitched_stack_dapi[11000:12000, 5000:6000], vmax=1000)\n",
    "plt.subplot(1,2,2)\n",
    "plt.imshow(mask_rgb(masks))"
   ]
  },
  {
   "attachments": {},
   "cell_type": "markdown",
   "metadata": {},
   "source": [
    "# Run batch segmentation:\n",
    "\n",
    "`iss segment-all -p $DATAPATH -n $PREFIX`\n",
    "\n",
    "# Align hybridisation rounds\n",
    "To run all hybridisation rounds listed in metadata:\n",
    "\n",
    "`iss estimate-hyb-shifts -p becalia_rabies_barseq/BRYC65.1d/chamber_13/`\n",
    "\n",
    "`iss correct_hyb_shifts -p becalia_rabies_barseq/BRYC65.1d/chamber_13/`\n",
    "\n",
    "To run a specific round, e.g. anchor round:\n",
    "\n",
    "`iss estimate-hyb-shifts -p becalia_rabies_barseq/BRYC65.1d/chamber_13/ -n hybridisation_3_1`\n",
    "\n",
    "`iss correct_hyb_shifts -p becalia_rabies_barseq/BRYC65.1d/chamber_13/ -n hybridisation_3_1`\n"
   ]
  },
  {
   "cell_type": "code",
   "execution_count": null,
   "metadata": {},
   "outputs": [],
   "source": [
    "iss.pipeline.setup_hyb_spot_calling(data_path)"
   ]
  },
  {
   "attachments": {},
   "cell_type": "markdown",
   "metadata": {},
   "source": [
    "# Check hyb spot detection threshold"
   ]
  },
  {
   "cell_type": "code",
   "execution_count": null,
   "metadata": {},
   "outputs": [],
   "source": [
    "stack, bad_pixels = iss.pipeline.load_and_register_hyb_tile(\n",
    "    data_path,\n",
    "    tile_coors=ops[\"ref_tile\"],\n",
    "    prefix=\"hybridisation_2_1\",\n",
    "    suffix=\"max\",\n",
    "    correct_illumination=True,\n",
    "    correct_channels=True\n",
    ")\n",
    "\n",
    "spots = iss.segment.detect_spots(\n",
    "    np.max(stack, axis=2),\n",
    "    threshold=0.5\n",
    ")\n",
    "plt.figure(figsize=(20,20))\n",
    "plt.imshow(np.max(np.abs(stack), axis=2), vmax=1, vmin=-1, cmap='bwr')\n",
    "plt.plot(spots['x'], spots['y'], '.', c='k', markersize=3, alpha=0.5)\n",
    "# plt.xlim([1000,2000])\n",
    "# plt.ylim([1000,2000])\n"
   ]
  },
  {
   "attachments": {},
   "cell_type": "markdown",
   "metadata": {},
   "source": [
    "# Detect hybridisation spots in all tiles\n",
    "\n",
    "`iss hyb-spots -p becalia_rabies_barseq/BRYC65.1d/chamber_13/`\n",
    "\n",
    "`iss align-spots -p becalia_rabies_barseq/BRYC65.1d/chamber_13/ -s hybridisation_1_1 -g hybridisation_1_1 -r genes_round_1_1`\n",
    "\n",
    "`iss align-spots -p becalia_rabies_barseq/BRYC65.1d/chamber_13/ -s hybridisation_2_1 -g hybridisation_2_1 -r genes_round_1_1`\n"
   ]
  }
 ],
 "metadata": {
  "kernelspec": {
   "display_name": "Python 3",
   "language": "python",
   "name": "python3"
  },
  "language_info": {
   "codemirror_mode": {
    "name": "ipython",
    "version": 3
   },
   "file_extension": ".py",
   "mimetype": "text/x-python",
   "name": "python",
   "nbconvert_exporter": "python",
   "pygments_lexer": "ipython3",
   "version": "3.10.8"
  },
  "vscode": {
   "interpreter": {
    "hash": "02c4ab6ff317cb8a885d2aa2247e2bd7c17b0a4a2d1482529ed329ad25df85a1"
   }
  }
 },
 "nbformat": 4,
 "nbformat_minor": 2
}
