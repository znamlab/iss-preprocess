{
 "cells": [
  {
   "cell_type": "markdown",
   "metadata": {},
   "source": [
    "# Select segmentation parameters\n",
    "\n",
    "To segment cells, we use cellpose. This requires a few parameters to be set. \n",
    "We will use the following parameters:\n",
    "\n",
    "- `ops[\"cellpose_flow_threshold\"]`\n",
    "- `ops[\"cellpose_rescale\"]`\n",
    "- `ops[\"cellpose_model\"]`\n",
    "- `ops[\"segmentation_channels\"]`\n"
   ]
  },
  {
   "cell_type": "code",
   "execution_count": null,
   "metadata": {},
   "outputs": [],
   "source": [
    "%load_ext autoreload\n",
    "%autoreload 2"
   ]
  },
  {
   "cell_type": "code",
   "execution_count": null,
   "metadata": {},
   "outputs": [],
   "source": [
    "data_path = \"becalia_rabies_barseq/BRAC8501.6a/chamber_07\"\n",
    "prefix = \"genes_round_4_1\"\n",
    "ref_tile_index = 0  # which of the reference tiles do we want to use for plots\n",
    "use_gpu = False  # whether to use the GPU for the analysis\n",
    "window_size = 1000  # size of the window for the analysis, None for the whole image"
   ]
  },
  {
   "cell_type": "code",
   "execution_count": null,
   "metadata": {},
   "outputs": [],
   "source": [
    "import iss_preprocess as iss\n",
    "import numpy as np\n",
    "\n",
    "ops = iss.io.load.load_ops(data_path)\n",
    "tile_coors = ops[\"genes_ref_tiles\"][ref_tile_index]\n",
    "print(tile_coors)"
   ]
  },
  {
   "cell_type": "code",
   "execution_count": null,
   "metadata": {},
   "outputs": [],
   "source": [
    "# Loading data\n",
    "print(f'Using channel(s) {ops[\"segmentation_channels\"]}')\n",
    "stack, bad_pixels = iss.pipeline.load_and_register_tile(\n",
    "    data_path, tile_coors, prefix, filter_r=False\n",
    ")\n",
    "if stack.ndim == 4:\n",
    "    stack = stack[..., 0]  # The is only one round\n",
    "stack = stack[..., ops[\"segmentation_channels\"]]\n",
    "stack = np.nanmean(stack, axis=-1)\n",
    "if window_size is not None:\n",
    "    center = [x // 2 for x in stack.shape]\n",
    "    stack = stack[\n",
    "        center[0] - window_size // 2 : center[0] + window_size // 2,\n",
    "        center[1] - window_size // 2 : center[1] + window_size // 2,\n",
    "    ]"
   ]
  },
  {
   "cell_type": "markdown",
   "metadata": {},
   "source": [
    "Change the list of flow and rescale factors to try. Without GPU, cellpose is slow and\n",
    "it might be better to try only a few parameters."
   ]
  },
  {
   "cell_type": "code",
   "execution_count": null,
   "metadata": {},
   "outputs": [],
   "source": [
    "# Doing segmentation\n",
    "flow_threshold = [0.35, 0.4, 0.65]  # threshold\n",
    "rescale_factor = [0.4]  # rescale\n",
    "for flow in flow_threshold:\n",
    "    ops[\"cellpose_flow_threshold\"] = flow\n",
    "    for rescale in rescale_factor:\n",
    "        ops[\"cellpose_rescale\"] = rescale\n",
    "        masks = iss.pipeline.segment.cellpose_segmentation(\n",
    "            stack,\n",
    "            channels=(0, 0),\n",
    "            flow_threshold=ops[\"cellpose_flow_threshold\"],\n",
    "            min_pix=0,\n",
    "            dilate_pix=0,\n",
    "            rescale=ops[\"cellpose_rescale\"],\n",
    "            model_type=ops[\"cellpose_model\"],\n",
    "            use_gpu=use_gpu,\n",
    "        )\n",
    "        fig = iss.pipeline.diagnostics.check_segmentation(\n",
    "            data_path,\n",
    "            tile_coors[0],\n",
    "            prefix,\n",
    "            reference=\"genes_round_4_1\",\n",
    "            stitched_stack=stack,\n",
    "            masks=masks,\n",
    "            save_fig=False,\n",
    "        )\n",
    "        plot_masks = masks.copy().astype(float)\n",
    "        plot_masks[plot_masks == 0] = np.nan\n",
    "        fig.axes[0].imshow(plot_masks[::2, ::2], alpha=0.2, cmap=\"prism\")\n",
    "        fig.axes[0].set_title(\n",
    "            f\"Segmentation params: flow = {ops['cellpose_flow_threshold']},\"\n",
    "            + f\" rescale = {ops['cellpose_rescale']}, {ops['cellpose_model']}\"\n",
    "        )\n",
    "        fig.set_size_inches(5, 5)"
   ]
  },
  {
   "cell_type": "code",
   "execution_count": null,
   "metadata": {},
   "outputs": [],
   "source": []
  }
 ],
 "metadata": {
  "kernelspec": {
   "language": "python"
  },
  "language_info": {
   "codemirror_mode": {
    "name": "ipython",
    "version": 3
   },
   "file_extension": ".py",
   "mimetype": "text/x-python",
   "name": "python",
   "nbconvert_exporter": "python",
   "pygments_lexer": "ipython3"
  }
 },
 "nbformat": 4,
 "nbformat_minor": 2
}
