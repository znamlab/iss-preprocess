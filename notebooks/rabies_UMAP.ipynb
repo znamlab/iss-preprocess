{
 "cells": [
  {
   "cell_type": "code",
   "execution_count": null,
   "id": "ba77d00a",
   "metadata": {},
   "outputs": [],
   "source": [
    "# imports and chamber selection\n",
    "%load_ext autoreload\n",
    "%autoreload 2\n",
    "import iss_preprocess as iss\n",
    "import pandas as pd\n",
    "import numpy as np\n",
    "import matplotlib.pyplot as plt\n",
    "import yaml\n",
    "from flexiznam.config import PARAMETERS\n",
    "from pathlib import Path\n",
    "from itertools import cycle\n",
    "from matplotlib.animation import FuncAnimation\n",
    "\n",
    "import scanpy as sc\n",
    "import re\n",
    "import seaborn as sns\n",
    "import bg_atlasapi as bga\n",
    "\n",
    "data_path = 'becalia_rabies_barseq/BRYC65.1d/chamber_13/'\n",
    "\n",
    "processed_path = Path(PARAMETERS['data_root']['processed'])\n",
    "metadata = iss.io.load_metadata(data_path)\n",
    "\n",
    "ops = iss.io.load_ops(data_path)"
   ]
  },
  {
   "cell_type": "markdown",
   "id": "d8b256b9",
   "metadata": {},
   "source": [
    "## Filter detected spots (skip to Load spot and mask dfs for prefiltered ROI 5 spots)\n",
    "\n",
    "Load detected spots barcodes and filter them by dot product."
   ]
  },
  {
   "cell_type": "code",
   "execution_count": null,
   "id": "098b03a4",
   "metadata": {},
   "outputs": [],
   "source": [
    "roi = 5\n",
    "gaussian_width_um = 10\n",
    "\n",
    "# get spots\n",
    "raw_spots = dict()\n",
    "spot_list = ['gene', 'barcode_round', 'hybridisation_1_1', 'hybridisation_2_1']\n",
    "for prefix in spot_list:\n",
    "    print(f\"Loading {prefix}\", flush=True)\n",
    "    raw_spots[prefix] = pd.read_pickle(\n",
    "        processed_path / data_path / f\"{prefix}_spots_{roi}.pkl\")\n",
    "raw_spots['gene'].head()"
   ]
  },
  {
   "cell_type": "code",
   "execution_count": null,
   "id": "a547bfbd",
   "metadata": {},
   "outputs": [],
   "source": [
    "# filter spots\n",
    "barcode_dot_threshold = 0.2\n",
    "omp_score_threshold = 0.1\n",
    "hyb_score_threshold = 0.8\n",
    "\n",
    "spots = dict()\n",
    "fig, axes = plt.subplots(2, 2)\n",
    "fig.set_size_inches(7, 5)\n",
    "kw = dict(histtype='step', color='k', lw=2)\n",
    "axes[0,0].hist(raw_spots['barcode_round'].dot_product_score, bins=np.arange(-0.5, 1.1, 0.05), **kw)\n",
    "axes[0,0].axvline(barcode_dot_threshold, color='k')\n",
    "axes[0, 0].set_xlabel('Barcode dot score')\n",
    "axes[0, 0].set_ylabel('# barcode rolonies')\n",
    "\n",
    "axes[0,1].hist(raw_spots['gene'].spot_score, bins=np.arange(0, 1.2, 0.05), **kw)\n",
    "axes[0,1].axvline(omp_score_threshold, color='k')\n",
    "axes[0,1].set_xlabel('OMP score')\n",
    "axes[0, 1].set_ylabel('# genes rolonies')\n",
    "\n",
    "for i in range(2):\n",
    "    axes[1,i].hist(raw_spots[f'hybridisation_{i+1}_1'].score, bins=np.arange(-0.50, 1.2, 0.05), **kw)\n",
    "    axes[1,i].axvline(hyb_score_threshold, color='k')\n",
    "    axes[1,i].set_xlabel('Hybridisation score')\n",
    "    axes[1, i].set_ylabel(f'# hyb {i+1} rolonies')\n",
    "\n",
    "plt.tight_layout()\n",
    "raw_spots['gene'].head()\n",
    "\n",
    "ok_barcode = raw_spots['barcode_round'].dot_product_score > barcode_dot_threshold\n",
    "spots['barcode_round'] = raw_spots['barcode_round'][ok_barcode].copy()\n",
    "print(f'Keeping {np.sum(ok_barcode)} barcode rolonies out of {len(ok_barcode)}.')\n",
    "ok_genes = raw_spots['gene'].spot_score > omp_score_threshold\n",
    "spots['gene'] = raw_spots['gene'][ok_genes].copy()\n",
    "print(f'Keeping {np.sum(ok_genes)} genes rolonies out of {len(ok_genes)}.')\n",
    "for i in range(2):\n",
    "    ok_hyb = raw_spots[f'hybridisation_{i +1}_1'].score > hyb_score_threshold\n",
    "    spots[f'hybridisation_{i +1}_1'] = raw_spots[f'hybridisation_{i +1}_1'][ok_hyb].copy()\n",
    "    print(f'Keeping {np.sum(ok_hyb)} hybridisation rolonies out of {len(ok_hyb)} for round {i+1}.')"
   ]
  },
  {
   "cell_type": "code",
   "execution_count": null,
   "id": "3acb0625",
   "metadata": {},
   "outputs": [],
   "source": [
    "# get masks and expand \n",
    "# (this can be done in segment_rolonies but we want to keep a reference to the big masks)\n",
    "masks = np.load(processed_path / data_path / f\"masks_{roi}.npy\")"
   ]
  },
  {
   "cell_type": "code",
   "execution_count": null,
   "id": "78230c39",
   "metadata": {},
   "outputs": [],
   "source": [
    "from skimage.segmentation import expand_labels\n",
    "pixel_size=0.18\n",
    "big_mask = expand_labels(masks, distance=int(3/pixel_size))"
   ]
  },
  {
   "cell_type": "code",
   "execution_count": null,
   "id": "33043d88",
   "metadata": {},
   "outputs": [],
   "source": [
    "#Or use premade ROI 5 bigmask to save time\n",
    "big_mask = np.load(processed_path / data_path / f\"big_masks_{roi}.npy\")"
   ]
  },
  {
   "cell_type": "markdown",
   "id": "fb384157",
   "metadata": {},
   "source": [
    "# Find barcodes and genes inside cells"
   ]
  },
  {
   "cell_type": "code",
   "execution_count": null,
   "id": "d2da44a7",
   "metadata": {},
   "outputs": [],
   "source": [
    "# find which barcode is in which cells\n",
    "from iss_preprocess.pipeline.segment import segment_rolonies\n",
    "barcode_df, genes_df = segment_rolonies(data_path,\n",
    "    roi=roi,\n",
    "    mask_expansion=None,\n",
    "    masks=big_mask,\n",
    "    barcode_dot_threshold=barcode_dot_threshold,\n",
    "    spot_score_threshold=omp_score_threshold,\n",
    "    hyb_score_threshold=hyb_score_threshold,\n",
    ")\n",
    "barcode_df.head()"
   ]
  },
  {
   "cell_type": "markdown",
   "id": "c1a4f763",
   "metadata": {},
   "source": [
    "# Create cell mask location df"
   ]
  },
  {
   "cell_type": "code",
   "execution_count": null,
   "id": "72e9c799",
   "metadata": {},
   "outputs": [],
   "source": [
    "import warnings\n",
    "warnings.simplefilter(action='ignore', category=DeprecationWarning)\n",
    "from iss_preprocess.pipeline.segment import make_cell_dataframe\n",
    "cell_df = make_cell_dataframe(data_path, roi, masks=big_mask, atlas_size=10)\n",
    "cell_df.head()"
   ]
  },
  {
   "cell_type": "markdown",
   "id": "a199ab8e",
   "metadata": {},
   "source": [
    "# (Load spot and mask location dfs) - ROI5"
   ]
  },
  {
   "cell_type": "code",
   "execution_count": null,
   "id": "74d735e3",
   "metadata": {},
   "outputs": [],
   "source": [
    "genes_df = pd.read_pickle('/nemo/lab/znamenskiyp/home/users/becalia/data/BRYC65.1d/genes_df.pkl')\n",
    "barcode_df = pd.read_pickle('/nemo/lab/znamenskiyp/home/users/becalia/data/BRYC65.1d/barcode_df.pkl')\n",
    "cell_df = pd.read_pickle('/nemo/lab/znamenskiyp/home/users/becalia/data/BRYC65.1d/cell_df.pkl')"
   ]
  },
  {
   "cell_type": "markdown",
   "id": "00a37717",
   "metadata": {},
   "source": [
    "# Create adata object for cell analysis"
   ]
  },
  {
   "cell_type": "code",
   "execution_count": null,
   "id": "db105304",
   "metadata": {},
   "outputs": [],
   "source": [
    "cell_df_all = cell_df[cell_df.index.isin(genes_df.index)]\n",
    "genes_df_all = genes_df[genes_df.index.isin(cell_df.index)]\n",
    "\n",
    "adata = sc.AnnData(genes_df_all)\n",
    "adata.obs = cell_df_all\n",
    "adata.obs.index = adata.obs.index.astype(str)\n",
    "adata.var.index = adata.var.index.astype(str)\n",
    "\n",
    "#Add fine area info\n",
    "areas = adata.obs.area_acronym.to_list()\n",
    "layer = out = [re.sub(r'\\D', '', s) for s in areas]\n",
    "adata.obs['layer'] = layer\n",
    "barcode_sum_df = barcode_df.sum(axis=1).to_frame()\n",
    "barcode_sum_df.index.names = ['label']\n",
    "barcode_sum_df = barcode_sum_df[barcode_sum_df.index.isin(adata.obs.index.astype('int'))]\n",
    "barcode_sum_df.reindex(adata.obs.index.astype(int).to_list())\n",
    "barcode_sum_df.index = barcode_sum_df.index.astype('str')\n",
    "adata.obs['sum_barcode_counts'] = barcode_sum_df"
   ]
  },
  {
   "cell_type": "markdown",
   "id": "c681e07f",
   "metadata": {},
   "source": [
    "# Create subsets for iso and vis cortex"
   ]
  },
  {
   "cell_type": "code",
   "execution_count": null,
   "id": "428b4155",
   "metadata": {},
   "outputs": [],
   "source": [
    "atlas_name = \"allen_mouse_%dum\" % 10\n",
    "bg_atlas = bga.bg_atlas.BrainGlobeAtlas(atlas_name, '/nemo/lab/znamenskiyp/home/shared/resources/.brainglobe/')\n",
    "\n",
    "#Generate Isocortex and visual cortex subsets\n",
    "isocortex_acronyms = bg_atlas.get_structure_descendants('Isocortex')\n",
    "adata_iso = adata[adata.obs.area_acronym.isin(isocortex_acronyms)].copy()\n",
    "visual_cortex_acronyms = bg_atlas.get_structure_descendants('VISp')\n",
    "adata_vis = adata[adata.obs.area_acronym.isin(visual_cortex_acronyms)].copy()"
   ]
  },
  {
   "cell_type": "code",
   "execution_count": null,
   "id": "fa947d1d",
   "metadata": {},
   "outputs": [],
   "source": [
    "fig, ax = plt.subplots(1, 3, figsize=(15,6))\n",
    "sc.pl.highest_expr_genes(adata, n_top=20, ax=ax[0], show=False)\n",
    "sc.pl.highest_expr_genes(adata_iso, n_top=20, ax=ax[1], show=False)\n",
    "sc.pl.highest_expr_genes(adata_vis, n_top=20, ax=ax[2], show=False)\n",
    "plt.tight_layout(pad=3.0)\n",
    "plt.show()"
   ]
  },
  {
   "cell_type": "code",
   "execution_count": null,
   "id": "6d41d61c",
   "metadata": {},
   "outputs": [],
   "source": [
    "min_genes = 4\n",
    "min_counts = 10\n",
    "max_counts = 150\n",
    "for adata in [adata, adata_iso, adata_vis]:\n",
    "    sc.pp.calculate_qc_metrics(adata, percent_top=None, log1p=False, inplace=True)\n",
    "    sc.pp.filter_cells(adata, min_counts=min_counts)\n",
    "    adata.raw = adata\n",
    "    sc.pp.normalize_total(adata, target_sum=10)\n",
    "    sc.pp.log1p(adata)    \n",
    "    sc.tl.pca(adata, svd_solver='arpack')\n",
    "    sc.pl.pca_variance_ratio(adata, log=True, show=False)\n",
    "    sc.pp.neighbors(adata, n_neighbors=10, n_pcs=30)\n",
    "    sc.tl.umap(adata, min_dist=0.1)\n",
    "    sc.tl.leiden(adata, resolution=0.5)\n",
    "    sc.tl.louvain(adata, resolution=0.5)"
   ]
  },
  {
   "cell_type": "code",
   "execution_count": null,
   "id": "26bb0976",
   "metadata": {
    "scrolled": false
   },
   "outputs": [],
   "source": [
    "#fig, ax = plt.subplots(3, 1, figsize=(6,15))\n",
    "sc.pl.violin(adata, ['n_genes_by_counts', 'total_counts'],\n",
    "             jitter=0.4, multi_panel=True, ax=ax[0], show=False)\n",
    "sc.pl.violin(adata_iso, ['n_genes_by_counts', 'total_counts'],\n",
    "             jitter=0.4, multi_panel=True, ax=ax[1], show=False)\n",
    "sc.pl.violin(adata_vis, ['n_genes_by_counts', 'total_counts'],\n",
    "             jitter=0.4, multi_panel=True, ax=ax[2], show=False)\n",
    "plt.tight_layout(pad=3.0)\n",
    "plt.show()"
   ]
  },
  {
   "cell_type": "code",
   "execution_count": null,
   "id": "338c6878",
   "metadata": {},
   "outputs": [],
   "source": [
    "fig, ax = plt.subplots(1, 3, figsize=(15,6))\n",
    "sc.pl.pca(adata, color='Slc17a7', ax=ax[0], show=False)\n",
    "sc.pl.pca(adata_iso, color='Slc17a7', ax=ax[1], show=False)\n",
    "sc.pl.pca(adata_vis, color='Slc17a7', ax=ax[2], show=False)\n",
    "plt.tight_layout(pad=3.0)\n",
    "plt.show()"
   ]
  },
  {
   "cell_type": "code",
   "execution_count": null,
   "id": "147ad560",
   "metadata": {},
   "outputs": [],
   "source": [
    "for adata in [adata, adata_iso, adata_vis]:\n",
    "    sc.tl.umap(adata, min_dist=0.1)\n",
    "    sc.tl.leiden(adata, resolution=1)"
   ]
  },
  {
   "cell_type": "markdown",
   "id": "36e8fcdc",
   "metadata": {},
   "source": [
    "# Plot UMAPs"
   ]
  },
  {
   "cell_type": "code",
   "execution_count": null,
   "id": "a14b4ac4",
   "metadata": {},
   "outputs": [],
   "source": [
    "import warnings\n",
    "warnings.simplefilter(action='ignore', category=DeprecationWarning)\n",
    "sc.set_figure_params(figsize=(9,9))\n",
    "sc.pl.umap(\n",
    "    adata, \n",
    "    use_raw=True, \n",
    "    ncols=2, \n",
    "    color=['Slc17a7', 'Gad1', 'Sst', 'Vip', 'leiden', 'louvain', 'sum_barcode_counts'], \n",
    "    frameon=False,\n",
    "    size=30, \n",
    "    vmax=['p99.9', 'p99.9', 'p99.9', 'p99.9', None, 30],\n",
    "    legend_loc='on data', \n",
    "    legend_fontsize=20, \n",
    "    legend_fontoutline=2\n",
    ")"
   ]
  },
  {
   "cell_type": "code",
   "execution_count": null,
   "id": "95cd615f",
   "metadata": {},
   "outputs": [],
   "source": [
    "sc.set_figure_params(figsize=(9,9))\n",
    "sc.pl.umap(\n",
    "    adata_iso, \n",
    "    use_raw=True, \n",
    "    ncols=2, \n",
    "    color=['Slc17a7', 'Gad1', 'Sst', 'Vip', 'leiden', 'sum_barcode_counts'], \n",
    "    frameon = False, \n",
    "    size=30, \n",
    "    vmax=['p99.9', 'p99.9', 'p99.9', 'p99.9', None, 30],\n",
    "    legend_loc='on data', \n",
    "    legend_fontsize=20, \n",
    "    legend_fontoutline=2\n",
    ")"
   ]
  },
  {
   "cell_type": "code",
   "execution_count": null,
   "id": "72275d1d",
   "metadata": {},
   "outputs": [],
   "source": [
    "\n",
    "barcode_threshold = 10\n",
    "adata_vis.obs['barcoded'] = (adata_vis.obs['sum_barcode_counts'] > barcode_threshold).astype(int)\n",
    "adata_vis.obs['barcoded'][adata_vis.obs['barcoded'] == 0] = np.nan\n",
    "sc.set_figure_params(figsize=(9,9))\n",
    "sc.pl.umap(adata_vis, \n",
    "    use_raw=True, \n",
    "    ncols=2, \n",
    "    color=['Slc17a7', 'Gad1', 'Sst', 'Vip', 'leiden', 'barcoded'], \n",
    "    frameon=False, \n",
    "    size=30, \n",
    "    vmax=['p99.9', 'p99.9', 'p99.9', 'p99.9', None, 1],\n",
    "    legend_loc='on data', \n",
    "    legend_fontsize=20,\n",
    "    legend_fontoutline=2\n",
    ")"
   ]
  },
  {
   "cell_type": "code",
   "execution_count": null,
   "id": "17233709",
   "metadata": {},
   "outputs": [],
   "source": [
    "plt.figure(figsize=(20,20))\n",
    "#plt.scatter(adata.obs.x, adata.obs.y, c=adata.obs.leiden.astype(int))\n",
    "sns.scatterplot(adata.obs.x, adata.obs.y, hue=adata.obs.leiden, s=3)\n",
    "#plt.xlim(5000, 20000)\n",
    "#plt.ylim(15000, 4000)\n",
    "plt.gca().set_aspect('equal')\n",
    "plt.gca().invert_yaxis()\n",
    "plt.axis('off')"
   ]
  },
  {
   "cell_type": "code",
   "execution_count": null,
   "id": "73eb85a4",
   "metadata": {},
   "outputs": [],
   "source": [
    "plt.figure(figsize=(20,20))\n",
    "sns.scatterplot(x=adata_iso.obs.x, y=adata_iso.obs.y, hue=adata_iso.obs.leiden, s=12)\n",
    "#sns.scatterplot(adata_iso.obs.x, adata_iso.obs.y, c=adata_iso.obs.sum_barcode_counts, s=12)\n",
    "plt.xlim(1000, 25000)\n",
    "#plt.ylim(15000, 4000)\n",
    "plt.gca().set_aspect('equal')\n",
    "plt.gca().invert_yaxis()\n",
    "plt.axis('off')"
   ]
  },
  {
   "cell_type": "code",
   "execution_count": null,
   "id": "adc6d667",
   "metadata": {},
   "outputs": [],
   "source": [
    "plt.figure(figsize=(20,20))\n",
    "#plt.scatter(adata.obs.x, adata.obs.y, c=adata.obs.leiden.astype(int))\n",
    "sns.scatterplot(x=adata_vis.obs.x, y=adata_vis.obs.y, hue=adata_vis.obs.leiden)\n",
    "plt.xlim(5000, 20000)\n",
    "plt.ylim(15000, 4000)\n",
    "plt.gca().set_aspect('equal')\n",
    "plt.axis('off')"
   ]
  },
  {
   "cell_type": "code",
   "execution_count": null,
   "id": "23b4d9f2",
   "metadata": {},
   "outputs": [],
   "source": [
    "#Save adata with all analysis\n",
    "adata.write('/nemo/lab/znamenskiyp/home/users/becalia/data/BRYC65.1d/adata.h5ad')\n",
    "adata_iso.write('/nemo/lab/znamenskiyp/home/users/becalia/data/BRYC65.1d/adata_iso.h5ad')\n",
    "adata_vis.write('/nemo/lab/znamenskiyp/home/users/becalia/data/BRYC65.1d/adata_vis.h5ad')"
   ]
  },
  {
   "cell_type": "code",
   "execution_count": null,
   "id": "f62ffe87",
   "metadata": {},
   "outputs": [],
   "source": [
    "#Individual clusters can be subset and then PCA, UMAP etc can be performed again\n",
    "adata_exc_cortex = adata_iso[adata_iso.obs.leiden == '0'].copy()\n",
    "adata_exc_cortex"
   ]
  }
 ],
 "metadata": {
  "kernelspec": {
   "display_name": "Python 3 (ipykernel)",
   "language": "python",
   "name": "python3"
  },
  "language_info": {
   "codemirror_mode": {
    "name": "ipython",
    "version": 3
   },
   "file_extension": ".py",
   "mimetype": "text/x-python",
   "name": "python",
   "nbconvert_exporter": "python",
   "pygments_lexer": "ipython3",
   "version": "3.10.2"
  }
 },
 "nbformat": 4,
 "nbformat_minor": 5
}
