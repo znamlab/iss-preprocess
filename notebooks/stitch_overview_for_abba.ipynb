{
 "cells": [
  {
   "cell_type": "markdown",
   "metadata": {},
   "source": [
    "# Register to ARA\n",
    "\n",
    "The aim is to register individual slices to the Allen Reference Atlas. Example solutions\n",
    "for this type of registration are described here:\n",
    "https://forum.image.sc/t/comparison-of-some-tools-for-brain-slice-to-atlas-registration/43260\n",
    "\n",
    "We will start with ABBA. This require a stitched overview of one slice in a pyramidal format.\n",
    "\n",
    "## Stitch example round\n",
    "\n",
    "First step is to stitch on slice."
   ]
  },
  {
   "cell_type": "code",
   "execution_count": 2,
   "metadata": {},
   "outputs": [],
   "source": [
    "%load_ext autoreload\n",
    "%autoreload 2"
   ]
  },
  {
   "cell_type": "code",
   "execution_count": 3,
   "metadata": {},
   "outputs": [
    {
     "name": "stderr",
     "output_type": "stream",
     "text": [
      "/camp/home/blota/.conda/envs/iss-preprocess/lib/python3.10/site-packages/trackpy/utils.py:22: DeprecationWarning: distutils Version classes are deprecated. Use packaging.version instead.\n",
      "  is_pandas_since_023 = (LooseVersion(pd.__version__) >=\n",
      "/camp/home/blota/.conda/envs/iss-preprocess/lib/python3.10/site-packages/trackpy/utils.py:23: DeprecationWarning: distutils Version classes are deprecated. Use packaging.version instead.\n",
      "  LooseVersion('0.23.0'))\n",
      "/camp/home/blota/.conda/envs/iss-preprocess/lib/python3.10/site-packages/trackpy/utils.py:29: DeprecationWarning: distutils Version classes are deprecated. Use packaging.version instead.\n",
      "  is_scipy_15 = LooseVersion(\"1.5.0\") <= LooseVersion(scipy.__version__) < LooseVersion('1.6.0')\n",
      "/camp/home/blota/.conda/envs/iss-preprocess/lib/python3.10/site-packages/trackpy/utils.py:29: DeprecationWarning: distutils Version classes are deprecated. Use packaging.version instead.\n",
      "  is_scipy_15 = LooseVersion(\"1.5.0\") <= LooseVersion(scipy.__version__) < LooseVersion('1.6.0')\n",
      "/camp/home/blota/.conda/envs/iss-preprocess/lib/python3.10/site-packages/trackpy/utils.py:29: DeprecationWarning: distutils Version classes are deprecated. Use packaging.version instead.\n",
      "  is_scipy_15 = LooseVersion(\"1.5.0\") <= LooseVersion(scipy.__version__) < LooseVersion('1.6.0')\n",
      "/camp/home/blota/.conda/envs/iss-preprocess/lib/python3.10/site-packages/trackpy/utils.py:201: DeprecationWarning: Importing clear_output from IPython.core.display is deprecated since IPython 7.14, please import from IPython display\n",
      "  from IPython.core.display import clear_output\n",
      "/camp/home/blota/.conda/envs/iss-preprocess/lib/python3.10/site-packages/trackpy/preprocessing.py:4: DeprecationWarning: Please use `uniform_filter1d` from the `scipy.ndimage` namespace, the `scipy.ndimage.filters` namespace is deprecated.\n",
      "  from scipy.ndimage.filters import uniform_filter1d, correlate1d\n",
      "/camp/home/blota/.conda/envs/iss-preprocess/lib/python3.10/site-packages/trackpy/preprocessing.py:4: DeprecationWarning: Please use `correlate1d` from the `scipy.ndimage` namespace, the `scipy.ndimage.filters` namespace is deprecated.\n",
      "  from scipy.ndimage.filters import uniform_filter1d, correlate1d\n",
      "/camp/home/blota/.conda/envs/iss-preprocess/lib/python3.10/site-packages/trackpy/preprocessing.py:5: DeprecationWarning: Please use `fourier_gaussian` from the `scipy.ndimage` namespace, the `scipy.ndimage.fourier` namespace is deprecated.\n",
      "  from scipy.ndimage.fourier import fourier_gaussian\n"
     ]
    }
   ],
   "source": [
    "import iss_preprocess as iss\n",
    "from tifffile import imread, imsave\n",
    "import iss_preprocess as iss\n",
    "from iss_preprocess.io.save import write_stack\n",
    "import matplotlib.pyplot as plt\n",
    "from flexiznam.config import PARAMETERS\n",
    "import numpy as np\n",
    "from pathlib import Path\n",
    "from iss_preprocess.image import correction\n",
    "\n",
    "project = \"becalia_rabies_barseq\"\n",
    "mouse = \"BRYC65.1d\"\n",
    "chamber = \"chamber_13\"\n",
    "ref_acq = \"genes_round_1_1\"\n",
    "# dark_frame = \"becalia_iss1_microscope/calibration/20221209_dark_frame\"\n",
    "\n",
    "raw = Path(PARAMETERS[\"data_root\"][\"raw\"])\n",
    "data_path = Path(project) / mouse / chamber\n",
    "processed = Path(PARAMETERS[\"data_root\"][\"processed\"])\n",
    "registration_folder = processed / data_path / \"register_to_ara\"\n",
    "registration_folder.mkdir(exist_ok=True)\n"
   ]
  },
  {
   "attachments": {},
   "cell_type": "markdown",
   "metadata": {},
   "source": [
    "### Make correction image\n",
    "\n",
    "That should be done by the pipeline, but in case it's not done, here it is:"
   ]
  },
  {
   "cell_type": "code",
   "execution_count": 4,
   "metadata": {},
   "outputs": [],
   "source": [
    "# Create single averages\n",
    "REDO = False\n",
    "average_dir = processed / data_path / \"averages\"\n",
    "average_dir.mkdir(exist_ok=True)\n",
    "if REDO:\n",
    "    from iss_preprocess import pipeline\n",
    "    pipeline.create_all_single_averages(data_path=data_path)"
   ]
  },
  {
   "cell_type": "code",
   "execution_count": 5,
   "metadata": {},
   "outputs": [],
   "source": [
    "# Create grand averages\n",
    "REDO = False\n",
    "if REDO:\n",
    "    from iss_preprocess import pipeline\n",
    "\n",
    "    pipeline.create_grand_averages(\n",
    "        data_path=data_path, prefix_todo=(\"genes_round\", \"barcode_round\")\n",
    "    )"
   ]
  },
  {
   "cell_type": "code",
   "execution_count": 6,
   "metadata": {},
   "outputs": [],
   "source": [
    "# Do diagnostic plots\n",
    "REDO = False\n",
    "if REDO:\n",
    "    from iss_preprocess.pipeline import diagnostic\n",
    "    diagnostic.check_illumination_correction(\n",
    "        data_path, grand_averages=(\"barcode_round\", \"genes_round\")\n",
    "    )"
   ]
  },
  {
   "cell_type": "markdown",
   "metadata": {},
   "source": [
    "## Stitch tiles\n",
    "\n",
    "We will take all rois in the `ref_acq` and stitch them. The save the generated image in\n",
    "`registration_folder`."
   ]
  },
  {
   "cell_type": "code",
   "execution_count": 7,
   "metadata": {},
   "outputs": [],
   "source": [
    "reference_prefix = \"genes_round_1_1\" # including round\n",
    "ops = np.load(processed / data_path / \"ops.npy\", allow_pickle=True).item()\n",
    "suffix = ops['projection']"
   ]
  },
  {
   "cell_type": "code",
   "execution_count": 8,
   "metadata": {},
   "outputs": [
    {
     "data": {
      "text/plain": [
       "{'camera_order': [1, 3, 4, 2],\n",
       " 'genes_rounds': 7,\n",
       " 'barcode_rounds': 10,\n",
       " 'use_rois': [1, 2, 5, 6],\n",
       " 'correction_tiles': [(1, 5, 8),\n",
       "  (1, 5, 9),\n",
       "  (1, 4, 8),\n",
       "  (1, 4, 9),\n",
       "  (2, 4, 9),\n",
       "  (2, 3, 9),\n",
       "  (2, 2, 9),\n",
       "  (2, 2, 8)],\n",
       " 'correction_quantile': 0.9999,\n",
       " 'ref_tile': (1, 5, 8),\n",
       " 'barcode_ref_tiles': [(1, 5, 8),\n",
       "  (1, 5, 9),\n",
       "  (1, 4, 8),\n",
       "  (1, 4, 9),\n",
       "  (2, 4, 9),\n",
       "  (2, 3, 9),\n",
       "  (2, 2, 9),\n",
       "  (2, 2, 8)],\n",
       " 'ref_ch': 0,\n",
       " 'ref_round': 0,\n",
       " 'filter_r': (2, 4),\n",
       " 'detection_threshold': 0.15,\n",
       " 'isolation_threshold': 0.05,\n",
       " 'barcode_correct_channels': 'round1_only',\n",
       " 'barcode_detection_threshold': 0.3,\n",
       " 'barcode_isolation_threshold': 0.3,\n",
       " 'barcode_detection_threshold_basecalling': 0.1,\n",
       " 'hybridisation_correct_channels': True,\n",
       " 'hyb_spot_detection_threshold': 0.5,\n",
       " 'codebook': 'codebook_83gene_pool.csv',\n",
       " 'projection': 'fstack',\n",
       " 'hybridisation_projection': 'max',\n",
       " 'spot_extraction_radius': 2,\n",
       " 'spot_shape_radius': 7,\n",
       " 'spot_shape_neighbor_filter_size': 9,\n",
       " 'spot_shape_neighbor_threshold': 15,\n",
       " 'omp_min_intensity': 0.005,\n",
       " 'omp_threshold': 0.2,\n",
       " 'omp_max_genes': 12,\n",
       " 'omp_alpha': 200,\n",
       " 'spot_threshold': 0.15,\n",
       " 'spot_rho': 2,\n",
       " 'barcode_spot_rho': 0.5,\n",
       " 'cellpose_model': 'cyto',\n",
       " 'cellpose_rescale': 0.55,\n",
       " 'cellpose_flow_threshold': 0.4,\n",
       " 'average_clip_value': 2000,\n",
       " 'average_median_filter': 5,\n",
       " 'black_level': array([38.4525411 , 38.24207294, 38.45687868, 38.46573468])}"
      ]
     },
     "execution_count": 8,
     "metadata": {},
     "output_type": "execute_result"
    }
   ],
   "source": [
    "ops"
   ]
  },
  {
   "cell_type": "code",
   "execution_count": 7,
   "metadata": {},
   "outputs": [
    {
     "name": "stdout",
     "output_type": "stream",
     "text": [
      "Found 8 ROIs.\n"
     ]
    }
   ],
   "source": [
    "# find the number of ROIs and the number of tiles per roi from file names\n",
    "import re\n",
    "from iss_preprocess.io.save import save_ome_tiff_pyramid\n",
    "\n",
    "pattern = fr\"{reference_prefix}_MMStack_(\\d*)-Pos(\\d\\d\\d)_(\\d\\d\\d)_{suffix}.tif\"\n",
    "find_acq = re.compile(pattern)\n",
    "data = dict()\n",
    "for fname in (processed /  data_path / reference_prefix).iterdir():\n",
    "    m = find_acq.match(fname.name)\n",
    "    if m:\n",
    "        nroi, tile_x, tile_y = np.array(m.groups(), dtype=int)\n",
    "        if not nroi in data:\n",
    "            data[nroi] = []\n",
    "        data[nroi].append([tile_x, tile_y])\n",
    "data = {k: np.vstack(v) for k, v in data.items()}\n",
    "ntiles_per_roi = {k: np.max(v, axis=0) + 1 for k, v in data.items()}\n",
    "print(\"Found %d ROIs.\" % len(ntiles_per_roi))"
   ]
  },
  {
   "cell_type": "code",
   "execution_count": 8,
   "metadata": {},
   "outputs": [],
   "source": [
    "metadata = iss.io.load.load_metadata(data_path)\n",
    "acq_metadata = iss.io.load.load_single_acq_metdata(data_path, prefix='genes_round_1_1')\n",
    "pixel_size = acq_metadata['FrameKey-0-0-0']['PixelSizeUm']\n",
    "# pixel_size = 0.1862"
   ]
  },
  {
   "attachments": {},
   "cell_type": "markdown",
   "metadata": {},
   "source": [
    "### Find shifts"
   ]
  },
  {
   "cell_type": "code",
   "execution_count": null,
   "metadata": {},
   "outputs": [],
   "source": [
    "shift_right, shift_down, tile_shape = iss.pipeline.register_adjacent_tiles(\n",
    "    data_path, ref_coors=ops[\"ref_tile\"], prefix=reference_prefix)"
   ]
  },
  {
   "cell_type": "markdown",
   "metadata": {},
   "source": [
    "### Do the actual stitching\n",
    "\n",
    "Of refrence channel only"
   ]
  },
  {
   "cell_type": "code",
   "execution_count": null,
   "metadata": {},
   "outputs": [
    {
     "name": "stdout",
     "output_type": "stream",
     "text": [
      "Doing roi 6 (19 by 10 tiles)\n",
      " ... stitching\n",
      " ... saving reference channel 0\n",
      "... Clipping array\n",
      "... Resize\n",
      "... writing full res image\n",
      "... writing pyramidal layer 1\n",
      "... writing pyramidal layer 2\n",
      "... writing pyramidal layer 3\n",
      "... writing pyramidal layer 4\n",
      "... writing pyramidal layer 5\n",
      "Done!\n",
      "Doing roi 7 (19 by 12 tiles)\n",
      " ... stitching\n",
      " ... saving reference channel 0\n",
      "... Clipping array\n",
      "... Resize\n",
      "... writing full res image\n",
      "... writing pyramidal layer 1\n",
      "... writing pyramidal layer 2\n",
      "... writing pyramidal layer 3\n",
      "... writing pyramidal layer 4\n",
      "... writing pyramidal layer 5\n",
      "Done!\n",
      "Doing roi 5 (18 by 12 tiles)\n",
      " ... stitching\n",
      " ... saving reference channel 0\n",
      "... Clipping array\n",
      "... Resize\n",
      "... writing full res image\n",
      "... writing pyramidal layer 1\n",
      "... writing pyramidal layer 2\n",
      "... writing pyramidal layer 3\n",
      "... writing pyramidal layer 4\n",
      "... writing pyramidal layer 5\n",
      "Done!\n",
      "Doing roi 4 (19 by 12 tiles)\n",
      " ... stitching\n"
     ]
    }
   ],
   "source": [
    "REDO = True\n",
    "DO_ONE = False  # do only one and stop (useful to create variables to debug)\n",
    "fig, axes = plt.subplots(int(np.ceil(len(ntiles_per_roi)/4)), 4)\n",
    "for iroi, (roi_num, ntiles) in enumerate(ntiles_per_roi.items()):\n",
    "    target = registration_folder / f\"stitched_{reference_prefix}_roi_{roi_num}.ome.tif\"\n",
    "    if target.exists() and not REDO:\n",
    "        print(\"%s already exists.\" % target.name, flush=True)\n",
    "        continue\n",
    "    print(\"Doing roi %d (%d by %d tiles)\" % (roi_num, *ntiles), flush=True)\n",
    "    print(\" ... stitching\", flush=True)\n",
    "    \n",
    "    stitched_stack = iss.pipeline.stitch_tiles(\n",
    "        data_path,\n",
    "        reference_prefix,\n",
    "        shift_right,\n",
    "        shift_down,\n",
    "        suffix=ops[\"projection\"],\n",
    "        roi=roi_num,\n",
    "        ich=ops['ref_ch'],\n",
    "        correct_illumination=True,\n",
    "    )\n",
    "    # save output\n",
    "    print(\" ... saving reference channel %d\" % ops['ref_ch'], flush=True)\n",
    "    target = registration_folder / f\"stitched_{reference_prefix}_roi_{roi_num}_ch{ops['ref_ch']}.ome.tif\"\n",
    "    smallest = save_ome_tiff_pyramid(\n",
    "        target,\n",
    "        stitched_stack,\n",
    "        pixel_size=pixel_size,\n",
    "        subresolutions=5,\n",
    "        max_size=1,\n",
    "    )\n",
    "    axes.flatten()[iroi].imshow(smallest)\n",
    "    axes.flatten()[iroi].set_title(f\"Roi {roi_num}\")\n",
    "    if DO_ONE:\n",
    "        break\n",
    "    print(\"Done!\")\n",
    "for x in axes.flatten():\n",
    "    x.set_xticks([])\n",
    "    x.set_yticks([])\n",
    "fig.tight_layout()\n"
   ]
  },
  {
   "cell_type": "code",
   "execution_count": null,
   "metadata": {},
   "outputs": [],
   "source": [
    "projection = np.nanmax(out, axis=0)\n",
    "plt.imshow(projection[100:10000:5, 5000:15000:5], vmax=200)\n"
   ]
  },
  {
   "cell_type": "code",
   "execution_count": null,
   "metadata": {},
   "outputs": [],
   "source": [
    "projection = np.nanmin(out, axis=0)\n",
    "plt.imshow(projection[::10, ::10])\n"
   ]
  },
  {
   "cell_type": "code",
   "execution_count": null,
   "metadata": {},
   "outputs": [],
   "source": [
    "import matplotlib.pyplot as plt\n",
    "\n",
    "plt.imshow(smallest)\n"
   ]
  },
  {
   "cell_type": "code",
   "execution_count": null,
   "metadata": {},
   "outputs": [],
   "source": [
    "import matplotlib.pyplot as plt\n",
    "\n",
    "minp = np.nanmin(out, axis=0)\n"
   ]
  },
  {
   "cell_type": "code",
   "execution_count": null,
   "metadata": {},
   "outputs": [],
   "source": [
    "print(\"Copy array\")\n",
    "fig = plt.figure(figsize=(15, 4))\n",
    "image = np.array(minp)\n",
    "plt.subplot(1, 3, 1)\n",
    "plt.imshow(image[::20, ::20])\n",
    "plt.colorbar()\n",
    "print(\"Normalised\")\n",
    "p = np.nanquantile(image, 0.05)\n",
    "q = np.nanquantile(image, 0.999)\n",
    "image = (image - p) * 255 / (q - p)\n",
    "plt.subplot(1, 3, 2)\n",
    "plt.imshow(image[::20, ::20])\n",
    "plt.colorbar()\n",
    "print(\"Converting\")\n",
    "image = np.clip(image, 0, 255)\n",
    "image = np.array(image, dtype=\"uint8\")\n",
    "plt.subplot(1, 3, 3)\n",
    "plt.imshow(image[::20, ::20])\n",
    "plt.colorbar()\n"
   ]
  }
 ],
 "metadata": {
  "kernelspec": {
   "display_name": "Python 3.10.8 ('iss-preprocess')",
   "language": "python",
   "name": "python3"
  },
  "language_info": {
   "codemirror_mode": {
    "name": "ipython",
    "version": 3
   },
   "file_extension": ".py",
   "mimetype": "text/x-python",
   "name": "python",
   "nbconvert_exporter": "python",
   "pygments_lexer": "ipython3",
   "version": "3.10.8"
  },
  "orig_nbformat": 4,
  "vscode": {
   "interpreter": {
    "hash": "6f6453066f0b8e07605712c689f4630f5cec26ed25eeb949388b0d94ce3c4139"
   }
  }
 },
 "nbformat": 4,
 "nbformat_minor": 2
}
