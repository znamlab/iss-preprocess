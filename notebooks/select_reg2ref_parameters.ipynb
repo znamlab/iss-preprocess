{
 "cells": [
  {
   "cell_type": "markdown",
   "metadata": {},
   "source": [
    "# Select reg2ref parameters\n",
    "\n",
    "The registration to reference uses a couple of parameters that can be tuned to improve \n",
    "the registration. The parameters are:\n",
    "\n",
    "- `reg_channels`: The channels of the moving image to use. The default is `None` to \n",
    "use the average of all channel.\n",
    "- `ref_channels`: The  channels of the fixed image to use. The default is `None` to \n",
    "use the average of all channel.\n",
    "- `binarise_quantile`: The quantile to use to binarise the moving image. The default\n",
    "is `0.7`."
   ]
  },
  {
   "cell_type": "code",
   "execution_count": null,
   "metadata": {},
   "outputs": [],
   "source": [
    "import matplotlib.pyplot as plt\n",
    "import numpy as np\n",
    "\n",
    "import iss_preprocess as iss\n",
    "\n",
    "data_path = \"becalia_rabies_barseq/BRAC8501.6a/chamber_07\"\n",
    "reg_prefix = \"barcode_round\"\n",
    "ref_prefix = \"genes_round\"\n",
    "ref_tile_index = 0  # which of the reference tiles do we want to use for plots\n",
    "\n",
    "# PARAMETERS:\n",
    "reg_channels = None  # None or list of channels to use for registration\n",
    "ref_channels = None  # reference channel for registration\n",
    "binarise_quantile = 0.7  # quantile for binarization"
   ]
  },
  {
   "cell_type": "code",
   "execution_count": null,
   "metadata": {},
   "outputs": [],
   "source": [
    "ops = iss.io.load.load_ops(data_path)\n",
    "short_pref = reg_prefix.split(\"_\")[0]\n",
    "ref_tiles = ops[f\"{short_pref}_ref_tiles\"]\n",
    "print(f\"{len(ref_tiles)} reference tiles found. Using {ref_tile_index}.\")\n",
    "ref_tile = ref_tiles[ref_tile_index]"
   ]
  },
  {
   "cell_type": "markdown",
   "metadata": {},
   "source": [
    "## Channel selection\n",
    "\n",
    "The first parameter is the channel selection. The registration to reference is performed\n",
    "on the average of the selected channels. The hope is to improve the registration by\n",
    "getting the background from the average of the channels, which is more conserved \n",
    "than the rolonie position."
   ]
  },
  {
   "cell_type": "code",
   "execution_count": null,
   "metadata": {},
   "outputs": [],
   "source": [
    "# load the data\n",
    "from scipy.ndimage import median_filter\n",
    "from skimage.morphology import disk\n",
    "\n",
    "ref_all_channels, _ = iss.pipeline.load_and_register_tile(\n",
    "    data_path=data_path,\n",
    "    tile_coors=ref_tile,\n",
    "    prefix=ref_prefix,\n",
    "    filter_r=False,\n",
    ")\n",
    "reg_all_channels, _ = iss.pipeline.load_and_register_tile(\n",
    "    data_path=data_path, tile_coors=ref_tile, prefix=reg_prefix, filter_r=False\n",
    ")\n",
    "\n",
    "if ref_channels is not None:\n",
    "    if isinstance(ref_channels, int):\n",
    "        ref_channels = [ref_channels]\n",
    "    ref_all_channels = ref_all_channels[:, :, ref_channels]\n",
    "ref = np.nanmean(ref_all_channels, axis=(2, 3))\n",
    "\n",
    "if reg_channels is not None:\n",
    "    if isinstance(reg_channels, int):\n",
    "        reg_channels = [reg_channels]\n",
    "    reg_all_channels = reg_all_channels[:, :, reg_channels]\n",
    "reg = np.nanmean(reg_all_channels, axis=(2, 3))\n",
    "\n",
    "\n",
    "if ops[\"reg_median_filter\"]:\n",
    "    print(\"Median filtering...\")\n",
    "    ref = median_filter(ref, footprint=disk(ops[\"reg_median_filter\"]), axes=(0, 1))\n",
    "    reg = median_filter(reg, footprint=disk(ops[\"reg_median_filter\"]), axes=(0, 1))"
   ]
  },
  {
   "cell_type": "code",
   "execution_count": null,
   "metadata": {},
   "outputs": [],
   "source": [
    "fig, axes = plt.subplots(1, 2, figsize=(10, 5))\n",
    "iss.vis.plot_matrix_with_colorbar(ref, ax=axes[0])\n",
    "axes[0].set_title(\"Reference\")\n",
    "iss.vis.plot_matrix_with_colorbar(reg, ax=axes[1])\n",
    "axes[1].set_title(\"Target\")\n",
    "for ax in axes:\n",
    "    ax.axis(\"off\")"
   ]
  },
  {
   "cell_type": "markdown",
   "metadata": {},
   "source": [
    "## Binarisation threshold\n",
    "\n",
    "The second parameter is the binarisation threshold. The registration to reference is\n",
    "performed on the binarised image. The binarisation is performed using a threshold.\n",
    "The threshold can be tuned to improve the registration."
   ]
  },
  {
   "cell_type": "code",
   "execution_count": null,
   "metadata": {},
   "outputs": [],
   "source": [
    "# apply binarization\n",
    "if binarise_quantile is not None:\n",
    "    reg_b = reg > np.quantile(reg, binarise_quantile)\n",
    "    ref_b = ref > np.quantile(ref, binarise_quantile)\n",
    "fig, axes = plt.subplots(1, 2, figsize=(10, 5))\n",
    "iss.vis.plot_matrix_with_colorbar(ref_b, ax=axes[0])\n",
    "axes[0].set_title(\"Reference\")\n",
    "iss.vis.plot_matrix_with_colorbar(reg_b, ax=axes[1])\n",
    "axes[1].set_title(\"Target\")\n",
    "for ax in axes:\n",
    "    ax.axis(\"off\")"
   ]
  },
  {
   "cell_type": "markdown",
   "metadata": {},
   "source": [
    "# Actual registration\n",
    "\n",
    "This is the slow part. If this reference image doesn't work, no hope for the rest of the\n",
    "tiles."
   ]
  },
  {
   "cell_type": "code",
   "execution_count": null,
   "metadata": {},
   "outputs": [],
   "source": [
    "angle, shift, xcorr = iss.reg.estimate_rotation_translation(\n",
    "    ref,\n",
    "    reg,\n",
    "    angle_range=1.0,\n",
    "    niter=3,\n",
    "    nangles=15,\n",
    "    max_shift=ops[\"rounds_max_shift\"],\n",
    "    debug=True,\n",
    ")\n",
    "print(f\"Estimated rotation: {angle} degrees\")\n",
    "print(f\"Estimated shifts: {shift}\")"
   ]
  },
  {
   "cell_type": "code",
   "execution_count": null,
   "metadata": {},
   "outputs": [],
   "source": [
    "# transform the reg image to match the ref\n",
    "reg_t = iss.reg.transform_image(reg, angle=angle, shift=shift)\n",
    "reg_bt = iss.reg.transform_image(reg_b, angle=angle, shift=shift)\n",
    "fig, axes = plt.subplots(2, 3, figsize=(15, 10))\n",
    "axes = axes.flatten()\n",
    "iss.vis.plot_matrix_with_colorbar(ref, ax=axes[0])\n",
    "axes[0].set_title(\"Reference\")\n",
    "iss.vis.plot_matrix_with_colorbar(reg, ax=axes[1])\n",
    "axes[1].set_title(\"Target\")\n",
    "iss.vis.plot_matrix_with_colorbar(reg_t, ax=axes[2])\n",
    "axes[2].set_title(\"Transformed\")\n",
    "iss.vis.plot_matrix_with_colorbar(ref_b, ax=axes[3])\n",
    "axes[3].set_title(\"Reference (binarized)\")\n",
    "iss.vis.plot_matrix_with_colorbar(reg_b, ax=axes[4])\n",
    "axes[4].set_title(\"Target (binarized)\")\n",
    "iss.vis.plot_matrix_with_colorbar(reg_bt, ax=axes[5])\n",
    "axes[5].set_title(\"Transformed (binarized)\")\n",
    "for ax in axes:\n",
    "    ax.axis(\"off\")"
   ]
  },
  {
   "cell_type": "code",
   "execution_count": null,
   "metadata": {},
   "outputs": [],
   "source": [
    "# make a rgb overlay\n",
    "vmins = [np.percentile(ref, 1), np.percentile(reg_t, 1)]\n",
    "vmaxs = [np.percentile(ref, 99.5), np.percentile(reg_t, 99.5)]\n",
    "rgb = iss.vis.to_rgb(\n",
    "    np.stack([ref, reg_t], axis=2),\n",
    "    colors=([1, 0, 0], [0, 1, 0]),\n",
    "    vmin=vmins,\n",
    "    vmax=vmaxs,\n",
    ")\n",
    "rgb_b = iss.vis.to_rgb(\n",
    "    np.stack([ref_b, reg_bt], axis=2),\n",
    "    colors=([1, 0, 0], [0, 1, 0]),\n",
    "    vmin=[0, 0],\n",
    "    vmax=[1, 1],\n",
    ")\n",
    "fig, axes = plt.subplots(2, 2, figsize=(10, 10))\n",
    "center = np.array(ref.shape) / 2\n",
    "for i in range(2):\n",
    "    axes[0, i].imshow(rgb)\n",
    "    axes[1, i].imshow(rgb_b)\n",
    "    axes[i, 1].set_xlim(center[1] - 250, center[1] + 250)\n",
    "    axes[i, 1].set_ylim(center[0] + 250, center[0] - 250)\n",
    "\n",
    "for ax in axes.flatten():\n",
    "    ax.axis(\"off\")"
   ]
  },
  {
   "cell_type": "markdown",
   "metadata": {},
   "source": [
    "## Debugging\n",
    "\n",
    "In case it fails, looking at the cross-correlation can help to understand why it fails."
   ]
  },
  {
   "cell_type": "code",
   "execution_count": null,
   "metadata": {},
   "outputs": [],
   "source": [
    "print(\"There are the following keys in xcorr:\")\n",
    "for k in xcorr.keys():\n",
    "    print(f\"    - {k}\")"
   ]
  },
  {
   "cell_type": "code",
   "execution_count": null,
   "metadata": {},
   "outputs": [],
   "source": [
    "key = \"phase_corr\"\n",
    "x = xcorr[key]\n",
    "max_shift = ops[\"rounds_max_shift\"]\n",
    "plt.imshow(x, cmap=\"viridis\")\n",
    "center = np.array(x.shape) / 2\n",
    "plt.xlim(center[1] - max_shift, center[1] + max_shift)\n",
    "plt.ylim(center[0] + max_shift, center[0] - max_shift)\n",
    "plt.axvline(center[1], color=\"k\", linestyle=\"--\", lw=0.5)\n",
    "plt.axhline(center[0], color=\"k\", linestyle=\"--\", lw=0.5)\n",
    "plt.scatter(\n",
    "    shift[1] + center[1],\n",
    "    shift[0] + center[0],\n",
    "    color=\"r\",\n",
    "    s=max_shift / 5,\n",
    "    marker=\"o\",\n",
    "    fc=\"none\",\n",
    ")"
   ]
  },
  {
   "cell_type": "code",
   "execution_count": null,
   "metadata": {},
   "outputs": [],
   "source": []
  }
 ],
 "metadata": {
  "kernelspec": {
   "language": "python"
  },
  "language_info": {
   "codemirror_mode": {
    "name": "ipython",
    "version": 3
   },
   "file_extension": ".py",
   "mimetype": "text/x-python",
   "name": "python",
   "nbconvert_exporter": "python",
   "pygments_lexer": "ipython3"
  }
 },
 "nbformat": 4,
 "nbformat_minor": 2
}
