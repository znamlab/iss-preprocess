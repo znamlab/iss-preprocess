{
 "cells": [
  {
   "cell_type": "markdown",
   "metadata": {},
   "source": [
    "# Detect barcoded cells"
   ]
  },
  {
   "cell_type": "code",
   "execution_count": null,
   "metadata": {},
   "outputs": [],
   "source": [
    "# imports and chamber selection\n",
    "%load_ext autoreload\n",
    "%autoreload 2\n",
    "import iss_preprocess as iss\n",
    "import pandas as pd\n",
    "import numpy as np\n",
    "import matplotlib.pyplot as plt\n",
    "import yaml\n",
    "from flexiznam.config import PARAMETERS\n",
    "from pathlib import Path\n",
    "from itertools import cycle\n",
    "from matplotlib.animation import FuncAnimation\n",
    "data_path = 'becalia_rabies_barseq/BRYC65.1d/chamber_13/'\n",
    "\n",
    "processed_path = Path(PARAMETERS['data_root']['processed'])\n",
    "metadata = iss.io.load_metadata(data_path)\n",
    "\n",
    "ops = iss.config.DEFAULT_OPS.copy()\n",
    "ops.update({ \n",
    "    'camera_order': metadata[\"camera_order\"],\n",
    "    'genes_rounds': metadata[\"genes_rounds\"],\n",
    "    'barcode_rounds': metadata[\"barcode_rounds\"],\n",
    "    'use_rois': [1, 2, 5, 6],\n",
    "    'ref_tile': (1, 5, 8),\n",
    "    'correction_tiles': [(1, 5, 8), (1, 5, 9), (1, 4, 8), (1, 4, 9), (2, 4, 9), (2, 3, 9), (2, 2, 9), (2, 2, 8)],\n",
    "    'barcode_ref_tiles': [(1, 5, 8), (1, 5, 9), (1, 4, 8), (1, 4, 9), (2, 4, 9), (2, 3, 9), (2, 2, 9), (2, 2, 8)],\n",
    "    'average_clip_value': 2000,\n",
    "})"
   ]
  },
  {
   "cell_type": "markdown",
   "metadata": {},
   "source": [
    "## Filter detected barcodes\n",
    "\n",
    "We will load detected barcodes and filter them by dot product."
   ]
  },
  {
   "cell_type": "code",
   "execution_count": null,
   "metadata": {},
   "outputs": [],
   "source": [
    "roi = 1\n",
    "all_spots = pd.read_pickle(processed_path / data_path / f'barcode_round_spots_{roi}.pkl')\n",
    "print(f'{len(all_spots)} spots with {len(all_spots.bases.unique())} distincts barcodes.')"
   ]
  },
  {
   "cell_type": "code",
   "execution_count": null,
   "metadata": {},
   "outputs": [],
   "source": [
    "threshold = 0.2\n",
    "fig, ax = plt.subplots(1,1)\n",
    "fig.set_size_inches((5,2))\n",
    "ax.axvline(threshold, color='black')\n",
    "ax.hist(all_spots.dot_product_score, \n",
    "            bins=np.arange(-0.5, 1,0.01), histtype='step')\n",
    "ax.set_xlabel('Dot product score')\n",
    "_=ax.set_ylabel('# spots')"
   ]
  },
  {
   "cell_type": "code",
   "execution_count": null,
   "metadata": {},
   "outputs": [],
   "source": [
    "spots = all_spots[all_spots.dot_product_score > threshold]\n",
    "print(f'{len(spots)} spots with {len(spots.bases.unique())} distincts barcodes.')"
   ]
  },
  {
   "cell_type": "code",
   "execution_count": null,
   "metadata": {},
   "outputs": [],
   "source": [
    "# make a 1d kernel to convovle\n",
    "import cv2\n",
    "acq_data  = iss.io.load_single_acq_metdata(data_path, prefix='barcode_round_1_1')\n",
    "pixel_size = acq_data['FrameKey-0-0-0']['PixelSizeUm']\n",
    "kernel_size = int(10 / pixel_size)\n",
    "kernel_size += (1 - kernel_size % 2) # kernel shape must be odd\n",
    "kernel = cv2.getGaussianKernel(kernel_size, sigma=np.mean(kernel_size)/3)\n",
    "# set the initial value so that single pixels after convolution have a peak of 1\n",
    "kernel /= kernel.max()\n",
    "kernel = kernel.astype(\"single\")\n",
    "\n",
    "fig = plt.figure(figsize=(5,1))\n",
    "ax = fig.add_subplot(1,1,1)\n",
    "ax.plot((np.arange(kernel_size)-kernel_size)*pixel_size,kernel)\n",
    "_ = ax.set_xlabel('Distance (um)')"
   ]
  },
  {
   "cell_type": "code",
   "execution_count": null,
   "metadata": {},
   "outputs": [],
   "source": [
    "pixel_size"
   ]
  },
  {
   "cell_type": "code",
   "execution_count": null,
   "metadata": {},
   "outputs": [],
   "source": [
    "# make a spot \"image\"\n",
    "print('Convolving')\n",
    "blur = iss.segment.spots.make_spot_image(spots, kernel_size=kernel_size,\n",
    "                                          dtype=\"single\", output_shape=None)"
   ]
  },
  {
   "cell_type": "code",
   "execution_count": null,
   "metadata": {},
   "outputs": [],
   "source": [
    "s = np.array([10000, 7000])\n",
    "w = np.array([2000,2000])\n",
    "b = np.vstack([s, s+w]).astype(int)\n",
    "\n",
    "fig = plt.figure(figsize=(10, 10))\n",
    "plt.imshow(blur[slice(*b[:,0]),slice(*b[:,1])], vmax=15, vmin=0)\n",
    "plt.colorbar()\n",
    "plt.scatter(spots.x-s[1], spots.y-s[0],s=1, color='darkred', alpha=0.5)\n",
    "plt.xlim(0, w[1])\n",
    "plt.ylim(w[0],0)\n"
   ]
  },
  {
   "cell_type": "code",
   "execution_count": null,
   "metadata": {},
   "outputs": [],
   "source": [
    "cells = iss.segment.cells.cellpose_segmentation(\n",
    "    blur,\n",
    "    channels=(0, 0),\n",
    "    flow_threshold=0.4,\n",
    "    min_pix=0,\n",
    "    dilate_pix=0,\n",
    "    rescale=0.55,\n",
    "    model_type=\"cyto\",\n",
    "    use_gpu=True,\n",
    "    diameter=int(15/pixel_size)\n",
    ")"
   ]
  },
  {
   "cell_type": "code",
   "execution_count": null,
   "metadata": {},
   "outputs": [],
   "source": [
    "# binarise\n",
    "binarise_threshold = 5\n",
    "distance_threshold = 10\n",
    "mask = 255 * (blur > binarise_threshold).astype(\"uint8\")\n",
    "kernel = np.ones((5, 5), dtype='uint8') * 255\n",
    "background = cv2.dilate(mask, kernel, iterations=10)\n",
    "dst2nonzero = cv2.distanceTransform(mask, distanceType=cv2.DIST_L2, maskSize=5)\n",
    "is_cell = 255 * (dst2nonzero > distance_threshold).astype(\"uint8\")"
   ]
  },
  {
   "cell_type": "code",
   "execution_count": null,
   "metadata": {},
   "outputs": [],
   "source": [
    "#plot various binary step\n",
    "part2plot = (slice(5000+8000,5000+9000), slice(5000+1000,5000+2000))\n",
    "fig, axes = plt.subplots(2,2)\n",
    "fig.set_size_inches(10, 10)\n",
    "axes[0,0].imshow(mask[part2plot])\n",
    "axes[0,0].set_title('Binarised')\n",
    "axes[0,1].imshow(background[part2plot])\n",
    "axes[0,1].set_title('Background is blue')\n",
    "axes[1,0].imshow(dst2nonzero[part2plot])\n",
    "axes[1,0].set_title('Distance 2 non-zero')\n",
    "axes[1,1].imshow(is_cell[part2plot])\n",
    "axes[1,1].set_title('Cells')\n",
    "\n",
    "plt.tight_layout()"
   ]
  },
  {
   "cell_type": "markdown",
   "metadata": {},
   "source": [
    "# Now watershed\n",
    "\n",
    "We want to flood from each cell and extend around but not too far. We can do that by\n",
    "setting a label for the background that is far from cells"
   ]
  },
  {
   "cell_type": "code",
   "execution_count": null,
   "metadata": {},
   "outputs": [],
   "source": [
    "fig, axes = plt.subplots(2,2)\n",
    "fig.set_size_inches(10, 10)\n",
    "\n",
    "ret, markers = cv2.connectedComponents(is_cell)\n",
    "axes[0,0].imshow(markers[part2plot], cmap='Set2')\n",
    "axes[0,0].set_title('Markers')\n",
    "\n",
    "markers += 1 # make the background to 1\n",
    "markers[np.logical_not(background, is_cell)] = 0  # and part to watershed to 0\n",
    "axes[0,1].imshow(markers[part2plot], cmap='Set2')\n",
    "axes[0,1].set_title('Remove background')\n"
   ]
  },
  {
   "cell_type": "code",
   "execution_count": null,
   "metadata": {},
   "outputs": [],
   "source": [
    "\n",
    "markers = cv2.watershed(blur, markers)\n",
    "axes[1,0].imshow(markers[part2plot], cmap=\"Set2\")\n",
    "axes[1,0].set_title('Watershed')\n",
    "\n",
    "blur[markers==-1] = 0\n",
    "axes[1,1].imshow(blur[part2plot])\n",
    "axes[1,1].set_title('Cell contours')\n",
    "\n",
    "plt.tight_layout()"
   ]
  },
  {
   "cell_type": "code",
   "execution_count": null,
   "metadata": {},
   "outputs": [],
   "source": [
    "# basic imread\n",
    "fname = 'barcode_round_1_1_MMStack_5-Pos000_000_fstack.tif'\n",
    "full_fname = processed_path / data_path / \"barcode_round_1_1\" / fname\n",
    "%timeit iss.io.load.load_stack(full_fname).astype('single')"
   ]
  },
  {
   "cell_type": "code",
   "execution_count": null,
   "metadata": {},
   "outputs": [],
   "source": [
    "from tifffile import imread\n",
    "%timeit np.moveaxis(imread(full_fname).astype('single'), 0, 2)"
   ]
  },
  {
   "cell_type": "markdown",
   "metadata": {},
   "source": [
    "Optimising tile loading"
   ]
  },
  {
   "cell_type": "code",
   "execution_count": null,
   "metadata": {},
   "outputs": [],
   "source": [
    "from skimage.morphology import binary_dilation\n",
    "\n",
    "prefix='barcode_round'\n",
    "tile_coors = (5, 0, 0)\n",
    "nrounds = 1\n",
    "suffix = \"fstack\"\n",
    "filter_r = (2, 4)"
   ]
  },
  {
   "cell_type": "markdown",
   "metadata": {},
   "source": [
    "## original version with just processing steps\n",
    "\n",
    "This is for reference"
   ]
  },
  {
   "cell_type": "code",
   "execution_count": null,
   "metadata": {},
   "outputs": [],
   "source": [
    "# origin version with just processing steps\n",
    "def original_version():\n",
    "    processed_path = Path(PARAMETERS[\"data_root\"][\"processed\"])\n",
    "    tforms_fname = f\"tforms_corrected_{prefix}_{tile_coors[0]}_{tile_coors[1]}_{tile_coors[2]}.npz\"\n",
    "    tforms_path = processed_path / data_path / \"reg\" / tforms_fname\n",
    "    tforms = np.load(tforms_path, allow_pickle=True)\n",
    "\n",
    "    stack = iss.pipeline.load_sequencing_rounds(\n",
    "        data_path, tile_coors, suffix=suffix, prefix=prefix, nrounds=nrounds\n",
    "    )\n",
    "    tforms = iss.pipeline.generate_channel_round_transforms(\n",
    "        tforms[\"angles_within_channels\"],\n",
    "        tforms[\"shifts_within_channels\"],\n",
    "        tforms[\"scales_between_channels\"],\n",
    "        tforms[\"angles_between_channels\"],\n",
    "        tforms[\"shifts_between_channels\"],\n",
    "        stack.shape[:2],\n",
    "    )\n",
    "    stack = iss.pipeline.align_channels_and_rounds(stack, tforms)\n",
    "    stack = iss.pipeline.apply_illumination_correction(data_path, stack, prefix)\n",
    "    bad_pixels = np.any(np.isnan(stack), axis=(2, 3))\n",
    "    stack[np.isnan(stack)] = 0\n",
    "    stack = iss.pipeline.filter_stack(stack, r1=filter_r[0], r2=filter_r[1])\n",
    "    mask = np.ones((filter_r[1] * 2 + 1, filter_r[1] * 2 + 1))\n",
    "    bad_pixels = binary_dilation(bad_pixels, mask)\n",
    "\n",
    "    correction_path = processed_path / data_path / f\"correction_{prefix}.npz\"\n",
    "    norm_factors = np.load(correction_path, allow_pickle=True)[\"norm_factors\"]\n",
    "    stack = stack / norm_factors[np.newaxis, np.newaxis, :, :nrounds]\n",
    "    return stack\n",
    "%timeit original_version()\n"
   ]
  },
  {
   "cell_type": "code",
   "execution_count": null,
   "metadata": {},
   "outputs": [],
   "source": [
    "# separate tform version with just processing steps\n",
    "processed_path = Path(PARAMETERS[\"data_root\"][\"processed\"])\n",
    "tforms_fname = f\"tforms_corrected_{prefix}_{tile_coors[0]}_{tile_coors[1]}_{tile_coors[2]}.npz\"\n",
    "tforms_path = processed_path / data_path / \"reg\" / tforms_fname\n",
    "tforms = np.load(tforms_path, allow_pickle=True)\n",
    "image_shape = (3300, 3296)\n",
    "tforms = iss.pipeline.generate_channel_round_transforms(\n",
    "    tforms[\"angles_within_channels\"],\n",
    "    tforms[\"shifts_within_channels\"],\n",
    "    tforms[\"scales_between_channels\"],\n",
    "    tforms[\"angles_between_channels\"],\n",
    "    tforms[\"shifts_between_channels\"],\n",
    "    image_shape,\n",
    ")\n",
    "def pregenerate_tforms():\n",
    "    stack = iss.pipeline.load_sequencing_rounds(\n",
    "        data_path, tile_coors, suffix=suffix, prefix=prefix, nrounds=nrounds\n",
    "    )\n",
    "\n",
    "    stack = iss.pipeline.align_channels_and_rounds(stack, tforms)\n",
    "    stack = iss.pipeline.apply_illumination_correction(data_path, stack, prefix)\n",
    "    bad_pixels = np.any(np.isnan(stack), axis=(2, 3))\n",
    "    stack[np.isnan(stack)] = 0\n",
    "    stack = iss.pipeline.filter_stack(stack, r1=filter_r[0], r2=filter_r[1])\n",
    "    mask = np.ones((filter_r[1] * 2 + 1, filter_r[1] * 2 + 1))\n",
    "    bad_pixels = binary_dilation(bad_pixels, mask)\n",
    "\n",
    "    correction_path = processed_path / data_path / f\"correction_{prefix}.npz\"\n",
    "    norm_factors = np.load(correction_path, allow_pickle=True)[\"norm_factors\"]\n",
    "    stack = stack / norm_factors[np.newaxis, np.newaxis, :, :nrounds]\n",
    "%timeit pregenerate_tforms()\n"
   ]
  },
  {
   "cell_type": "code",
   "execution_count": null,
   "metadata": {},
   "outputs": [],
   "source": [
    "iss.io.load.load_stack(full_fname).astype('single').shape"
   ]
  },
  {
   "cell_type": "code",
   "execution_count": null,
   "metadata": {},
   "outputs": [],
   "source": [
    "np.moveaxis(imread(full_fname).astype('single'), 0, 2).shape"
   ]
  },
  {
   "cell_type": "code",
   "execution_count": null,
   "metadata": {},
   "outputs": [],
   "source": [
    "roi = 5\n",
    "stitched_stack_dapi, stitched_stack_genes, angle, shift = iss.pipeline.stitch_and_register(\n",
    "    data_path, 'genes_round_1_1', 'DAPI_1', roi=roi, downsample=5\n",
    ")\n"
   ]
  },
  {
   "cell_type": "code",
   "execution_count": null,
   "metadata": {},
   "outputs": [],
   "source": [
    "\n",
    "stitched_stack_barcode, stitched_stack_genes, angle, shift = iss.pipeline.stitch_and_register(\n",
    "    data_path, 'genes_round_1_1', 'barcode_round_1_1', roi=roi, downsample=5\n",
    ")\n"
   ]
  },
  {
   "cell_type": "code",
   "execution_count": null,
   "metadata": {},
   "outputs": [],
   "source": [
    "masks = np.load(processed_path / data_path / f\"masks_{roi}.npy\")\n",
    "im = np.stack([\n",
    "    stitched_stack_genes[3000:10000, 12000:20000], \n",
    "    stitched_stack_dapi[3000:10000, 12000:20000],\n",
    "    masks[3000:10000, 12000:20000]>0],\n",
    "    axis=2\n",
    ")\n",
    "shift_right, shift_down, tile_shape = iss.pipeline.register_adjacent_tiles(\n",
    "    data_path, ref_coors=ops['ref_tile'], prefix='genes_round_1_1'\n",
    ")\n",
    "genes_spots = iss.pipeline.merge_roi_spots(\n",
    "    data_path, shift_right, shift_down, tile_shape, iroi=roi, prefix=\"genes_round\"\n",
    ")\n"
   ]
  },
  {
   "cell_type": "code",
   "execution_count": null,
   "metadata": {},
   "outputs": [],
   "source": [
    "\n",
    "barcode_spots = iss.pipeline.merge_roi_spots(\n",
    "    data_path, shift_right, shift_down, tile_shape, iroi=roi, prefix=\"barcode_round\"\n",
    ")\n",
    "\n",
    "plt.figure(figsize=(50,50))\n",
    "plt.imshow(iss.vis.to_rgb(im, colors=[[1,0,0], [0,0,1], [0, 1, 0]], vmax=[400, 200, 1], vmin=np.array([30, 0, 0])))\n",
    "plt.plot(barcode_spots[\"x\"]-12000, barcode_spots[\"y\"]-3000, '.r', alpha=1, markersize=10)\n",
    "plt.plot(genes_spots[\"x\"]-12000, genes_spots[\"y\"]-3000, '.', color='purple', alpha=1, markersize=10)\n",
    "plt.xlim([0, 4000])\n",
    "plt.ylim([4000, 0])\n",
    "plt.axis(\"off\")"
   ]
  }
 ],
 "metadata": {
  "kernelspec": {
   "display_name": "Python 3 (ipykernel)",
   "language": "python",
   "name": "python3"
  },
  "language_info": {
   "codemirror_mode": {
    "name": "ipython",
    "version": 3
   },
   "file_extension": ".py",
   "mimetype": "text/x-python",
   "name": "python",
   "nbconvert_exporter": "python",
   "pygments_lexer": "ipython3",
   "version": "3.10.8"
  },
  "vscode": {
   "interpreter": {
    "hash": "02c4ab6ff317cb8a885d2aa2247e2bd7c17b0a4a2d1482529ed329ad25df85a1"
   }
  }
 },
 "nbformat": 4,
 "nbformat_minor": 2
}
