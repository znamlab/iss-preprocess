{
 "cells": [
  {
   "attachments": {},
   "cell_type": "markdown",
   "metadata": {},
   "source": [
    "# Detect barcoded cells\n",
    "\n",
    "This notebook works on a single tile to make it easier and faster"
   ]
  },
  {
   "cell_type": "code",
   "execution_count": null,
   "metadata": {},
   "outputs": [],
   "source": [
    "# imports and chamber selection\n",
    "%load_ext autoreload\n",
    "%autoreload 2\n",
    "import iss_preprocess as iss\n",
    "import pandas as pd\n",
    "import numpy as np\n",
    "import matplotlib.pyplot as plt\n",
    "import yaml\n",
    "from flexiznam.config import PARAMETERS\n",
    "from pathlib import Path\n",
    "from itertools import cycle\n",
    "from matplotlib.animation import FuncAnimation\n",
    "data_path = 'becalia_rabies_barseq/BRYC65.1d/chamber_13/'\n",
    "\n",
    "processed_path = Path(PARAMETERS['data_root']['processed'])\n",
    "metadata = iss.io.load_metadata(data_path)\n",
    "\n",
    "ops = iss.config.DEFAULT_OPS.copy()\n",
    "ops.update({ \n",
    "    'camera_order': metadata[\"camera_order\"],\n",
    "    'genes_rounds': metadata[\"genes_rounds\"],\n",
    "    'barcode_rounds': metadata[\"barcode_rounds\"],\n",
    "    'use_rois': [1, 2, 5, 6],\n",
    "    'ref_tile': (1, 5, 8),\n",
    "    'correction_tiles': [(1, 5, 8), (1, 5, 9), (1, 4, 8), (1, 4, 9), (2, 4, 9), (2, 3, 9), (2, 2, 9), (2, 2, 8)],\n",
    "    'barcode_ref_tiles': [(1, 5, 8), (1, 5, 9), (1, 4, 8), (1, 4, 9), (2, 4, 9), (2, 3, 9), (2, 2, 9), (2, 2, 8)],\n",
    "    'average_clip_value': 2000,\n",
    "})"
   ]
  },
  {
   "attachments": {},
   "cell_type": "markdown",
   "metadata": {},
   "source": [
    "## Filter detected barcodes\n",
    "\n",
    "We will load detected barcodes and filter them by dot product."
   ]
  },
  {
   "cell_type": "code",
   "execution_count": null,
   "metadata": {},
   "outputs": [],
   "source": [
    "roi = 5\n",
    "dot_threshold = 0.2\n",
    "gaussian_width_um = 10\n"
   ]
  },
  {
   "cell_type": "code",
   "execution_count": null,
   "metadata": {},
   "outputs": [],
   "source": [
    "# get spots\n",
    "raw_spots = dict()\n",
    "spot_list = ['genes_round', 'barcode_round', 'hybridisation_1_1', 'hybridisation_2_1']\n",
    "for prefix in spot_list:\n",
    "    if prefix.endswith('_1'):\n",
    "        reg_prefix = prefix\n",
    "    else:\n",
    "        reg_prefix = prefix + '_1_1'\n",
    "    prefix\n",
    "    spot_df = iss.pipeline.stitch.merge_and_align_spots(\n",
    "    data_path,\n",
    "    roi=5,\n",
    "    spots_prefix=prefix,\n",
    "    reg_prefix=reg_prefix,\n",
    "    ref_prefix=\"genes_round_1_1\",\n",
    ")\n",
    "    raw_spots[prefix] = spot_df"
   ]
  },
  {
   "cell_type": "code",
   "execution_count": null,
   "metadata": {},
   "outputs": [],
   "source": [
    "# filter spots\n",
    "barcode_dot_threshold = 0.15\n",
    "omp_score_threshold = 0.1\n",
    "hyb_score = 0.8\n",
    "\n",
    "spots = dict()\n",
    "fig, axes = plt.subplots(2, 2)\n",
    "fig.set_size_inches(7, 5)\n",
    "kw = dict(histtype='step', color='k', lw=2)\n",
    "axes[0,0].hist(raw_spots['barcode_round'].dot_product_score, bins=np.arange(-0.5, 1.1, 0.05), **kw)\n",
    "axes[0,0].axvline(barcode_dot_threshold, color='k')\n",
    "axes[0, 0].set_xlabel('Barcode dot score')\n",
    "axes[0, 0].set_ylabel('# barcode rolonies')\n",
    "\n",
    "axes[0,1].hist(raw_spots['genes_round'].spot_score, bins=np.arange(0, 1.2, 0.05), **kw)\n",
    "axes[0,1].axvline(omp_score_threshold, color='k')\n",
    "axes[0,1].set_xlabel('OMP score')\n",
    "axes[0, 1].set_ylabel('# genes rolonies')\n",
    "\n",
    "for i in range(2):\n",
    "    axes[1,i].hist(raw_spots[f'hybridisation_{i+1}_1'].score, bins=np.arange(-0.50, 1.2, 0.05), **kw)\n",
    "    axes[1,i].axvline(hyb_score, color='k')\n",
    "    axes[1,i].set_xlabel('Hybridisation score')\n",
    "    axes[1, i].set_ylabel(f'# hyb {i+1} rolonies')\n",
    "\n",
    "plt.tight_layout()\n",
    "raw_spots['genes_round'].head()\n",
    "\n",
    "ok_barcode = raw_spots['barcode_round'].dot_product_score > barcode_dot_threshold\n",
    "spots['barcode_round'] = raw_spots['barcode_round'][ok_barcode].copy()\n",
    "print(f'Keeping {np.sum(ok_barcode)} barcode rolonies out of {len(ok_barcode)}.')\n",
    "ok_genes = raw_spots['genes_round'].spot_score > omp_score_threshold\n",
    "spots['genes_round'] = raw_spots['genes_round'][ok_genes].copy()\n",
    "print(f'Keeping {np.sum(ok_genes)} genes rolonies out of {len(ok_genes)}.')\n",
    "for i in range(2):\n",
    "    ok_hyb = raw_spots[f'hybridisation_{i +1}_1'].score > hyb_score\n",
    "    spots[f'hybridisation_{i +1}_1'] = raw_spots[f'hybridisation_{i +1}_1'][ok_hyb].copy()\n",
    "    print(f'Keeping {np.sum(ok_hyb)} hybridisation rolonies out of {len(ok_hyb)} for round {i+1}.')"
   ]
  },
  {
   "cell_type": "code",
   "execution_count": null,
   "metadata": {},
   "outputs": [],
   "source": [
    "# get masks and expand\n",
    "masks = np.load(processed_path / data_path / f\"masks_{roi}.npy\")\n",
    "from skimage.segmentation import expand_labels\n",
    "pixel_size=0.18\n",
    "big_mask = expand_labels(masks, distance=int(5/pixel_size))\n"
   ]
  },
  {
   "cell_type": "code",
   "execution_count": null,
   "metadata": {},
   "outputs": [],
   "source": [
    "# plot what we have\n",
    "roi = 5\n",
    "corners = np.load(\n",
    "    processed_path\n",
    "    / data_path\n",
    "    / \"reg\"\n",
    "    / f\"genes_round_1_1_roi{roi}_acquisition_tile_corners.npy\"\n",
    ")\n",
    "tile = (4, 9)\n",
    "# find shift\n",
    "\n",
    "s = 1000\n",
    "\n",
    "plt.figure(figsize=(10, 10))\n",
    "center = np.mean(corners, axis=(3))[tile[0], tile[1]].astype(int)\n",
    "xlim = center[0] + np.array([-s, s], dtype=int) - 500\n",
    "ylim = center[1] + np.array([-s, s], dtype=int)\n",
    "\n",
    "part2plot = (slice(*ylim), slice(*xlim))\n",
    "\n",
    "m = np.array(big_mask[part2plot]-masks[part2plot], copy=True, dtype=float)\n",
    "m[m==0] =np.nan\n",
    "plt.imshow(m, extent=[*xlim, *ylim[::-1]], cmap='prism', interpolation='None', alpha=0.5)\n",
    "colors = dict(barcode_round='darkred', genes_round='black', hybridisation_1_1='green', hybridisation_2_1='blue')\n",
    "for w, sp in spots.items():\n",
    "    ok = sp[(xlim[0] < sp.x) & (sp.x < xlim[1]) & (sp.y > ylim[0])& (sp.y < ylim[1])]\n",
    "    plt.scatter(ok.x, ok.y, s=2, label=w, color=colors[w])\n",
    "plt.legend(loc='upper right')\n",
    "\n"
   ]
  },
  {
   "attachments": {},
   "cell_type": "markdown",
   "metadata": {},
   "source": [
    "# Find barcodes and genes inside cells"
   ]
  },
  {
   "cell_type": "code",
   "execution_count": null,
   "metadata": {},
   "outputs": [],
   "source": [
    "# find which barcode is in which cells\n",
    "spots_in_cells = dict()\n",
    "for prefix, spot_df in spots.items():\n",
    "    print(prefix, flush=True)\n",
    "    grouping_column='bases' if prefix.startswith('barcode') else 'gene'\n",
    "    cell_df = iss.segment.cells.count_rolonies(\n",
    "    big_mask, spot_df, grouping_column=grouping_column\n",
    ")\n",
    "    spots_in_cells[prefix] = cell_df"
   ]
  },
  {
   "cell_type": "code",
   "execution_count": null,
   "metadata": {},
   "outputs": [],
   "source": [
    "# clean-up hyb\n",
    "fused_df = spots_in_cells['genes_round'].copy()\n",
    "for i_hyb in range(2):\n",
    "    hyb_df = spots_in_cells[f\"hybridisation_{i_hyb + 1}_1\"]\n",
    "    for gene in hyb_df.columns:\n",
    "        if gene in fused_df.columns:\n",
    "            print(f'Replacing {gene} with hybridisation')\n",
    "            fused_df.pop(gene)\n",
    "    fused_df = fused_df.join(hyb_df, how='outer')\n",
    "fused_df[np.isnan(fused_df)] = 0\n",
    "fused_df = fused_df.astype(int)\n",
    "fused_df.head()"
   ]
  },
  {
   "cell_type": "code",
   "execution_count": null,
   "metadata": {},
   "outputs": [],
   "source": [
    "barcode_df = spots_in_cells['barcode_round']\n",
    "rol_th = 10\n",
    "fig, axes = plt.subplots(2,2)\n",
    "fig.set_size_inches(10, 10)\n",
    "kw = dict(histtype='step', color='k', lw=2)\n",
    "for i in range(2):\n",
    "    axes[0, i].hist(barcode_df.iloc[1:].sum(axis=1).values, bins=np.arange(-0.5, 50, 1), **kw)\n",
    "    axes[0, i].set_xlabel('Number of barcode rolonies per cell')\n",
    "    axes[0, i].axvline(rol_th, color='k')\n",
    "axes[0, 1].semilogy()\n",
    "\n",
    "barcoded_cells = barcode_df[barcode_df.sum(axis=1) > rol_th].iloc[1:]\n",
    "axes[1, 0].scatter(barcoded_cells.sum(axis=1), barcoded_cells.max(axis=1), color='k')\n",
    "axes[1, 0].set_xlabel('Total number of rolonies')\n",
    "axes[1, 0].set_ylabel('Most aboundant sequence')\n",
    "prop_main = barcoded_cells.max(axis=1)/barcoded_cells.sum(axis=1)\n",
    "axes[1, 1].hist(prop_main, bins=np.arange(0, 1.1, 0.05), **kw)\n",
    "axes[1, 1].set_xlabel('Proportion of rolonies from main sequence')\n",
    "axes[1, 1].set_ylabel('# of cells')"
   ]
  },
  {
   "cell_type": "code",
   "execution_count": null,
   "metadata": {},
   "outputs": [],
   "source": [
    "# make edit distance plot\n",
    "import editdistance\n",
    "code_len = len(barcoded_cells.columns[0])\n",
    "distance_df = pd.DataFrame(index=barcoded_cells.index, columns=np.arange(code_len + 1), dtype=int)\n",
    "for cell_id, cell in barcoded_cells.iterrows():\n",
    "    main = cell.idxmax()\n",
    "    dst = np.zeros(code_len + 1)\n",
    "    barcodes = cell[cell !=0]\n",
    "    for seq, cnt in barcodes.items():\n",
    "        edit = editdistance.eval(seq, main)\n",
    "        dst[edit] += cnt\n",
    "    distance_df.loc[cell_id, :] = dst"
   ]
  },
  {
   "cell_type": "code",
   "execution_count": null,
   "metadata": {},
   "outputs": [],
   "source": [
    "add_dapi = False\n",
    "if add_dapi:\n",
    "    dapi_stitched = iss.pipeline.stitch.stitch_registered(data_path, prefix='DAPI_1', roi=5, channels=0)"
   ]
  },
  {
   "cell_type": "code",
   "execution_count": null,
   "metadata": {},
   "outputs": [],
   "source": [
    "import seaborn as sns\n",
    "\n",
    "distance_df = distance_df.sort_values(0)\n",
    "fig, axes = plt.subplots(2, 2)\n",
    "fig.set_size_inches(10, 10)\n",
    "im = axes[0,0].imshow(distance_df.values, aspect='auto', interpolation='None')\n",
    "cb = fig.colorbar(im, ax=axes[0,0])\n",
    "cb.set_label('# rolonies')\n",
    "axes[0,0].set_xlabel('Edit distance')\n",
    "axes[0,0].set_ylabel('Cell #')\n",
    "\n",
    "sns.stripplot(data=distance_df, ax=axes[0,1], color='purple')\n",
    "axes[0,1].bar(distance_df.columns-0.1, distance_df.sum(axis=0)/len(distance_df.index), edgecolor='k', facecolor='None', width=1)\n",
    "axes[0,1].set_xlabel('Edit distance')\n",
    "axes[0,1].set_ylabel('# rolonies per cell')\n",
    "\n",
    "double_labeled = distance_df.loc[:, 3:].max(axis=1) > 3\n",
    "double_cell = distance_df.loc[:, 6].idxmax()\n",
    "double_seq = barcoded_cells.loc[double_cell]\n",
    "double_seq = double_seq[double_seq!=0].sort_values()[::-1]\n",
    "axes[1,0].plot(double_seq.values, 'o', color='k')\n",
    "axes[1,0].set_xticks(np.arange(len(double_seq)))\n",
    "axes[1,0].set_xticklabels(double_seq.index, rotation=90)\n",
    "axes[1,0].set_title(f'Cell {double_cell}')\n",
    "axes[1,0].set_ylabel('# rolonies')\n",
    "axes[1,0].set_xlabel('Sequence')\n",
    "\n",
    "# plot the double cell\n",
    "dc_position = np.where(big_mask == double_cell)\n",
    "ylim = [dc_position[0].min(), dc_position[0].max()]\n",
    "xlim = [dc_position[1].min(), dc_position[1].max()]\n",
    "ylim += np.array([-1, 1]) * int(np.diff(ylim))\n",
    "xlim += np.array([-1, 1]) * int(np.diff(xlim))\n",
    "part2plot = (slice(*ylim), slice(*xlim))\n",
    "axes[1,1].contour((big_mask[part2plot]-masks[part2plot])!=0, extent=[*xlim, *ylim[::]], colors='k', linewidths=0.5)\n",
    "m = np.array(big_mask[part2plot], copy=True, dtype=float)\n",
    "vals = np.unique(m)\n",
    "for iv, v in enumerate(vals):\n",
    "    m[m==v] = iv\n",
    "m[m==0] = np.nan\n",
    "axes[1,1].set_title(f'Cell {double_cell}')\n",
    "if add_dapi:\n",
    "    vmin, vmax =np.quantile(dapi_stitched[part2plot], [0.6, 0.995])\n",
    "    axes[1,1].imshow(dapi_stitched[part2plot], extent=[*xlim, *ylim[::-1]], cmap='viridis', interpolation='None', alpha=1, vmax=vmax, vmin=vmin)\n",
    "else:\n",
    "    axes[1,1].imshow(m, extent=[*xlim, *ylim[::-1]], cmap='tab20', interpolation='None', alpha=1)\n",
    "\n",
    "sp = spots['barcode_round']\n",
    "ok = sp[(xlim[0] < sp.x) & (sp.x < xlim[1]) & (sp.y > ylim[0])& (sp.y < ylim[1])]\n",
    "seqs = np.unique(ok.bases.values)\n",
    "for s in seqs:\n",
    "    v = ok.bases == s\n",
    "    if np.sum(v) < 2:\n",
    "        kw=dict(color='k',  s=20)\n",
    "    else:\n",
    "        kw = dict(s=20, label=s)\n",
    "    axes[1,1].scatter(ok[v].x, ok[v].y, **kw)\n",
    "axes[1,1].legend(loc='upper right', bbox_to_anchor=(1.1, -0.1), ncol= 3)\n"
   ]
  },
  {
   "attachments": {},
   "cell_type": "markdown",
   "metadata": {},
   "source": [
    "# Find the cortex"
   ]
  },
  {
   "cell_type": "code",
   "execution_count": null,
   "metadata": {},
   "outputs": [],
   "source": []
  },
  {
   "cell_type": "code",
   "execution_count": null,
   "metadata": {},
   "outputs": [],
   "source": [
    "\n",
    "barcode_df = spots_in_cells['barcode_round']\n",
    "fig = plt.figure(figsize=(50, 7))\n",
    "ax = fig.add_subplot(1,1,1)\n",
    "img = ax.imshow(barcode_df.values, aspect='auto', interpolation='none', vmax=10, origin='lower')\n",
    "cb = plt.colorbar(img, ax=ax)\n",
    "cb.set_label(\"Rolonie #\")\n",
    "ax.set_xticks(np.arange(barcode_df.shape[1]))\n",
    "ax.set_yticks(np.arange(barcode_df.shape[0]))\n",
    "ax.set_yticklabels(barcode_df.index)\n",
    "ax.set_xticklabels(barcode_df.columns, rotation=90)\n",
    "plt.tight_layout()\n",
    "\n"
   ]
  },
  {
   "cell_type": "code",
   "execution_count": null,
   "metadata": {},
   "outputs": [],
   "source": [
    "fig = plt.figure(figsize=(30, 7))\n",
    "ax = fig.add_subplot(1,1,1)\n",
    "img = ax.imshow(fused_df.values, aspect='auto', interpolation='none', vmax=10, origin='lower')\n",
    "cb = plt.colorbar(img, ax=ax)\n",
    "cb.set_label(\"Rolonie #\")\n",
    "ax.set_xticks(np.arange(fused_df.shape[1]))\n",
    "ax.set_yticks(np.arange(fused_df.shape[0]))\n",
    "ax.set_yticklabels(fused_df.index)\n",
    "ax.set_xticklabels(fused_df.columns, rotation=90)\n",
    "plt.tight_layout()"
   ]
  },
  {
   "cell_type": "code",
   "execution_count": null,
   "metadata": {},
   "outputs": [],
   "source": [
    "plt.subplot(1,2,1)\n",
    "plt.hist(fused_df.loc[1:].sum(axis=1))\n",
    "plt.semilogy()\n",
    "plt.xlabel(\"# genes rolonies per cells\")\n",
    "plt.subplot(1,2,2)\n",
    "plt.hist(barcode_df.loc[1:].sum(axis=1))\n",
    "plt.semilogy()\n",
    "plt.xlabel(\"# barcode rolonies per cells\")"
   ]
  },
  {
   "cell_type": "code",
   "execution_count": null,
   "metadata": {},
   "outputs": [],
   "source": [
    "iss.vis.plot_gene_matrix(fused_df.iloc[1:].astype(int), cmap=\"inferno\", vmax=2)"
   ]
  },
  {
   "attachments": {},
   "cell_type": "markdown",
   "metadata": {},
   "source": [
    "# Plot example SST cell"
   ]
  },
  {
   "cell_type": "code",
   "execution_count": null,
   "metadata": {},
   "outputs": [],
   "source": [
    "cell_id = 23\n",
    "\n",
    "cell_series = fused_df.loc[cell_id]\n",
    "print(f\"Ploting cell {cell_id} with {cell_series.Sst} sst rolonies\")"
   ]
  },
  {
   "cell_type": "code",
   "execution_count": null,
   "metadata": {},
   "outputs": [],
   "source": [
    "mask = np.vstack(np.where(barcoded_mask == cell_id))\n",
    "bounding_box = np.vstack([mask.min(axis=1), mask.max(axis=1)]).astype(int)\n",
    "bounding_box += np.array([[-1, -1],[1,1]]) * np.diff(bounding_box, axis=0).max()\n",
    "part2plot = (slice(*bounding_box[:, 0]), slice(*bounding_box[:, 1]))\n",
    "\n",
    "data = np.dstack([barcodes_all_channels.std(axis=2), genes_all_channels.std(axis=2)])\n",
    "lim = np.nanquantile(data, [0.05, 0.99], axis=(0,1))\n",
    "img = iss.vis.to_rgb(data,\n",
    "                     colors=[[1,0,0],[0,1,0]], vmin=lim[0], vmax=lim[1])\n",
    "plt.imshow(img[part2plot])\n",
    "plt.contour(barcoded_mask[part2plot])\n",
    "plt.scatter(spots_in_tile.x - bounding_box[0, 1], spots_in_tile.y - bounding_box[0, 0], s=10, label='Barcodes')\n",
    "plt.scatter(genes_spots.x - bounding_box[0, 1], genes_spots.y - bounding_box[0, 0], s=10, label='Genes')\n",
    "plt.xlim([0, np.diff(bounding_box, axis=0)[0,1]])\n",
    "plt.ylim([np.diff(bounding_box, axis=0)[0, 0], 0])\n"
   ]
  },
  {
   "cell_type": "code",
   "execution_count": null,
   "metadata": {},
   "outputs": [],
   "source": [
    "hyb1_all_channels = iss.pipeline.stitch.load_tile_ref_coors(\n",
    "    data_path=data_path, tile_coors=tile_coors, prefix=\"hybridisation_1_1\"\n",
    ")\n",
    "hyb2_all_channels = iss.pipeline.stitch.load_tile_ref_coors(\n",
    "    data_path=data_path, tile_coors=tile_coors, prefix=\"hybridisation_2_1\"\n",
    ")\n"
   ]
  },
  {
   "cell_type": "code",
   "execution_count": null,
   "metadata": {},
   "outputs": [],
   "source": []
  },
  {
   "cell_type": "code",
   "execution_count": null,
   "metadata": {},
   "outputs": [],
   "source": []
  },
  {
   "cell_type": "code",
   "execution_count": null,
   "metadata": {},
   "outputs": [],
   "source": []
  },
  {
   "cell_type": "code",
   "execution_count": null,
   "metadata": {},
   "outputs": [],
   "source": [
    "raise NotImplementedError(\"Everything below needs to be changed or deleted\")"
   ]
  },
  {
   "cell_type": "code",
   "execution_count": null,
   "metadata": {},
   "outputs": [],
   "source": [
    "cells = iss.segment.cells.cellpose_segmentation(\n",
    "    snippet,\n",
    "    channels=(0, 0),\n",
    "    flow_threshold=0.5,\n",
    "    min_pix=0,\n",
    "    dilate_pix=0,\n",
    "    rescale=None,\n",
    "    model_type=\"CP\",\n",
    "    use_gpu=False,\n",
    "    diameter=int(20 / pixel_size),\n",
    ")\n",
    "cellpose_cells = np.array(cells)\n",
    "plt.imshow(cells, cmap=\"Set2\", interpolation=\"None\")\n",
    "print(f\"Found {len(np.unique(cells))-1} cells\")\n"
   ]
  },
  {
   "attachments": {},
   "cell_type": "markdown",
   "metadata": {},
   "source": [
    "# Debug Opencv version\n",
    "\n",
    "Now using classic opencv"
   ]
  },
  {
   "cell_type": "code",
   "execution_count": null,
   "metadata": {},
   "outputs": [],
   "source": [
    "mask = 255 * (blur > 10).astype(\"uint8\")\n",
    "kernel = np.ones((5, 5), dtype=\"uint8\") * 255\n",
    "background = cv2.dilate(mask, kernel, iterations=10)\n",
    "dst2nonzero = cv2.distanceTransform(mask, distanceType=cv2.DIST_L2, maskSize=5)\n",
    "is_cell = 255 * (dst2nonzero > 20).astype(\"uint8\")\n",
    "ret, markers = cv2.connectedComponents(is_cell)\n",
    "# make the background to 1\n",
    "markers += 1\n",
    "# and part to watershed to 0\n",
    "markers[np.bitwise_xor(background, is_cell).astype(bool)] = 0\n",
    "# watershed required a rgb image\n",
    "stack = cv2.normalize(blur, None, 255, 0, cv2.NORM_MINMAX, cv2.CV_8U)\n",
    "stack = cv2.cvtColor(stack, cv2.COLOR_GRAY2BGR)\n",
    "water = cv2.watershed(stack, markers)\n",
    "water -= 1  # put the background seed to 0.\n",
    "water[water < 0] = 0  # put borders into background\n",
    "\n",
    "fig, axes = plt.subplots(2, 2)\n",
    "fig.set_size_inches(10, 10)\n",
    "axes[0,0].imshow(blur)\n",
    "axes[0,0].contour(blur, levels=[5,10,20,40], colors=['orange', 'pink', 'red', 'darkred'])\n",
    "axes[0,1].imshow(dst2nonzero)\n",
    "axes[1,0].imshow(cv2.MORPH_CLOSE)"
   ]
  },
  {
   "cell_type": "code",
   "execution_count": null,
   "metadata": {},
   "outputs": [],
   "source": [
    "# plot various binary step\n",
    "debug = iss.segment.barcodes.segment_spot_image(\n",
    "    blur, binarise_threshold=5, distance_threshold=10, debug=True\n",
    ")\n",
    "fig, axes = plt.subplots(2, 2)\n",
    "fig.set_size_inches(10, 10)\n",
    "axes[0, 0].imshow(debug[\"binary\"])\n",
    "axes[0, 0].set_title(\"Binarised\")\n",
    "axes[0, 1].imshow(debug[\"background\"])\n",
    "axes[0, 1].set_title(\"Background is blue\")\n",
    "axes[1, 0].imshow(debug[\"distance\"])\n",
    "axes[1, 0].set_title(\"Distance 2 non-zero\")\n",
    "axes[1, 1].imshow(debug[\"seeds\"])\n",
    "axes[1, 1].set_title(\"Cells\")\n",
    "\n",
    "plt.tight_layout()\n"
   ]
  },
  {
   "cell_type": "code",
   "execution_count": null,
   "metadata": {},
   "outputs": [],
   "source": [
    "fig, axes = plt.subplots(2, 2)\n",
    "fig.set_size_inches(10, 10)\n",
    "axes[0, 0].imshow(debug[\"initial_labels\"], cmap=\"tab20\", interpolation=\"None\")\n",
    "axes[0, 0].set_title(\"Markers\")\n",
    "axes[0, 1].imshow(debug[\"watershed\"], cmap=\"tab20\", interpolation=\"None\")\n",
    "axes[0, 1].set_title(\"Watershed\")\n",
    "axes[1, 0].imshow(debug[\"intial_labels\"], cmap=\"tab20\", interpolation=\"None\")\n",
    "axes[1, 0].contour(debug[\"watershed\"], colors=\"darkred\")\n",
    "axes[1, 0].set_title(\"Cell contours\")\n",
    "axes[1, 1].imshow(blur, cmap=\"tab20\", interpolation=\"None\")\n",
    "axes[1, 0].contour(debug[\"watershed\"], colors=\"darkred\")\n",
    "axes[1, 0].set_title(\"Cell contours\")\n",
    "\n",
    "\n",
    "for x in axes.flatten():\n",
    "    x.axis(\"off\")\n",
    "plt.tight_layout()\n",
    "print(f\"Found {len(np.unique(water))-2} cells\")\n",
    "opencv_cells = np.array(water)\n",
    "\n",
    "\n",
    "\"\"\"\n",
    "background=background,\n",
    "binary=mask,\n",
    "seeds=is_cell,\n",
    "distance=dst2nonzero,\n",
    "initial_labels=markers,\n",
    "watershed=water,\n",
    "\"\"\"\n"
   ]
  },
  {
   "attachments": {},
   "cell_type": "markdown",
   "metadata": {},
   "source": [
    "# Now watershed\n",
    "\n",
    "We want to flood from each cell and extend around but not too far. We can do that by\n",
    "setting a label for the background that is far from cells"
   ]
  },
  {
   "cell_type": "code",
   "execution_count": null,
   "metadata": {},
   "outputs": [],
   "source": []
  },
  {
   "attachments": {},
   "cell_type": "markdown",
   "metadata": {},
   "source": [
    "# Overlay to data"
   ]
  },
  {
   "cell_type": "code",
   "execution_count": null,
   "metadata": {},
   "outputs": [],
   "source": [
    "# select tile\n",
    "fig, ax = plt.subplots(1, 1)\n",
    "fig.set_size_inches(10, 7)\n",
    "corners = np.load(\n",
    "    processed_path\n",
    "    / data_path\n",
    "    / \"reg\"\n",
    "    / f\"genes_round_1_1_roi{roi}_acquisition_tile_corners.npy\"\n",
    ")\n",
    "ax.scatter(spots.x, spots.y, s=1, color=\"red\", alpha=0.3)\n",
    "ax.set_aspect(\"equal\")\n",
    "for row, corner in enumerate(corners):\n",
    "    for col, corne in enumerate(corner):\n",
    "        center = np.nanmean(corne, axis=1)\n",
    "        ax.plot(corne[1, :], corne[0, :], color=\"k\")\n",
    "        ax.text(\n",
    "            center[1],\n",
    "            center[0],\n",
    "            s=f\"({row}, {col})\",\n",
    "            verticalalignment=\"center\",\n",
    "            horizontalalignment=\"center\",\n",
    "        )\n",
    "ax.invert_yaxis()\n"
   ]
  },
  {
   "cell_type": "code",
   "execution_count": null,
   "metadata": {},
   "outputs": [],
   "source": [
    "# Get raw data for overlay\n",
    "tile_coords = (roi, 3, 9)\n",
    "genes_all_channels = iss.pipeline.stitch.load_tile(\n",
    "    data_path=data_path, tile_coordinates=tile_coords, prefix=\"genes_round_1_1\"\n",
    ")\n",
    "barcodes_all_channels = iss.pipeline.stitch.load_tile(\n",
    "    data_path=data_path, tile_coordinates=tile_coords, prefix=\"barcode_round_1_1\"\n",
    ")\n",
    "dapi = iss.pipeline.stitch.load_tile(\n",
    "    data_path=data_path, tile_coordinates=tile_coords, prefix=\"dapi_1\"\n",
    ")\n",
    "\n",
    "ref_corners = np.load(\n",
    "    processed_path\n",
    "    / data_path\n",
    "    / \"reg\"\n",
    "    / f\"genes_round_1_1_roi{roi}_acquisition_tile_corners.npy\"\n",
    ")\n",
    "dapi = dapi[:, :, 0, 0]\n",
    "barcodes = np.nanstd(barcodes_all_channels, axis=2)[..., 0]\n",
    "genes = np.nanstd(genes_all_channels, axis=2)[..., 0]\n"
   ]
  },
  {
   "cell_type": "code",
   "execution_count": null,
   "metadata": {},
   "outputs": [],
   "source": [
    "ref_corners.shape\n"
   ]
  },
  {
   "cell_type": "code",
   "execution_count": null,
   "metadata": {},
   "outputs": [],
   "source": [
    "borders = np.zeros(snippet.shape, dtype=\"uint8\")\n",
    "borders[water == -1] = 255\n",
    "borders = cv2.dilate(borders, np.ones((5, 5)))\n",
    "glim = np.nanquantile(genes, [0.1, 0.99])\n",
    "blim = np.nanquantile(barcodes, [0.1, 0.99])\n",
    "dlim = np.nanquantile(dapi, [0.1, 0.99])\n",
    "img = iss.vis.to_rgb(\n",
    "    np.dstack((dapi, genes, barcodes)),\n",
    "    colors=[[0, 0, 1], [1, 0, 0], [0, 1, 0]],\n",
    "    vmin=np.array([dlim[0], glim[0], blim[0]]),\n",
    "    vmax=[dlim[1], glim[1], blim[1]],\n",
    ")\n",
    "\n",
    "fig, axes = plt.subplots(1, 1)\n",
    "axes = [axes]\n",
    "fig.set_size_inches(20, 20)\n",
    "corner = ref_corners[tile_coords[1], tile_coords[2]]\n",
    "valid_spot = spots[\n",
    "    (spots.x > corner[1, 0])\n",
    "    & (spots.x < corner[1, 3])\n",
    "    & (spots.y > corner[0, 0])\n",
    "    & (spots.y < corner[0, 3])\n",
    "]\n",
    "for x in axes:\n",
    "    x.scatter(\n",
    "        spots.x - corner[1, 0], spots.y - corner[0, 0], s=10, color=\"yellow\", alpha=1\n",
    "    )\n",
    "    x.imshow(img)\n",
    "    x.axis(\"off\")\n",
    "\n",
    "plt.tight_layout()\n"
   ]
  },
  {
   "cell_type": "code",
   "execution_count": null,
   "metadata": {},
   "outputs": [],
   "source": [
    "# basic imread\n",
    "fname = 'barcode_round_1_1_MMStack_5-Pos000_000_fstack.tif'\n",
    "full_fname = processed_path / data_path / \"barcode_round_1_1\" / fname\n",
    "%timeit iss.io.load.load_stack(full_fname).astype('single')"
   ]
  },
  {
   "cell_type": "code",
   "execution_count": null,
   "metadata": {},
   "outputs": [],
   "source": [
    "from tifffile import imread\n",
    "%timeit np.moveaxis(imread(full_fname).astype('single'), 0, 2)"
   ]
  },
  {
   "attachments": {},
   "cell_type": "markdown",
   "metadata": {},
   "source": [
    "Optimising tile loading"
   ]
  },
  {
   "cell_type": "code",
   "execution_count": null,
   "metadata": {},
   "outputs": [],
   "source": [
    "from skimage.morphology import binary_dilation\n",
    "\n",
    "prefix = \"barcode_round\"\n",
    "tile_coors = (5, 0, 0)\n",
    "nrounds = 1\n",
    "suffix = \"fstack\"\n",
    "filter_r = (2, 4)\n"
   ]
  },
  {
   "attachments": {},
   "cell_type": "markdown",
   "metadata": {},
   "source": [
    "## original version with just processing steps\n",
    "\n",
    "This is for reference"
   ]
  },
  {
   "cell_type": "code",
   "execution_count": null,
   "metadata": {},
   "outputs": [],
   "source": [
    "# origin version with just processing steps\n",
    "def original_version():\n",
    "    processed_path = Path(PARAMETERS[\"data_root\"][\"processed\"])\n",
    "    tforms_fname = f\"tforms_corrected_{prefix}_{tile_coors[0]}_{tile_coors[1]}_{tile_coors[2]}.npz\"\n",
    "    tforms_path = processed_path / data_path / \"reg\" / tforms_fname\n",
    "    tforms = np.load(tforms_path, allow_pickle=True)\n",
    "\n",
    "    stack = iss.pipeline.load_sequencing_rounds(\n",
    "        data_path, tile_coors, suffix=suffix, prefix=prefix, nrounds=nrounds\n",
    "    )\n",
    "    tforms = iss.pipeline.generate_channel_round_transforms(\n",
    "        tforms[\"angles_within_channels\"],\n",
    "        tforms[\"shifts_within_channels\"],\n",
    "        tforms[\"scales_between_channels\"],\n",
    "        tforms[\"angles_between_channels\"],\n",
    "        tforms[\"shifts_between_channels\"],\n",
    "        stack.shape[:2],\n",
    "    )\n",
    "    stack = iss.pipeline.align_channels_and_rounds(stack, tforms)\n",
    "    stack = iss.pipeline.apply_illumination_correction(data_path, stack, prefix)\n",
    "    bad_pixels = np.any(np.isnan(stack), axis=(2, 3))\n",
    "    stack[np.isnan(stack)] = 0\n",
    "    stack = iss.pipeline.filter_stack(stack, r1=filter_r[0], r2=filter_r[1])\n",
    "    mask = np.ones((filter_r[1] * 2 + 1, filter_r[1] * 2 + 1))\n",
    "    bad_pixels = binary_dilation(bad_pixels, mask)\n",
    "\n",
    "    correction_path = processed_path / data_path / f\"correction_{prefix}.npz\"\n",
    "    norm_factors = np.load(correction_path, allow_pickle=True)[\"norm_factors\"]\n",
    "    stack = stack / norm_factors[np.newaxis, np.newaxis, :, :nrounds]\n",
    "    return stack\n",
    "%timeit original_version()\n"
   ]
  },
  {
   "cell_type": "code",
   "execution_count": null,
   "metadata": {},
   "outputs": [],
   "source": [
    "# separate tform version with just processing steps\n",
    "processed_path = Path(PARAMETERS[\"data_root\"][\"processed\"])\n",
    "tforms_fname = f\"tforms_corrected_{prefix}_{tile_coors[0]}_{tile_coors[1]}_{tile_coors[2]}.npz\"\n",
    "tforms_path = processed_path / data_path / \"reg\" / tforms_fname\n",
    "tforms = np.load(tforms_path, allow_pickle=True)\n",
    "image_shape = (3300, 3296)\n",
    "tforms = iss.pipeline.generate_channel_round_transforms(\n",
    "    tforms[\"angles_within_channels\"],\n",
    "    tforms[\"shifts_within_channels\"],\n",
    "    tforms[\"scales_between_channels\"],\n",
    "    tforms[\"angles_between_channels\"],\n",
    "    tforms[\"shifts_between_channels\"],\n",
    "    image_shape,\n",
    ")\n",
    "def pregenerate_tforms():\n",
    "    stack = iss.pipeline.load_sequencing_rounds(\n",
    "        data_path, tile_coors, suffix=suffix, prefix=prefix, nrounds=nrounds\n",
    "    )\n",
    "\n",
    "    stack = iss.pipeline.align_channels_and_rounds(stack, tforms)\n",
    "    stack = iss.pipeline.apply_illumination_correction(data_path, stack, prefix)\n",
    "    bad_pixels = np.any(np.isnan(stack), axis=(2, 3))\n",
    "    stack[np.isnan(stack)] = 0\n",
    "    stack = iss.pipeline.filter_stack(stack, r1=filter_r[0], r2=filter_r[1])\n",
    "    mask = np.ones((filter_r[1] * 2 + 1, filter_r[1] * 2 + 1))\n",
    "    bad_pixels = binary_dilation(bad_pixels, mask)\n",
    "\n",
    "    correction_path = processed_path / data_path / f\"correction_{prefix}.npz\"\n",
    "    norm_factors = np.load(correction_path, allow_pickle=True)[\"norm_factors\"]\n",
    "    stack = stack / norm_factors[np.newaxis, np.newaxis, :, :nrounds]\n",
    "%timeit pregenerate_tforms()\n"
   ]
  },
  {
   "cell_type": "code",
   "execution_count": null,
   "metadata": {},
   "outputs": [],
   "source": [
    "iss.io.load.load_stack(full_fname).astype(\"single\").shape\n"
   ]
  },
  {
   "cell_type": "code",
   "execution_count": null,
   "metadata": {},
   "outputs": [],
   "source": [
    "np.moveaxis(imread(full_fname).astype(\"single\"), 0, 2).shape\n"
   ]
  },
  {
   "cell_type": "code",
   "execution_count": null,
   "metadata": {},
   "outputs": [],
   "source": [
    "roi = 5\n",
    "(\n",
    "    stitched_stack_dapi,\n",
    "    stitched_stack_genes,\n",
    "    angle,\n",
    "    shift,\n",
    ") = iss.pipeline.stitch_and_register(\n",
    "    data_path, \"genes_round_1_1\", \"DAPI_1\", roi=roi, downsample=5\n",
    ")\n"
   ]
  },
  {
   "cell_type": "code",
   "execution_count": null,
   "metadata": {},
   "outputs": [],
   "source": [
    "(\n",
    "    stitched_stack_barcode,\n",
    "    stitched_stack_genes,\n",
    "    angle,\n",
    "    shift,\n",
    ") = iss.pipeline.stitch_and_register(\n",
    "    data_path, \"genes_round_1_1\", \"barcode_round_1_1\", roi=roi, downsample=5\n",
    ")\n"
   ]
  },
  {
   "cell_type": "code",
   "execution_count": null,
   "metadata": {},
   "outputs": [],
   "source": [
    "masks = np.load(processed_path / data_path / f\"masks_{roi}.npy\")\n",
    "im = np.stack(\n",
    "    [\n",
    "        stitched_stack_genes[3000:10000, 12000:20000],\n",
    "        stitched_stack_dapi[3000:10000, 12000:20000],\n",
    "        masks[3000:10000, 12000:20000] > 0,\n",
    "    ],\n",
    "    axis=2,\n",
    ")\n",
    "shift_right, shift_down, tile_shape = iss.pipeline.register_adjacent_tiles(\n",
    "    data_path, ref_coors=ops[\"ref_tile\"], prefix=\"genes_round_1_1\"\n",
    ")\n",
    "genes_spots = iss.pipeline.merge_roi_spots(\n",
    "    data_path, shift_right, shift_down, tile_shape, iroi=roi, prefix=\"genes_round\"\n",
    ")\n"
   ]
  },
  {
   "cell_type": "code",
   "execution_count": null,
   "metadata": {},
   "outputs": [],
   "source": [
    "barcode_spots = iss.pipeline.merge_roi_spots(\n",
    "    data_path, shift_right, shift_down, tile_shape, iroi=roi, prefix=\"barcode_round\"\n",
    ")\n",
    "\n",
    "plt.figure(figsize=(50, 50))\n",
    "plt.imshow(\n",
    "    iss.vis.to_rgb(\n",
    "        im,\n",
    "        colors=[[1, 0, 0], [0, 0, 1], [0, 1, 0]],\n",
    "        vmax=[400, 200, 1],\n",
    "        vmin=np.array([30, 0, 0]),\n",
    "    )\n",
    ")\n",
    "plt.plot(\n",
    "    barcode_spots[\"x\"] - 12000, barcode_spots[\"y\"] - 3000, \".r\", alpha=1, markersize=10\n",
    ")\n",
    "plt.plot(\n",
    "    genes_spots[\"x\"] - 12000,\n",
    "    genes_spots[\"y\"] - 3000,\n",
    "    \".\",\n",
    "    color=\"purple\",\n",
    "    alpha=1,\n",
    "    markersize=10,\n",
    ")\n",
    "plt.xlim([0, 4000])\n",
    "plt.ylim([4000, 0])\n",
    "plt.axis(\"off\")\n"
   ]
  }
 ],
 "metadata": {
  "kernelspec": {
   "display_name": "Python 3",
   "language": "python",
   "name": "python3"
  },
  "language_info": {
   "codemirror_mode": {
    "name": "ipython",
    "version": 3
   },
   "file_extension": ".py",
   "mimetype": "text/x-python",
   "name": "python",
   "nbconvert_exporter": "python",
   "pygments_lexer": "ipython3",
   "version": "3.10.9"
  },
  "orig_nbformat": 4,
  "vscode": {
   "interpreter": {
    "hash": "02c4ab6ff317cb8a885d2aa2247e2bd7c17b0a4a2d1482529ed329ad25df85a1"
   }
  }
 },
 "nbformat": 4,
 "nbformat_minor": 2
}
