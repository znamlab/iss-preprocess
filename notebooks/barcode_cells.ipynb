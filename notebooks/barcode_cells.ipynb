{
 "cells": [
  {
   "attachments": {},
   "cell_type": "markdown",
   "metadata": {},
   "source": [
    "# Detect barcoded cells\n",
    "\n",
    "This notebook works on a single tile to make it easier and faster"
   ]
  },
  {
   "cell_type": "code",
   "execution_count": null,
   "metadata": {},
   "outputs": [],
   "source": [
    "# imports and chamber selection\n",
    "%load_ext autoreload\n",
    "%autoreload 2\n",
    "import iss_preprocess as iss\n",
    "import pandas as pd\n",
    "import numpy as np\n",
    "import matplotlib.pyplot as plt\n",
    "import yaml\n",
    "from flexiznam.config import PARAMETERS\n",
    "from pathlib import Path\n",
    "from itertools import cycle\n",
    "from matplotlib.animation import FuncAnimation\n",
    "data_path = 'becalia_rabies_barseq/BRYC65.1d/chamber_13/'\n",
    "\n",
    "processed_path = Path(PARAMETERS['data_root']['processed'])\n",
    "metadata = iss.io.load_metadata(data_path)\n",
    "\n",
    "ops = iss.config.DEFAULT_OPS.copy()\n",
    "ops.update({ \n",
    "    'camera_order': metadata[\"camera_order\"],\n",
    "    'genes_rounds': metadata[\"genes_rounds\"],\n",
    "    'barcode_rounds': metadata[\"barcode_rounds\"],\n",
    "    'use_rois': [1, 2, 5, 6],\n",
    "    'ref_tile': (1, 5, 8),\n",
    "    'correction_tiles': [(1, 5, 8), (1, 5, 9), (1, 4, 8), (1, 4, 9), (2, 4, 9), (2, 3, 9), (2, 2, 9), (2, 2, 8)],\n",
    "    'barcode_ref_tiles': [(1, 5, 8), (1, 5, 9), (1, 4, 8), (1, 4, 9), (2, 4, 9), (2, 3, 9), (2, 2, 9), (2, 2, 8)],\n",
    "    'average_clip_value': 2000,\n",
    "})"
   ]
  },
  {
   "attachments": {},
   "cell_type": "markdown",
   "metadata": {},
   "source": [
    "## Filter detected barcodes\n",
    "\n",
    "We will load detected barcodes and filter them by dot product."
   ]
  },
  {
   "cell_type": "code",
   "execution_count": null,
   "metadata": {},
   "outputs": [],
   "source": [
    "roi = 5\n",
    "dot_threshold = 0.2\n",
    "gaussian_width_um = 10\n"
   ]
  },
  {
   "cell_type": "code",
   "execution_count": null,
   "metadata": {},
   "outputs": [],
   "source": [
    "# not required for actual analysis. Helps to set parameters\n",
    "all_spots = pd.read_pickle(\n",
    "    processed_path / data_path / f\"barcode_round_spots_{roi}.pkl\"\n",
    ")\n",
    "print(\n",
    "    f\"{len(all_spots)} spots with {len(all_spots.bases.unique())} distincts barcodes.\"\n",
    ")\n",
    "fig, ax = plt.subplots(1, 1)\n",
    "fig.set_size_inches((5, 2))\n",
    "ax.axvline(dot_threshold, color=\"black\")\n",
    "ax.hist(all_spots.dot_product_score, bins=np.arange(-0.5, 1, 0.01), histtype=\"step\")\n",
    "ax.set_xlabel(\"Dot product score\")\n",
    "_ = ax.set_ylabel(\"# spots\")\n",
    "spots = all_spots[all_spots.dot_product_score > dot_threshold]\n",
    "print(f\"{len(spots)} spots with {len(spots.bases.unique())} distincts barcodes.\")\n",
    "\n",
    "# make a 1d kernel to convovle\n",
    "import cv2\n",
    "\n",
    "acq_data = iss.io.load_single_acq_metdata(data_path, prefix=\"barcode_round_1_1\")\n",
    "pixel_size = acq_data[\"FrameKey-0-0-0\"][\"PixelSizeUm\"]\n",
    "gaussian_width = int(gaussian_width_um/pixel_size)\n",
    "kernel_size = gaussian_width * 8\n",
    "kernel_size += 1 - kernel_size % 2  # kernel shape must be odd\n",
    "kernel = cv2.getGaussianKernel(kernel_size, sigma=int(gaussian_width))\n",
    "# set the initial value so that single pixels after convolution have a peak of 1\n",
    "kernel /= kernel.max()\n",
    "kernel = kernel.astype(float)\n",
    "\n",
    "fig = plt.figure(figsize=(5, 1))\n",
    "ax = fig.add_subplot(1, 1, 1)\n",
    "ax.plot((np.arange(kernel_size) - kernel_size / 2) * pixel_size, kernel)\n",
    "ax.set_ylim([0, 1.05])\n",
    "_ = ax.set_xlabel(\"Distance (um)\")\n"
   ]
  },
  {
   "attachments": {},
   "cell_type": "markdown",
   "metadata": {},
   "source": [
    "## Select which tile we will use"
   ]
  },
  {
   "cell_type": "code",
   "execution_count": null,
   "metadata": {},
   "outputs": [],
   "source": [
    "# select tile\n",
    "tile = (3, 9)\n",
    "\n",
    "fig, ax = plt.subplots(1, 1)\n",
    "fig.set_size_inches(10, 7)\n",
    "\n",
    "corners = np.load(\n",
    "    processed_path\n",
    "    / data_path\n",
    "    / \"reg\"\n",
    "    / f\"genes_round_1_1_roi{roi}_acquisition_tile_corners.npy\"\n",
    ")\n",
    "ax.scatter(spots.x, spots.y, s=1, color=\"darkred\", alpha=0.3)\n",
    "ax.set_aspect(\"equal\")\n",
    "for row, corner in enumerate(corners):\n",
    "    for col, corne in enumerate(corner):\n",
    "        center = np.nanmean(corne, axis=1)\n",
    "        square = np.hstack([corne, corne[:, [0]]])\n",
    "        if (row == tile[0]) and (col == tile[1]):\n",
    "            kwargs = dict(color=\"purple\", zorder=10, lw=2)\n",
    "        else:\n",
    "            kwargs = dict(color=\"k\")\n",
    "        ax.plot(square[1, :], square[0, :], **kwargs)\n",
    "        ax.text(\n",
    "            center[1],\n",
    "            center[0],\n",
    "            s=f\"({row}, {col})\",\n",
    "            verticalalignment=\"center\",\n",
    "            horizontalalignment=\"center\",\n",
    "        )\n",
    "ax.invert_yaxis()\n"
   ]
  },
  {
   "cell_type": "code",
   "execution_count": null,
   "metadata": {},
   "outputs": [],
   "source": [
    "corner = corners[tile[0], tile[1]]\n",
    "tile_coors = (roi, tile[0], tile[1])\n",
    "\n",
    "spots_in_tile = pd.DataFrame(\n",
    "    spots[\n",
    "        (spots.x > corner[1, 0])\n",
    "        & (spots.x < corner[1, 2] - 1)\n",
    "        & (spots.y > corner[0, 0])\n",
    "        & (spots.y < corner[0, 2] - 1)\n",
    "    ]\n",
    ")  # make a copy\n",
    "spots_in_tile.x -= corner[1, 0]\n",
    "spots_in_tile.y -= corner[0, 0]\n",
    "\n",
    "genes_spots = pd.read_pickle(\n",
    "    processed_path\n",
    "    / data_path\n",
    "    / \"spots\"\n",
    "    / f\"genes_round_spots_{roi}_{tile[0]}_{tile[1]}.pkl\"\n",
    ")\n",
    "\n",
    "\n",
    "hyb_spots = [pd.read_pickle(\n",
    "    processed_path / data_path / f\"{hyb}_spots_{roi}.pkl\"\n",
    ") for hyb in metadata['hybridisation']]\n",
    "hyb_spots = pd.concat(hyb_spots, axis=0, ignore_index=True)\n",
    "hyb_spots =  pd.DataFrame(\n",
    "    hyb_spots[\n",
    "        (hyb_spots.x > corner[1, 0])\n",
    "        & (hyb_spots.x < corner[1, 2] - 1)\n",
    "        & (hyb_spots.y > corner[0, 0])\n",
    "        & (hyb_spots.y < corner[0, 2] - 1)\n",
    "    ]\n",
    ") \n",
    "hyb_spots.x -= corner[1, 0]\n",
    "hyb_spots.y -= corner[0, 0]\n",
    "\n",
    "genes_all_channels = iss.pipeline.stitch.load_tile_ref_coors(\n",
    "    data_path=data_path, tile_coors=tile_coors, prefix=\"genes_round_1_1\"\n",
    ")\n",
    "barcodes_all_channels = iss.pipeline.stitch.load_tile_ref_coors(\n",
    "    data_path=data_path, tile_coors=tile_coors, prefix=\"barcode_round_1_1\"\n",
    ")\n"
   ]
  },
  {
   "cell_type": "code",
   "execution_count": null,
   "metadata": {},
   "outputs": [],
   "source": [
    "# make a spot \"image\"\n",
    "print(\"Convolving\")\n",
    "output_shape = genes_all_channels.shape[:2]\n",
    "blur = iss.segment.spots.make_spot_image(\n",
    "    spots_in_tile, gaussian_width=int(gaussian_width_um / pixel_size), dtype=\"single\", output_shape=output_shape\n",
    ")\n"
   ]
  },
  {
   "cell_type": "code",
   "execution_count": null,
   "metadata": {},
   "outputs": [],
   "source": [
    "# Show raw spot image for illustration\n",
    "fig = plt.figure(figsize=(10, 8))\n",
    "ax = fig.add_subplot(1,2,1)\n",
    "ax.imshow(blur, vmax=40, vmin=0)\n",
    "ax1 = fig.add_subplot(1,2,2)\n",
    "snippet = np.array(blur)\n",
    "snippet[snippet < 2] = 0\n",
    "ax1.imshow(snippet, vmin=0)\n",
    "\n",
    "for x in [ax, ax1]:\n",
    "    x.scatter(spots_in_tile.x, spots_in_tile.y,s=1, color='red', alpha=0.3)\n",
    "    x.axis('off')\n",
    "plt.tight_layout()\n"
   ]
  },
  {
   "cell_type": "code",
   "execution_count": null,
   "metadata": {},
   "outputs": [],
   "source": [
    "# detect using opencv\n",
    "barcoded_mask = iss.segment.barcodes.segment_spot_image(\n",
    "    blur, binarise_threshold=10, distance_threshold=3\n",
    ")\n",
    "plt.imshow(barcoded_mask, cmap=\"tab20\", interpolation=\"None\")\n"
   ]
  },
  {
   "attachments": {},
   "cell_type": "markdown",
   "metadata": {},
   "source": [
    "# Find barcodes and genes inside cells"
   ]
  },
  {
   "cell_type": "code",
   "execution_count": null,
   "metadata": {},
   "outputs": [],
   "source": [
    "# find which barcode is in which cells\n",
    "barcode_df = iss.segment.cells.count_rolonies(\n",
    "    barcoded_mask, spots_in_tile, grouping_column=\"bases\"\n",
    ")\n",
    "genes_df = iss.segment.cells.count_rolonies(barcoded_mask, genes_spots, grouping_column=\"gene\")\n",
    "hyb_df = iss.segment.cells.count_rolonies(barcoded_mask, hyb_spots, grouping_column=\"gene\")\n",
    "for gene in hyb_df.columns:\n",
    "    if gene in genes_df.columns:\n",
    "        genes_df.pop(gene)\n",
    "fused_df = hyb_df.join(genes_df, how='outer')\n",
    "fused_df[np.isnan(fused_df)] = 0\n",
    "fused_df = fused_df.astype(int)\n"
   ]
  },
  {
   "cell_type": "code",
   "execution_count": null,
   "metadata": {},
   "outputs": [],
   "source": [
    "\n",
    "fig = plt.figure(figsize=(50, 7))\n",
    "ax = fig.add_subplot(1,1,1)\n",
    "img = ax.imshow(barcode_df.values, aspect='auto', interpolation='none', vmax=10, origin='lower')\n",
    "cb = plt.colorbar(img, ax=ax)\n",
    "cb.set_label(\"Rolonie #\")\n",
    "ax.set_xticks(np.arange(barcode_df.shape[1]))\n",
    "ax.set_yticks(np.arange(barcode_df.shape[0]))\n",
    "ax.set_yticklabels(barcode_df.index)\n",
    "ax.set_xticklabels(barcode_df.columns, rotation=90)\n",
    "plt.tight_layout()\n",
    "\n"
   ]
  },
  {
   "cell_type": "code",
   "execution_count": null,
   "metadata": {},
   "outputs": [],
   "source": [
    "fig = plt.figure(figsize=(30, 7))\n",
    "ax = fig.add_subplot(1,1,1)\n",
    "img = ax.imshow(genes_df.values, aspect='auto', interpolation='none', vmax=10, origin='lower')\n",
    "cb = plt.colorbar(img, ax=ax)\n",
    "cb.set_label(\"Rolonie #\")\n",
    "ax.set_xticks(np.arange(genes_df.shape[1]))\n",
    "ax.set_yticks(np.arange(genes_df.shape[0]))\n",
    "ax.set_yticklabels(genes_df.index)\n",
    "ax.set_xticklabels(genes_df.columns, rotation=90)\n",
    "plt.tight_layout()"
   ]
  },
  {
   "cell_type": "code",
   "execution_count": null,
   "metadata": {},
   "outputs": [],
   "source": [
    "plt.subplot(1,2,1)\n",
    "plt.hist(genes_df.loc[1:].sum(axis=1))\n",
    "plt.xlabel(\"# genes rolonies per cells\")\n",
    "plt.subplot(1,2,2)\n",
    "plt.hist(barcode_df.loc[1:].sum(axis=1))\n",
    "plt.xlabel(\"# barcode rolonies per cells\")"
   ]
  },
  {
   "cell_type": "code",
   "execution_count": null,
   "metadata": {},
   "outputs": [],
   "source": [
    "iss.vis.plot_gene_matrix(fused_df.iloc[1:].astype(int), cmap=\"inferno\", vmax=2)"
   ]
  },
  {
   "attachments": {},
   "cell_type": "markdown",
   "metadata": {},
   "source": [
    "# Plot example SST cell"
   ]
  },
  {
   "cell_type": "code",
   "execution_count": null,
   "metadata": {},
   "outputs": [],
   "source": [
    "cell_id = 23\n",
    "\n",
    "cell_series = fused_df.loc[cell_id]\n",
    "print(f\"Ploting cell {cell_id} with {cell_series.Sst} sst rolonies\")"
   ]
  },
  {
   "cell_type": "code",
   "execution_count": null,
   "metadata": {},
   "outputs": [],
   "source": [
    "mask = np.vstack(np.where(barcoded_mask == cell_id))\n",
    "bounding_box = np.vstack([mask.min(axis=1), mask.max(axis=1)]).astype(int)\n",
    "bounding_box += np.array([[-1, -1],[1,1]]) * np.diff(bounding_box, axis=0).max()\n",
    "part2plot = (slice(*bounding_box[:, 0]), slice(*bounding_box[:, 1]))\n",
    "\n",
    "data = np.dstack([barcodes_all_channels.std(axis=2), genes_all_channels.std(axis=2)])\n",
    "lim = np.nanquantile(data, [0.05, 0.99], axis=(0,1))\n",
    "img = iss.vis.to_rgb(data,\n",
    "                     colors=[[1,0,0],[0,1,0]], vmin=lim[0], vmax=lim[1])\n",
    "plt.imshow(img[part2plot])\n",
    "plt.contour(barcoded_mask[part2plot])\n",
    "plt.scatter(spots_in_tile.x - bounding_box[0, 1], spots_in_tile.y - bounding_box[0, 0], s=10, label='Barcodes')\n",
    "plt.scatter(genes_spots.x - bounding_box[0, 1], genes_spots.y - bounding_box[0, 0], s=10, label='Genes')\n",
    "plt.xlim([0, np.diff(bounding_box, axis=0)[0,1]])\n",
    "plt.ylim([np.diff(bounding_box, axis=0)[0, 0], 0])\n"
   ]
  },
  {
   "cell_type": "code",
   "execution_count": null,
   "metadata": {},
   "outputs": [],
   "source": [
    "hyb1_all_channels = iss.pipeline.stitch.load_tile_ref_coors(\n",
    "    data_path=data_path, tile_coors=tile_coors, prefix=\"hybridisation_1_1\"\n",
    ")\n",
    "hyb2_all_channels = iss.pipeline.stitch.load_tile_ref_coors(\n",
    "    data_path=data_path, tile_coors=tile_coors, prefix=\"hybridisation_2_1\"\n",
    ")\n"
   ]
  },
  {
   "cell_type": "code",
   "execution_count": null,
   "metadata": {},
   "outputs": [],
   "source": []
  },
  {
   "cell_type": "code",
   "execution_count": null,
   "metadata": {},
   "outputs": [],
   "source": []
  },
  {
   "cell_type": "code",
   "execution_count": null,
   "metadata": {},
   "outputs": [],
   "source": []
  },
  {
   "cell_type": "code",
   "execution_count": null,
   "metadata": {},
   "outputs": [],
   "source": [
    "raise NotImplementedError(\"Everything below needs to be changed or deleted\")"
   ]
  },
  {
   "cell_type": "code",
   "execution_count": null,
   "metadata": {},
   "outputs": [],
   "source": [
    "cells = iss.segment.cells.cellpose_segmentation(\n",
    "    snippet,\n",
    "    channels=(0, 0),\n",
    "    flow_threshold=0.5,\n",
    "    min_pix=0,\n",
    "    dilate_pix=0,\n",
    "    rescale=None,\n",
    "    model_type=\"CP\",\n",
    "    use_gpu=False,\n",
    "    diameter=int(20 / pixel_size),\n",
    ")\n",
    "cellpose_cells = np.array(cells)\n",
    "plt.imshow(cells, cmap=\"Set2\", interpolation=\"None\")\n",
    "print(f\"Found {len(np.unique(cells))-1} cells\")\n"
   ]
  },
  {
   "attachments": {},
   "cell_type": "markdown",
   "metadata": {},
   "source": [
    "# Debug Opencv version\n",
    "\n",
    "Now using classic opencv"
   ]
  },
  {
   "cell_type": "code",
   "execution_count": null,
   "metadata": {},
   "outputs": [],
   "source": [
    "mask = 255 * (blur > 10).astype(\"uint8\")\n",
    "kernel = np.ones((5, 5), dtype=\"uint8\") * 255\n",
    "background = cv2.dilate(mask, kernel, iterations=10)\n",
    "dst2nonzero = cv2.distanceTransform(mask, distanceType=cv2.DIST_L2, maskSize=5)\n",
    "is_cell = 255 * (dst2nonzero > 20).astype(\"uint8\")\n",
    "ret, markers = cv2.connectedComponents(is_cell)\n",
    "# make the background to 1\n",
    "markers += 1\n",
    "# and part to watershed to 0\n",
    "markers[np.bitwise_xor(background, is_cell).astype(bool)] = 0\n",
    "# watershed required a rgb image\n",
    "stack = cv2.normalize(blur, None, 255, 0, cv2.NORM_MINMAX, cv2.CV_8U)\n",
    "stack = cv2.cvtColor(stack, cv2.COLOR_GRAY2BGR)\n",
    "water = cv2.watershed(stack, markers)\n",
    "water -= 1  # put the background seed to 0.\n",
    "water[water < 0] = 0  # put borders into background\n",
    "\n",
    "fig, axes = plt.subplots(2, 2)\n",
    "fig.set_size_inches(10, 10)\n",
    "axes[0,0].imshow(blur)\n",
    "axes[0,0].contour(blur, levels=[5,10,20,40], colors=['orange', 'pink', 'red', 'darkred'])\n",
    "axes[0,1].imshow(dst2nonzero)\n",
    "axes[1,0].imshow(cv2.MORPH_CLOSE)"
   ]
  },
  {
   "cell_type": "code",
   "execution_count": null,
   "metadata": {},
   "outputs": [],
   "source": [
    "# plot various binary step\n",
    "debug = iss.segment.barcodes.segment_spot_image(\n",
    "    blur, binarise_threshold=5, distance_threshold=10, debug=True\n",
    ")\n",
    "fig, axes = plt.subplots(2, 2)\n",
    "fig.set_size_inches(10, 10)\n",
    "axes[0, 0].imshow(debug[\"binary\"])\n",
    "axes[0, 0].set_title(\"Binarised\")\n",
    "axes[0, 1].imshow(debug[\"background\"])\n",
    "axes[0, 1].set_title(\"Background is blue\")\n",
    "axes[1, 0].imshow(debug[\"distance\"])\n",
    "axes[1, 0].set_title(\"Distance 2 non-zero\")\n",
    "axes[1, 1].imshow(debug[\"seeds\"])\n",
    "axes[1, 1].set_title(\"Cells\")\n",
    "\n",
    "plt.tight_layout()\n"
   ]
  },
  {
   "cell_type": "code",
   "execution_count": null,
   "metadata": {},
   "outputs": [],
   "source": [
    "fig, axes = plt.subplots(2, 2)\n",
    "fig.set_size_inches(10, 10)\n",
    "axes[0, 0].imshow(debug[\"initial_labels\"], cmap=\"tab20\", interpolation=\"None\")\n",
    "axes[0, 0].set_title(\"Markers\")\n",
    "axes[0, 1].imshow(debug[\"watershed\"], cmap=\"tab20\", interpolation=\"None\")\n",
    "axes[0, 1].set_title(\"Watershed\")\n",
    "axes[1, 0].imshow(debug[\"intial_labels\"], cmap=\"tab20\", interpolation=\"None\")\n",
    "axes[1, 0].contour(debug[\"watershed\"], colors=\"darkred\")\n",
    "axes[1, 0].set_title(\"Cell contours\")\n",
    "axes[1, 1].imshow(blur, cmap=\"tab20\", interpolation=\"None\")\n",
    "axes[1, 0].contour(debug[\"watershed\"], colors=\"darkred\")\n",
    "axes[1, 0].set_title(\"Cell contours\")\n",
    "\n",
    "\n",
    "for x in axes.flatten():\n",
    "    x.axis(\"off\")\n",
    "plt.tight_layout()\n",
    "print(f\"Found {len(np.unique(water))-2} cells\")\n",
    "opencv_cells = np.array(water)\n",
    "\n",
    "\n",
    "\"\"\"\n",
    "background=background,\n",
    "binary=mask,\n",
    "seeds=is_cell,\n",
    "distance=dst2nonzero,\n",
    "initial_labels=markers,\n",
    "watershed=water,\n",
    "\"\"\"\n"
   ]
  },
  {
   "attachments": {},
   "cell_type": "markdown",
   "metadata": {},
   "source": [
    "# Now watershed\n",
    "\n",
    "We want to flood from each cell and extend around but not too far. We can do that by\n",
    "setting a label for the background that is far from cells"
   ]
  },
  {
   "cell_type": "code",
   "execution_count": null,
   "metadata": {},
   "outputs": [],
   "source": []
  },
  {
   "attachments": {},
   "cell_type": "markdown",
   "metadata": {},
   "source": [
    "# Overlay to data"
   ]
  },
  {
   "cell_type": "code",
   "execution_count": null,
   "metadata": {},
   "outputs": [],
   "source": [
    "# select tile\n",
    "fig, ax = plt.subplots(1, 1)\n",
    "fig.set_size_inches(10, 7)\n",
    "corners = np.load(\n",
    "    processed_path\n",
    "    / data_path\n",
    "    / \"reg\"\n",
    "    / f\"genes_round_1_1_roi{roi}_acquisition_tile_corners.npy\"\n",
    ")\n",
    "ax.scatter(spots.x, spots.y, s=1, color=\"red\", alpha=0.3)\n",
    "ax.set_aspect(\"equal\")\n",
    "for row, corner in enumerate(corners):\n",
    "    for col, corne in enumerate(corner):\n",
    "        center = np.nanmean(corne, axis=1)\n",
    "        ax.plot(corne[1, :], corne[0, :], color=\"k\")\n",
    "        ax.text(\n",
    "            center[1],\n",
    "            center[0],\n",
    "            s=f\"({row}, {col})\",\n",
    "            verticalalignment=\"center\",\n",
    "            horizontalalignment=\"center\",\n",
    "        )\n",
    "ax.invert_yaxis()\n"
   ]
  },
  {
   "cell_type": "code",
   "execution_count": null,
   "metadata": {},
   "outputs": [],
   "source": [
    "# Get raw data for overlay\n",
    "tile_coords = (roi, 3, 9)\n",
    "genes_all_channels = iss.pipeline.stitch.load_tile(\n",
    "    data_path=data_path, tile_coordinates=tile_coords, prefix=\"genes_round_1_1\"\n",
    ")\n",
    "barcodes_all_channels = iss.pipeline.stitch.load_tile(\n",
    "    data_path=data_path, tile_coordinates=tile_coords, prefix=\"barcode_round_1_1\"\n",
    ")\n",
    "dapi = iss.pipeline.stitch.load_tile(\n",
    "    data_path=data_path, tile_coordinates=tile_coords, prefix=\"dapi_1\"\n",
    ")\n",
    "\n",
    "ref_corners = np.load(\n",
    "    processed_path\n",
    "    / data_path\n",
    "    / \"reg\"\n",
    "    / f\"genes_round_1_1_roi{roi}_acquisition_tile_corners.npy\"\n",
    ")\n",
    "dapi = dapi[:, :, 0, 0]\n",
    "barcodes = np.nanstd(barcodes_all_channels, axis=2)[..., 0]\n",
    "genes = np.nanstd(genes_all_channels, axis=2)[..., 0]\n"
   ]
  },
  {
   "cell_type": "code",
   "execution_count": null,
   "metadata": {},
   "outputs": [],
   "source": [
    "ref_corners.shape\n"
   ]
  },
  {
   "cell_type": "code",
   "execution_count": null,
   "metadata": {},
   "outputs": [],
   "source": [
    "borders = np.zeros(snippet.shape, dtype=\"uint8\")\n",
    "borders[water == -1] = 255\n",
    "borders = cv2.dilate(borders, np.ones((5, 5)))\n",
    "glim = np.nanquantile(genes, [0.1, 0.99])\n",
    "blim = np.nanquantile(barcodes, [0.1, 0.99])\n",
    "dlim = np.nanquantile(dapi, [0.1, 0.99])\n",
    "img = iss.vis.to_rgb(\n",
    "    np.dstack((dapi, genes, barcodes)),\n",
    "    colors=[[0, 0, 1], [1, 0, 0], [0, 1, 0]],\n",
    "    vmin=np.array([dlim[0], glim[0], blim[0]]),\n",
    "    vmax=[dlim[1], glim[1], blim[1]],\n",
    ")\n",
    "\n",
    "fig, axes = plt.subplots(1, 1)\n",
    "axes = [axes]\n",
    "fig.set_size_inches(20, 20)\n",
    "corner = ref_corners[tile_coords[1], tile_coords[2]]\n",
    "valid_spot = spots[\n",
    "    (spots.x > corner[1, 0])\n",
    "    & (spots.x < corner[1, 3])\n",
    "    & (spots.y > corner[0, 0])\n",
    "    & (spots.y < corner[0, 3])\n",
    "]\n",
    "for x in axes:\n",
    "    x.scatter(\n",
    "        spots.x - corner[1, 0], spots.y - corner[0, 0], s=10, color=\"yellow\", alpha=1\n",
    "    )\n",
    "    x.imshow(img)\n",
    "    x.axis(\"off\")\n",
    "\n",
    "plt.tight_layout()\n"
   ]
  },
  {
   "cell_type": "code",
   "execution_count": null,
   "metadata": {},
   "outputs": [],
   "source": [
    "# basic imread\n",
    "fname = 'barcode_round_1_1_MMStack_5-Pos000_000_fstack.tif'\n",
    "full_fname = processed_path / data_path / \"barcode_round_1_1\" / fname\n",
    "%timeit iss.io.load.load_stack(full_fname).astype('single')"
   ]
  },
  {
   "cell_type": "code",
   "execution_count": null,
   "metadata": {},
   "outputs": [],
   "source": [
    "from tifffile import imread\n",
    "%timeit np.moveaxis(imread(full_fname).astype('single'), 0, 2)"
   ]
  },
  {
   "attachments": {},
   "cell_type": "markdown",
   "metadata": {},
   "source": [
    "Optimising tile loading"
   ]
  },
  {
   "cell_type": "code",
   "execution_count": null,
   "metadata": {},
   "outputs": [],
   "source": [
    "from skimage.morphology import binary_dilation\n",
    "\n",
    "prefix = \"barcode_round\"\n",
    "tile_coors = (5, 0, 0)\n",
    "nrounds = 1\n",
    "suffix = \"fstack\"\n",
    "filter_r = (2, 4)\n"
   ]
  },
  {
   "attachments": {},
   "cell_type": "markdown",
   "metadata": {},
   "source": [
    "## original version with just processing steps\n",
    "\n",
    "This is for reference"
   ]
  },
  {
   "cell_type": "code",
   "execution_count": null,
   "metadata": {},
   "outputs": [],
   "source": [
    "# origin version with just processing steps\n",
    "def original_version():\n",
    "    processed_path = Path(PARAMETERS[\"data_root\"][\"processed\"])\n",
    "    tforms_fname = f\"tforms_corrected_{prefix}_{tile_coors[0]}_{tile_coors[1]}_{tile_coors[2]}.npz\"\n",
    "    tforms_path = processed_path / data_path / \"reg\" / tforms_fname\n",
    "    tforms = np.load(tforms_path, allow_pickle=True)\n",
    "\n",
    "    stack = iss.pipeline.load_sequencing_rounds(\n",
    "        data_path, tile_coors, suffix=suffix, prefix=prefix, nrounds=nrounds\n",
    "    )\n",
    "    tforms = iss.pipeline.generate_channel_round_transforms(\n",
    "        tforms[\"angles_within_channels\"],\n",
    "        tforms[\"shifts_within_channels\"],\n",
    "        tforms[\"scales_between_channels\"],\n",
    "        tforms[\"angles_between_channels\"],\n",
    "        tforms[\"shifts_between_channels\"],\n",
    "        stack.shape[:2],\n",
    "    )\n",
    "    stack = iss.pipeline.align_channels_and_rounds(stack, tforms)\n",
    "    stack = iss.pipeline.apply_illumination_correction(data_path, stack, prefix)\n",
    "    bad_pixels = np.any(np.isnan(stack), axis=(2, 3))\n",
    "    stack[np.isnan(stack)] = 0\n",
    "    stack = iss.pipeline.filter_stack(stack, r1=filter_r[0], r2=filter_r[1])\n",
    "    mask = np.ones((filter_r[1] * 2 + 1, filter_r[1] * 2 + 1))\n",
    "    bad_pixels = binary_dilation(bad_pixels, mask)\n",
    "\n",
    "    correction_path = processed_path / data_path / f\"correction_{prefix}.npz\"\n",
    "    norm_factors = np.load(correction_path, allow_pickle=True)[\"norm_factors\"]\n",
    "    stack = stack / norm_factors[np.newaxis, np.newaxis, :, :nrounds]\n",
    "    return stack\n",
    "%timeit original_version()\n"
   ]
  },
  {
   "cell_type": "code",
   "execution_count": null,
   "metadata": {},
   "outputs": [],
   "source": [
    "# separate tform version with just processing steps\n",
    "processed_path = Path(PARAMETERS[\"data_root\"][\"processed\"])\n",
    "tforms_fname = f\"tforms_corrected_{prefix}_{tile_coors[0]}_{tile_coors[1]}_{tile_coors[2]}.npz\"\n",
    "tforms_path = processed_path / data_path / \"reg\" / tforms_fname\n",
    "tforms = np.load(tforms_path, allow_pickle=True)\n",
    "image_shape = (3300, 3296)\n",
    "tforms = iss.pipeline.generate_channel_round_transforms(\n",
    "    tforms[\"angles_within_channels\"],\n",
    "    tforms[\"shifts_within_channels\"],\n",
    "    tforms[\"scales_between_channels\"],\n",
    "    tforms[\"angles_between_channels\"],\n",
    "    tforms[\"shifts_between_channels\"],\n",
    "    image_shape,\n",
    ")\n",
    "def pregenerate_tforms():\n",
    "    stack = iss.pipeline.load_sequencing_rounds(\n",
    "        data_path, tile_coors, suffix=suffix, prefix=prefix, nrounds=nrounds\n",
    "    )\n",
    "\n",
    "    stack = iss.pipeline.align_channels_and_rounds(stack, tforms)\n",
    "    stack = iss.pipeline.apply_illumination_correction(data_path, stack, prefix)\n",
    "    bad_pixels = np.any(np.isnan(stack), axis=(2, 3))\n",
    "    stack[np.isnan(stack)] = 0\n",
    "    stack = iss.pipeline.filter_stack(stack, r1=filter_r[0], r2=filter_r[1])\n",
    "    mask = np.ones((filter_r[1] * 2 + 1, filter_r[1] * 2 + 1))\n",
    "    bad_pixels = binary_dilation(bad_pixels, mask)\n",
    "\n",
    "    correction_path = processed_path / data_path / f\"correction_{prefix}.npz\"\n",
    "    norm_factors = np.load(correction_path, allow_pickle=True)[\"norm_factors\"]\n",
    "    stack = stack / norm_factors[np.newaxis, np.newaxis, :, :nrounds]\n",
    "%timeit pregenerate_tforms()\n"
   ]
  },
  {
   "cell_type": "code",
   "execution_count": null,
   "metadata": {},
   "outputs": [],
   "source": [
    "iss.io.load.load_stack(full_fname).astype(\"single\").shape\n"
   ]
  },
  {
   "cell_type": "code",
   "execution_count": null,
   "metadata": {},
   "outputs": [],
   "source": [
    "np.moveaxis(imread(full_fname).astype(\"single\"), 0, 2).shape\n"
   ]
  },
  {
   "cell_type": "code",
   "execution_count": null,
   "metadata": {},
   "outputs": [],
   "source": [
    "roi = 5\n",
    "(\n",
    "    stitched_stack_dapi,\n",
    "    stitched_stack_genes,\n",
    "    angle,\n",
    "    shift,\n",
    ") = iss.pipeline.stitch_and_register(\n",
    "    data_path, \"genes_round_1_1\", \"DAPI_1\", roi=roi, downsample=5\n",
    ")\n"
   ]
  },
  {
   "cell_type": "code",
   "execution_count": null,
   "metadata": {},
   "outputs": [],
   "source": [
    "(\n",
    "    stitched_stack_barcode,\n",
    "    stitched_stack_genes,\n",
    "    angle,\n",
    "    shift,\n",
    ") = iss.pipeline.stitch_and_register(\n",
    "    data_path, \"genes_round_1_1\", \"barcode_round_1_1\", roi=roi, downsample=5\n",
    ")\n"
   ]
  },
  {
   "cell_type": "code",
   "execution_count": null,
   "metadata": {},
   "outputs": [],
   "source": [
    "masks = np.load(processed_path / data_path / f\"masks_{roi}.npy\")\n",
    "im = np.stack(\n",
    "    [\n",
    "        stitched_stack_genes[3000:10000, 12000:20000],\n",
    "        stitched_stack_dapi[3000:10000, 12000:20000],\n",
    "        masks[3000:10000, 12000:20000] > 0,\n",
    "    ],\n",
    "    axis=2,\n",
    ")\n",
    "shift_right, shift_down, tile_shape = iss.pipeline.register_adjacent_tiles(\n",
    "    data_path, ref_coors=ops[\"ref_tile\"], prefix=\"genes_round_1_1\"\n",
    ")\n",
    "genes_spots = iss.pipeline.merge_roi_spots(\n",
    "    data_path, shift_right, shift_down, tile_shape, iroi=roi, prefix=\"genes_round\"\n",
    ")\n"
   ]
  },
  {
   "cell_type": "code",
   "execution_count": null,
   "metadata": {},
   "outputs": [],
   "source": [
    "barcode_spots = iss.pipeline.merge_roi_spots(\n",
    "    data_path, shift_right, shift_down, tile_shape, iroi=roi, prefix=\"barcode_round\"\n",
    ")\n",
    "\n",
    "plt.figure(figsize=(50, 50))\n",
    "plt.imshow(\n",
    "    iss.vis.to_rgb(\n",
    "        im,\n",
    "        colors=[[1, 0, 0], [0, 0, 1], [0, 1, 0]],\n",
    "        vmax=[400, 200, 1],\n",
    "        vmin=np.array([30, 0, 0]),\n",
    "    )\n",
    ")\n",
    "plt.plot(\n",
    "    barcode_spots[\"x\"] - 12000, barcode_spots[\"y\"] - 3000, \".r\", alpha=1, markersize=10\n",
    ")\n",
    "plt.plot(\n",
    "    genes_spots[\"x\"] - 12000,\n",
    "    genes_spots[\"y\"] - 3000,\n",
    "    \".\",\n",
    "    color=\"purple\",\n",
    "    alpha=1,\n",
    "    markersize=10,\n",
    ")\n",
    "plt.xlim([0, 4000])\n",
    "plt.ylim([4000, 0])\n",
    "plt.axis(\"off\")\n"
   ]
  }
 ],
 "metadata": {
  "kernelspec": {
   "display_name": "Python 3",
   "language": "python",
   "name": "python3"
  },
  "language_info": {
   "codemirror_mode": {
    "name": "ipython",
    "version": 3
   },
   "file_extension": ".py",
   "mimetype": "text/x-python",
   "name": "python",
   "nbconvert_exporter": "python",
   "pygments_lexer": "ipython3",
   "version": "3.10.9"
  },
  "orig_nbformat": 4,
  "vscode": {
   "interpreter": {
    "hash": "02c4ab6ff317cb8a885d2aa2247e2bd7c17b0a4a2d1482529ed329ad25df85a1"
   }
  }
 },
 "nbformat": 4,
 "nbformat_minor": 2
}
