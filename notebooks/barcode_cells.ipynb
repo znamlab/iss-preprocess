{
 "cells": [
  {
   "attachments": {},
   "cell_type": "markdown",
   "metadata": {},
   "source": [
    "# Detect barcoded cells\n",
    "\n",
    "This notebook works on a single tile to make it easier and faster"
   ]
  },
  {
   "cell_type": "code",
   "execution_count": null,
   "metadata": {},
   "outputs": [],
   "source": [
    "# imports and chamber selection\n",
    "%load_ext autoreload\n",
    "%autoreload 2\n",
    "import iss_preprocess as iss\n",
    "import pandas as pd\n",
    "import numpy as np\n",
    "import matplotlib.pyplot as plt\n",
    "import yaml\n",
    "from flexiznam.config import PARAMETERS\n",
    "from pathlib import Path\n",
    "from itertools import cycle\n",
    "from matplotlib.animation import FuncAnimation\n",
    "\n",
    "data_path = \"becalia_rabies_barseq/BRYC65.1d/chamber_13/\"\n",
    "\n",
    "processed_path = Path(PARAMETERS[\"data_root\"][\"processed\"])\n",
    "metadata = iss.io.load_metadata(data_path)\n",
    "\n",
    "ops = iss.config.DEFAULT_OPS.copy()\n",
    "ops.update(\n",
    "    {\n",
    "        \"camera_order\": metadata[\"camera_order\"],\n",
    "        \"genes_rounds\": metadata[\"genes_rounds\"],\n",
    "        \"barcode_rounds\": metadata[\"barcode_rounds\"],\n",
    "        \"use_rois\": [1, 2, 5, 6],\n",
    "        \"ref_tile\": (1, 5, 8),\n",
    "        \"correction_tiles\": [\n",
    "            (1, 5, 8),\n",
    "            (1, 5, 9),\n",
    "            (1, 4, 8),\n",
    "            (1, 4, 9),\n",
    "            (2, 4, 9),\n",
    "            (2, 3, 9),\n",
    "            (2, 2, 9),\n",
    "            (2, 2, 8),\n",
    "        ],\n",
    "        \"barcode_ref_tiles\": [\n",
    "            (1, 5, 8),\n",
    "            (1, 5, 9),\n",
    "            (1, 4, 8),\n",
    "            (1, 4, 9),\n",
    "            (2, 4, 9),\n",
    "            (2, 3, 9),\n",
    "            (2, 2, 9),\n",
    "            (2, 2, 8),\n",
    "        ],\n",
    "        \"average_clip_value\": 2000,\n",
    "    }\n",
    ")"
   ]
  },
  {
   "attachments": {},
   "cell_type": "markdown",
   "metadata": {},
   "source": [
    "## Filter detected barcodes\n",
    "\n",
    "We will load detected barcodes and filter them by dot product."
   ]
  },
  {
   "cell_type": "code",
   "execution_count": null,
   "metadata": {},
   "outputs": [],
   "source": [
    "roi = 5\n",
    "gaussian_width_um = 10"
   ]
  },
  {
   "cell_type": "code",
   "execution_count": null,
   "metadata": {},
   "outputs": [],
   "source": [
    "# get spots\n",
    "raw_spots = dict()\n",
    "spot_list = [\"genes_round\", \"barcode_round\", \"hybridisation_1_1\", \"hybridisation_2_1\"]\n",
    "for prefix in spot_list:\n",
    "    print(f\"Loading {prefix}\", flush=True)\n",
    "    raw_spots[prefix] = pd.read_pickle(\n",
    "        processed_path / data_path / f\"{prefix}_spots_{roi}.pkl\"\n",
    "    )\n",
    "raw_spots[\"genes_round\"].head()"
   ]
  },
  {
   "cell_type": "code",
   "execution_count": null,
   "metadata": {},
   "outputs": [],
   "source": [
    "# filter spots\n",
    "barcode_dot_threshold = 0.2\n",
    "omp_score_threshold = 0.1\n",
    "hyb_score_threshold = 0.8\n",
    "\n",
    "spots = dict()\n",
    "fig, axes = plt.subplots(2, 2)\n",
    "fig.set_size_inches(7, 5)\n",
    "kw = dict(histtype=\"step\", color=\"k\", lw=2)\n",
    "axes[0, 0].hist(\n",
    "    raw_spots[\"barcode_round\"].dot_product_score, bins=np.arange(-0.5, 1.1, 0.05), **kw\n",
    ")\n",
    "axes[0, 0].axvline(barcode_dot_threshold, color=\"k\")\n",
    "axes[0, 0].set_xlabel(\"Barcode dot score\")\n",
    "axes[0, 0].set_ylabel(\"# barcode rolonies\")\n",
    "\n",
    "axes[0, 1].hist(raw_spots[\"genes_round\"].spot_score, bins=np.arange(0, 1.2, 0.05), **kw)\n",
    "axes[0, 1].axvline(omp_score_threshold, color=\"k\")\n",
    "axes[0, 1].set_xlabel(\"OMP score\")\n",
    "axes[0, 1].set_ylabel(\"# genes rolonies\")\n",
    "\n",
    "for i in range(2):\n",
    "    axes[1, i].hist(\n",
    "        raw_spots[f\"hybridisation_{i+1}_1\"].score,\n",
    "        bins=np.arange(-0.50, 1.2, 0.05),\n",
    "        **kw,\n",
    "    )\n",
    "    axes[1, i].axvline(hyb_score_threshold, color=\"k\")\n",
    "    axes[1, i].set_xlabel(\"Hybridisation score\")\n",
    "    axes[1, i].set_ylabel(f\"# hyb {i+1} rolonies\")\n",
    "\n",
    "plt.tight_layout()\n",
    "raw_spots[\"genes_round\"].head()\n",
    "\n",
    "ok_barcode = raw_spots[\"barcode_round\"].dot_product_score > barcode_dot_threshold\n",
    "spots[\"barcode_round\"] = raw_spots[\"barcode_round\"][ok_barcode].copy()\n",
    "print(f\"Keeping {np.sum(ok_barcode)} barcode rolonies out of {len(ok_barcode)}.\")\n",
    "ok_genes = raw_spots[\"genes_round\"].spot_score > omp_score_threshold\n",
    "spots[\"genes_round\"] = raw_spots[\"genes_round\"][ok_genes].copy()\n",
    "print(f\"Keeping {np.sum(ok_genes)} genes rolonies out of {len(ok_genes)}.\")\n",
    "for i in range(2):\n",
    "    ok_hyb = raw_spots[f\"hybridisation_{i +1}_1\"].score > hyb_score_threshold\n",
    "    spots[f\"hybridisation_{i +1}_1\"] = raw_spots[f\"hybridisation_{i +1}_1\"][\n",
    "        ok_hyb\n",
    "    ].copy()\n",
    "    print(\n",
    "        f\"Keeping {np.sum(ok_hyb)} hybridisation rolonies out of {len(ok_hyb)} for round {i+1}.\"\n",
    "    )"
   ]
  },
  {
   "cell_type": "code",
   "execution_count": null,
   "metadata": {},
   "outputs": [],
   "source": [
    "# get masks and expand\n",
    "# (this can be done in segment_rolonies but we want to keep a reference to the big masks)\n",
    "masks = np.load(processed_path / data_path / f\"masks_{roi}.npy\")\n",
    "from skimage.segmentation import expand_labels\n",
    "\n",
    "pixel_size = 0.18\n",
    "big_mask = expand_labels(masks, distance=int(5 / pixel_size))"
   ]
  },
  {
   "cell_type": "code",
   "execution_count": null,
   "metadata": {},
   "outputs": [],
   "source": [
    "# plot what we have\n",
    "roi = 5\n",
    "corners = np.load(\n",
    "    processed_path\n",
    "    / data_path\n",
    "    / \"reg\"\n",
    "    / f\"genes_round_1_1_roi{roi}_acquisition_tile_corners.npy\"\n",
    ")\n",
    "tile = (4, 9)\n",
    "# find shift\n",
    "\n",
    "s = 1000\n",
    "\n",
    "plt.figure(figsize=(10, 10))\n",
    "center = np.mean(corners, axis=(3))[tile[0], tile[1]].astype(int)\n",
    "xlim = center[0] + np.array([-s, s], dtype=int) - 500\n",
    "ylim = center[1] + np.array([-s, s], dtype=int)\n",
    "\n",
    "part2plot = (slice(*ylim), slice(*xlim))\n",
    "\n",
    "m = np.array(big_mask[part2plot] - masks[part2plot], copy=True, dtype=float)\n",
    "m[m == 0] = np.nan\n",
    "plt.imshow(\n",
    "    m, extent=[*xlim, *ylim[::-1]], cmap=\"prism\", interpolation=\"None\", alpha=0.5\n",
    ")\n",
    "colors = dict(\n",
    "    barcode_round=\"darkred\",\n",
    "    genes_round=\"black\",\n",
    "    hybridisation_1_1=\"green\",\n",
    "    hybridisation_2_1=\"blue\",\n",
    ")\n",
    "for w, sp in spots.items():\n",
    "    ok = sp[(xlim[0] < sp.x) & (sp.x < xlim[1]) & (sp.y > ylim[0]) & (sp.y < ylim[1])]\n",
    "    plt.scatter(ok.x, ok.y, s=2, label=w, color=colors[w])\n",
    "plt.legend(loc=\"upper right\")"
   ]
  },
  {
   "attachments": {},
   "cell_type": "markdown",
   "metadata": {},
   "source": [
    "# Find barcodes and genes inside cells"
   ]
  },
  {
   "cell_type": "code",
   "execution_count": null,
   "metadata": {},
   "outputs": [],
   "source": [
    "# find which barcode is in which cells\n",
    "from iss_preprocess.pipeline.segment import segment_rolonies\n",
    "\n",
    "barcode_df, genes_df = segment_rolonies(\n",
    "    data_path,\n",
    "    roi=roi,\n",
    "    mask_expansion=None,\n",
    "    masks=big_mask,\n",
    "    barcode_dot_threshold=barcode_dot_threshold,\n",
    "    omp_score_threshold=omp_score_threshold,\n",
    "    hyb_score_threshold=hyb_score_threshold,\n",
    ")\n",
    "barcode_df.head()"
   ]
  },
  {
   "cell_type": "code",
   "execution_count": null,
   "metadata": {},
   "outputs": [],
   "source": [
    "genes_df.head()"
   ]
  },
  {
   "attachments": {},
   "cell_type": "markdown",
   "metadata": {},
   "source": [
    "# Look for multiplicity of infection"
   ]
  },
  {
   "cell_type": "code",
   "execution_count": null,
   "metadata": {},
   "outputs": [],
   "source": [
    "rol_th = 10\n",
    "fig, axes = plt.subplots(2, 2)\n",
    "fig.set_size_inches(10, 10)\n",
    "kw = dict(histtype=\"step\", color=\"k\", lw=2)\n",
    "for i in range(2):\n",
    "    axes[0, i].hist(\n",
    "        barcode_df.iloc[1:].sum(axis=1).values, bins=np.arange(-0.5, 50, 1), **kw\n",
    "    )\n",
    "    axes[0, i].set_xlabel(\"Number of barcode rolonies per cell\")\n",
    "    axes[0, i].axvline(rol_th, color=\"k\")\n",
    "axes[0, 1].semilogy()\n",
    "\n",
    "barcoded_cells = barcode_df[barcode_df.sum(axis=1) > rol_th].iloc[1:]\n",
    "axes[1, 0].scatter(barcoded_cells.sum(axis=1), barcoded_cells.max(axis=1), color=\"k\")\n",
    "axes[1, 0].set_xlabel(\"Total number of rolonies\")\n",
    "axes[1, 0].set_ylabel(\"Most aboundant sequence\")\n",
    "prop_main = barcoded_cells.max(axis=1) / barcoded_cells.sum(axis=1)\n",
    "axes[1, 1].hist(prop_main, bins=np.arange(0, 1.1, 0.05), **kw)\n",
    "axes[1, 1].set_xlabel(\"Proportion of rolonies from main sequence\")\n",
    "axes[1, 1].set_ylabel(\"# of cells\")"
   ]
  },
  {
   "cell_type": "code",
   "execution_count": null,
   "metadata": {},
   "outputs": [],
   "source": [
    "# make edit distance plot\n",
    "import editdistance\n",
    "\n",
    "code_len = len(barcoded_cells.columns[0])\n",
    "distance_df = pd.DataFrame(\n",
    "    index=barcoded_cells.index, columns=np.arange(code_len + 1), dtype=int\n",
    ")\n",
    "for cell_id, cell in barcoded_cells.iterrows():\n",
    "    main = cell.idxmax()\n",
    "    dst = np.zeros(code_len + 1)\n",
    "    barcodes = cell[cell != 0]\n",
    "    for seq, cnt in barcodes.items():\n",
    "        edit = editdistance.eval(seq, main)\n",
    "        dst[edit] += cnt\n",
    "    distance_df.loc[cell_id, :] = dst"
   ]
  },
  {
   "cell_type": "code",
   "execution_count": null,
   "metadata": {},
   "outputs": [],
   "source": [
    "add_dapi = False\n",
    "if add_dapi:\n",
    "    dapi_stitched = iss.pipeline.stitch.stitch_registered(\n",
    "        data_path, prefix=\"DAPI_1\", roi=5, channels=0\n",
    "    )"
   ]
  },
  {
   "cell_type": "code",
   "execution_count": null,
   "metadata": {},
   "outputs": [],
   "source": [
    "import seaborn as sns\n",
    "\n",
    "distance_df = distance_df.sort_values(0)\n",
    "fig, axes = plt.subplots(2, 2)\n",
    "fig.set_size_inches(10, 10)\n",
    "im = axes[0, 0].imshow(distance_df.values, aspect=\"auto\", interpolation=\"None\")\n",
    "cb = fig.colorbar(im, ax=axes[0, 0])\n",
    "cb.set_label(\"# rolonies\")\n",
    "axes[0, 0].set_xlabel(\"Edit distance\")\n",
    "axes[0, 0].set_ylabel(\"Cell #\")\n",
    "\n",
    "sns.stripplot(data=distance_df, hue=None, ax=axes[0, 1], color=\"purple\")\n",
    "axes[0, 1].bar(\n",
    "    distance_df.columns - 0.1,\n",
    "    distance_df.sum(axis=0) / len(distance_df.index),\n",
    "    edgecolor=\"k\",\n",
    "    facecolor=\"None\",\n",
    "    width=1,\n",
    ")\n",
    "axes[0, 1].set_xlabel(\"Edit distance\")\n",
    "axes[0, 1].set_ylabel(\"# rolonies per cell\")\n",
    "\n",
    "double_labeled = distance_df.loc[:, 3:].max(axis=1) > 3\n",
    "double_cell = distance_df.loc[:, 6].idxmax()\n",
    "double_seq = barcoded_cells.loc[double_cell]\n",
    "double_seq = double_seq[double_seq != 0].sort_values()[::-1]\n",
    "axes[1, 0].plot(double_seq.values, \"o\", color=\"k\")\n",
    "axes[1, 0].set_xticks(np.arange(len(double_seq)))\n",
    "axes[1, 0].set_xticklabels(double_seq.index, rotation=90)\n",
    "axes[1, 0].set_title(f\"Cell {double_cell}\")\n",
    "axes[1, 0].set_ylabel(\"# rolonies\")\n",
    "axes[1, 0].set_xlabel(\"Sequence\")\n",
    "\n",
    "# plot the double cell\n",
    "dc_position = np.where(big_mask == double_cell)\n",
    "ylim = [dc_position[0].min(), dc_position[0].max()]\n",
    "xlim = [dc_position[1].min(), dc_position[1].max()]\n",
    "ylim += np.array([-1, 1]) * int(np.diff(ylim))\n",
    "xlim += np.array([-1, 1]) * int(np.diff(xlim))\n",
    "part2plot = (slice(*ylim), slice(*xlim))\n",
    "axes[1, 1].contour(\n",
    "    (big_mask[part2plot] - masks[part2plot]) != 0,\n",
    "    extent=[*xlim, *ylim[::]],\n",
    "    colors=\"k\",\n",
    "    linewidths=0.5,\n",
    ")\n",
    "m = np.array(big_mask[part2plot], copy=True, dtype=float)\n",
    "vals = np.unique(m)\n",
    "for iv, v in enumerate(vals):\n",
    "    m[m == v] = iv\n",
    "m[m == 0] = np.nan\n",
    "axes[1, 1].set_title(f\"Cell {double_cell}\")\n",
    "if add_dapi:\n",
    "    vmin, vmax = np.quantile(dapi_stitched[part2plot], [0.6, 0.995])\n",
    "    axes[1, 1].imshow(\n",
    "        dapi_stitched[part2plot],\n",
    "        extent=[*xlim, *ylim[::-1]],\n",
    "        cmap=\"viridis\",\n",
    "        interpolation=\"None\",\n",
    "        alpha=1,\n",
    "        vmax=vmax,\n",
    "        vmin=vmin,\n",
    "    )\n",
    "else:\n",
    "    axes[1, 1].imshow(\n",
    "        m, extent=[*xlim, *ylim[::-1]], cmap=\"tab20\", interpolation=\"None\", alpha=1\n",
    "    )\n",
    "\n",
    "sp = spots[\"barcode_round\"]\n",
    "ok = sp[(xlim[0] < sp.x) & (sp.x < xlim[1]) & (sp.y > ylim[0]) & (sp.y < ylim[1])]\n",
    "seqs = np.unique(ok.bases.values)\n",
    "for s in seqs:\n",
    "    v = ok.bases == s\n",
    "    if np.sum(v) < 2:\n",
    "        kw = dict(color=\"k\", s=20)\n",
    "    else:\n",
    "        kw = dict(s=20, label=s)\n",
    "    axes[1, 1].scatter(ok[v].x, ok[v].y, **kw)\n",
    "axes[1, 1].legend(loc=\"upper right\", bbox_to_anchor=(1.1, -0.1), ncol=3)"
   ]
  },
  {
   "cell_type": "code",
   "execution_count": null,
   "metadata": {},
   "outputs": [],
   "source": [
    "spot_dict = iss.pipeline.segment.cell_of_spots(\n",
    "    data_path,\n",
    "    roi,\n",
    "    mask_expansion=None,\n",
    "    masks=big_mask,\n",
    "    barcode_dot_threshold=barcode_dot_threshold,\n",
    "    omp_score_threshold=omp_score_threshold,\n",
    "    hyb_score_threshold=hyb_score_threshold,\n",
    ")\n",
    "barcode_spots = spot_dict[\"barcode_round\"]\n",
    "barcode_spots.head()"
   ]
  },
  {
   "cell_type": "code",
   "execution_count": null,
   "metadata": {},
   "outputs": [],
   "source": [
    "# Calculating all pairwise edit distance\n",
    "def all_pairwise_distances(df):\n",
    "    allseq = np.vstack(df.sequence.values)\n",
    "    all_dists = np.sum((allseq[:, np.newaxis] - allseq[np.newaxis, :, :]) != 0, axis=2)\n",
    "    np.fill_diagonal(np.array(all_dists, dtype=float), np.nan)\n",
    "    return all_dists\n",
    "\n",
    "\n",
    "barcode_in_cell = barcode_spots[barcode_spots.mask_id != 0]\n",
    "barcode_in_cell = barcode_in_cell[\n",
    "    barcode_in_cell.dot_product_score > barcode_dot_threshold\n",
    "]"
   ]
  },
  {
   "cell_type": "code",
   "execution_count": null,
   "metadata": {},
   "outputs": [],
   "source": [
    "all_dists = all_pairwise_distances(barcode_in_cell)\n",
    "\n",
    "# intra cell distance\n",
    "print(\"Doing intra cells pairwise distances\")\n",
    "intra_dsts = dict()\n",
    "for gp, df in barcode_in_cell.groupby(\"mask_id\"):\n",
    "    intra_dsts[gp] = all_pairwise_distances(df)"
   ]
  },
  {
   "cell_type": "code",
   "execution_count": null,
   "metadata": {},
   "outputs": [],
   "source": [
    "fig, ax = plt.subplots(1, 1)\n",
    "\n",
    "ax.hist(\n",
    "    all_dists[~np.isnan(all_dists)],\n",
    "    bins=np.arange(-0.5, 11),\n",
    "    density=True,\n",
    "    histtype=\"step\",\n",
    "    label=\"All pairwise distances\",\n",
    ")\n",
    "in_cells = np.hstack([np.reshape(ar, -1) for ar in intra_dsts.values()])\n",
    "ax.hist(\n",
    "    in_cells[~np.isnan(in_cells)],\n",
    "    bins=np.arange(-0.5, 11),\n",
    "    density=True,\n",
    "    histtype=\"step\",\n",
    "    label=\"Within cell distances\",\n",
    ")\n",
    "ax.legend(loc=\"upper right\")\n",
    "ax.set_xlabel(\"Edit distance\")\n",
    "ax.set_ylabel(\"Proportion of rolonies (density)\")"
   ]
  },
  {
   "cell_type": "code",
   "execution_count": null,
   "metadata": {},
   "outputs": [],
   "source": [
    "plt.imshow(all_dists)"
   ]
  },
  {
   "attachments": {},
   "cell_type": "markdown",
   "metadata": {},
   "source": [
    "# Find the cortex"
   ]
  },
  {
   "cell_type": "code",
   "execution_count": null,
   "metadata": {},
   "outputs": [],
   "source": [
    "from iss_preprocess.pipeline.segment import make_cell_dataframe\n",
    "\n",
    "cell_df = make_cell_dataframe(data_path, roi, masks=None, atlas_size=10)\n",
    "cell_df.head()"
   ]
  },
  {
   "cell_type": "code",
   "execution_count": null,
   "metadata": {},
   "outputs": [],
   "source": [
    "vis = cell_df.area_acronym.apply(lambda x: x.startswith(\"VIS\"))\n",
    "vis_cells = cell_df[vis]\n",
    "ids = list(np.unique(vis_cells.area_id))\n",
    "colors = vis_cells.area_id.map(lambda x: ids.index(x))\n",
    "\n",
    "fig = plt.figure(figsize=(10, 10))\n",
    "ax = fig.add_subplot(1, 1, 1)\n",
    "ax.imshow(\n",
    "    masks[::50, ::50],\n",
    "    extent=(0, masks.shape[1], masks.shape[0], 0),\n",
    "    cmap=\"gray_r\",\n",
    "    alpha=0.5,\n",
    "    vmax=1,\n",
    ")\n",
    "ax.scatter(vis_cells.x, vis_cells.y, c=colors, s=1, cmap=\"tab20\")\n",
    "ax.axis(\"off\")"
   ]
  },
  {
   "cell_type": "code",
   "execution_count": null,
   "metadata": {},
   "outputs": [],
   "source": [
    "fig = plt.figure(figsize=(15, 10))\n",
    "ax = fig.add_subplot(1, 1, 1)\n",
    "ax.imshow(\n",
    "    masks[::10, ::10],\n",
    "    extent=(0, masks.shape[1], masks.shape[0], 0),\n",
    "    cmap=\"gray_r\",\n",
    "    alpha=0.5,\n",
    "    vmax=1,\n",
    ")\n",
    "ax.scatter(vis_cells.x, vis_cells.y, c=colors, s=1, cmap=\"tab20\")\n",
    "ax.set_xlim(5000, 20000)\n",
    "ax.set_ylim(15000, 4000)\n",
    "ax.axis(\"off\")"
   ]
  },
  {
   "cell_type": "code",
   "execution_count": null,
   "metadata": {},
   "outputs": [],
   "source": [
    "barcode_df = spots_in_cells[\"barcode_round\"]\n",
    "in_vis = barcode_df.index.isin(vis_cells.index)\n",
    "barcode_df = barcode_df[in_vis]\n",
    "genes_df = fused_df[fused_df.index.isin(vis_cells.index)]"
   ]
  },
  {
   "cell_type": "code",
   "execution_count": null,
   "metadata": {},
   "outputs": [],
   "source": [
    "fig = plt.figure()\n",
    "ax = fig.add_subplot(1, 1, 1)\n",
    "rol_per_cell = fused_df.iloc[1:].sum(axis=1)\n",
    "\n",
    "th = 6\n",
    "v1_barcoded_cells = barcode_df[barcode_df.sum(axis=1) > th]\n",
    "ax.hist(\n",
    "    rol_per_cell,\n",
    "    bins=np.arange(100, step=2),\n",
    "    density=True,\n",
    "    histtype=\"step\",\n",
    "    label=f\"All cells (n={len(rol_per_cell)})\",\n",
    ")\n",
    "m = rol_per_cell.index.isin(vis_cells.index)\n",
    "ax.hist(\n",
    "    rol_per_cell[m],\n",
    "    bins=np.arange(100, step=2),\n",
    "    density=True,\n",
    "    histtype=\"step\",\n",
    "    label=f\"Visual cortex cells (n={np.sum(m)})\",\n",
    ")\n",
    "m = rol_per_cell.index.isin(v1_barcoded_cells.index)\n",
    "ax.hist(\n",
    "    rol_per_cell[m],\n",
    "    bins=np.arange(100, step=5),\n",
    "    density=True,\n",
    "    histtype=\"step\",\n",
    "    label=f\"Barcoded cells (> {th} rolonies) in visual (n={np.sum(m)})\",\n",
    ")\n",
    "ax.set_ylabel(\"# cells (density)\")\n",
    "ax.set_xlabel(\"# of genes or hyb rolonies\")\n",
    "ax.legend(loc=\"upper right\")"
   ]
  },
  {
   "cell_type": "code",
   "execution_count": null,
   "metadata": {},
   "outputs": [],
   "source": [
    "rol_per_cell = fused_df.iloc[1:].sum(axis=1)\n",
    "bar_per_cell = barcode_df.iloc[1:].sum(axis=1)\n",
    "\n",
    "vis_rol = rol_per_cell[rol_per_cell.index.isin(vis_cells.index)]\n",
    "vis_bar = bar_per_cell[bar_per_cell.index.isin(vis_cells.index)]\n",
    "\n",
    "df = pd.DataFrame(dict(barcode=vis_bar, genes=vis_rol))\n",
    "df[np.isnan(df)] = 0\n",
    "plt.scatter(df.barcode.values, df.genes.values, alpha=0.5)\n",
    "plt.xlabel(\"# of barcode rolonies\")\n",
    "plt.ylabel(\"# of genes rolonies\")"
   ]
  },
  {
   "cell_type": "code",
   "execution_count": null,
   "metadata": {},
   "outputs": [],
   "source": []
  },
  {
   "cell_type": "code",
   "execution_count": null,
   "metadata": {},
   "outputs": [],
   "source": [
    "fused_df.loc[3364]"
   ]
  },
  {
   "cell_type": "code",
   "execution_count": null,
   "metadata": {},
   "outputs": [],
   "source": [
    "cell_df.loc[3364]"
   ]
  },
  {
   "cell_type": "code",
   "execution_count": null,
   "metadata": {},
   "outputs": [],
   "source": [
    "spotfused_df.loc[3364]"
   ]
  },
  {
   "cell_type": "code",
   "execution_count": null,
   "metadata": {},
   "outputs": [],
   "source": [
    "# plot the double cell\n",
    "fig, axes = plt.subplots(2, 2)\n",
    "fig.set_size_inches(20, 20)\n",
    "cell_ids = vis_rol[vis_rol > 3000].index[:4]\n",
    "\n",
    "for ic, cell_id in enumerate(cell_ids):\n",
    "    dc_position = np.where(big_mask == cell_id)\n",
    "    ylim = [dc_position[0].min(), dc_position[0].max()]\n",
    "    xlim = [dc_position[1].min(), dc_position[1].max()]\n",
    "    ylim += np.array([-1, 1]) * int(np.diff(ylim)) * 0\n",
    "    xlim += np.array([-1, 1]) * int(np.diff(xlim)) * 0\n",
    "    part2plot = (slice(*ylim), slice(*xlim))\n",
    "    axes.flatten()[ic].contour(\n",
    "        (big_mask[part2plot] - masks[part2plot]) != 0,\n",
    "        extent=[*xlim, *ylim[::]],\n",
    "        colors=\"k\",\n",
    "        linewidths=0.5,\n",
    "    )\n",
    "    m = np.array(big_mask[part2plot], copy=True, dtype=float)\n",
    "    vals = np.unique(m)\n",
    "    for iv, v in enumerate(vals):\n",
    "        m[m == v] = iv\n",
    "    m[m == 0] = np.nan\n",
    "    axes.flatten()[ic].set_title(f\"Cell {cell_id}\")\n",
    "    if add_dapi:\n",
    "        vmin, vmax = np.quantile(dapi_stitched[part2plot], [0.6, 0.995])\n",
    "        axes.flatten()[ic].imshow(\n",
    "            dapi_stitched[part2plot],\n",
    "            extent=[*xlim, *ylim[::-1]],\n",
    "            cmap=\"viridis\",\n",
    "            interpolation=\"None\",\n",
    "            alpha=1,\n",
    "            vmax=vmax,\n",
    "            vmin=vmin,\n",
    "        )\n",
    "    else:\n",
    "        axes.flatten()[ic].imshow(\n",
    "            m, extent=[*xlim, *ylim[::-1]], cmap=\"tab20\", interpolation=\"None\", alpha=1\n",
    "        )\n",
    "\n",
    "    colors = dict(\n",
    "        barcode_round=\"darkred\",\n",
    "        genes_round=\"black\",\n",
    "        hybridisation_1_1=\"green\",\n",
    "        hybridisation_2_1=\"blue\",\n",
    "    )\n",
    "    for w, sp in spots.items():\n",
    "        ok = sp[\n",
    "            (xlim[0] < sp.x) & (sp.x < xlim[1]) & (sp.y > ylim[0]) & (sp.y < ylim[1])\n",
    "        ]\n",
    "        print(f\"{cell_id}, {w}: n = {len(ok)}\")\n",
    "        axes.flatten()[ic].scatter(ok.x, ok.y, s=2, label=w, color=colors[w])\n",
    "\n",
    "axes.flatten()[ic].legend(loc=\"upper right\", bbox_to_anchor=(1.1, -0.1), ncol=3)"
   ]
  },
  {
   "cell_type": "code",
   "execution_count": null,
   "metadata": {},
   "outputs": [],
   "source": [
    "fig = plt.figure(figsize=(30, 7))\n",
    "ax = fig.add_subplot(1, 1, 1)\n",
    "img = ax.imshow(\n",
    "    fused_df.values, aspect=\"auto\", interpolation=\"none\", vmax=10, origin=\"lower\"\n",
    ")\n",
    "cb = plt.colorbar(img, ax=ax)\n",
    "cb.set_label(\"Rolonie #\")\n",
    "ax.set_xticks(np.arange(fused_df.shape[1]))\n",
    "ax.set_yticks(np.arange(fused_df.shape[0]))\n",
    "ax.set_yticklabels(fused_df.index)\n",
    "ax.set_xticklabels(fused_df.columns, rotation=90)\n",
    "plt.tight_layout()"
   ]
  },
  {
   "cell_type": "code",
   "execution_count": null,
   "metadata": {},
   "outputs": [],
   "source": [
    "plt.subplot(1, 2, 1)\n",
    "plt.hist(fused_df.loc[1:].sum(axis=1))\n",
    "plt.semilogy()\n",
    "plt.xlabel(\"# genes rolonies per cells\")\n",
    "plt.subplot(1, 2, 2)\n",
    "plt.hist(barcode_df.loc[1:].sum(axis=1))\n",
    "plt.semilogy()\n",
    "plt.xlabel(\"# barcode rolonies per cells\")"
   ]
  },
  {
   "cell_type": "code",
   "execution_count": null,
   "metadata": {},
   "outputs": [],
   "source": [
    "iss.vis.plot_gene_matrix(fused_df.iloc[1:].astype(int), cmap=\"inferno\", vmax=2)"
   ]
  },
  {
   "attachments": {},
   "cell_type": "markdown",
   "metadata": {},
   "source": [
    "# Plot example SST cell"
   ]
  },
  {
   "cell_type": "code",
   "execution_count": null,
   "metadata": {},
   "outputs": [],
   "source": [
    "cell_id = 23\n",
    "\n",
    "cell_series = fused_df.loc[cell_id]\n",
    "print(f\"Ploting cell {cell_id} with {cell_series.Sst} sst rolonies\")"
   ]
  },
  {
   "cell_type": "code",
   "execution_count": null,
   "metadata": {},
   "outputs": [],
   "source": [
    "mask = np.vstack(np.where(barcoded_mask == cell_id))\n",
    "bounding_box = np.vstack([mask.min(axis=1), mask.max(axis=1)]).astype(int)\n",
    "bounding_box += np.array([[-1, -1], [1, 1]]) * np.diff(bounding_box, axis=0).max()\n",
    "part2plot = (slice(*bounding_box[:, 0]), slice(*bounding_box[:, 1]))\n",
    "\n",
    "data = np.dstack([barcodes_all_channels.std(axis=2), genes_all_channels.std(axis=2)])\n",
    "lim = np.nanquantile(data, [0.05, 0.99], axis=(0, 1))\n",
    "img = iss.vis.to_rgb(data, colors=[[1, 0, 0], [0, 1, 0]], vmin=lim[0], vmax=lim[1])\n",
    "plt.imshow(img[part2plot])\n",
    "plt.contour(barcoded_mask[part2plot])\n",
    "plt.scatter(\n",
    "    spots_in_tile.x - bounding_box[0, 1],\n",
    "    spots_in_tile.y - bounding_box[0, 0],\n",
    "    s=10,\n",
    "    label=\"Barcodes\",\n",
    ")\n",
    "plt.scatter(\n",
    "    genes_spots.x - bounding_box[0, 1],\n",
    "    genes_spots.y - bounding_box[0, 0],\n",
    "    s=10,\n",
    "    label=\"Genes\",\n",
    ")\n",
    "plt.xlim([0, np.diff(bounding_box, axis=0)[0, 1]])\n",
    "plt.ylim([np.diff(bounding_box, axis=0)[0, 0], 0])"
   ]
  },
  {
   "cell_type": "code",
   "execution_count": null,
   "metadata": {},
   "outputs": [],
   "source": [
    "hyb1_all_channels = iss.pipeline.stitch.load_tile_ref_coors(\n",
    "    data_path=data_path, tile_coors=tile_coors, prefix=\"hybridisation_1_1\"\n",
    ")\n",
    "hyb2_all_channels = iss.pipeline.stitch.load_tile_ref_coors(\n",
    "    data_path=data_path, tile_coors=tile_coors, prefix=\"hybridisation_2_1\"\n",
    ")"
   ]
  },
  {
   "cell_type": "code",
   "execution_count": null,
   "metadata": {},
   "outputs": [],
   "source": []
  },
  {
   "cell_type": "code",
   "execution_count": null,
   "metadata": {},
   "outputs": [],
   "source": []
  }
 ],
 "metadata": {
  "kernelspec": {
   "language": "python"
  },
  "language_info": {
   "codemirror_mode": {
    "name": "ipython",
    "version": 3
   },
   "file_extension": ".py",
   "mimetype": "text/x-python",
   "name": "python",
   "nbconvert_exporter": "python",
   "pygments_lexer": "ipython3"
  },
  "vscode": {
   "interpreter": {
    "hash": "02c4ab6ff317cb8a885d2aa2247e2bd7c17b0a4a2d1482529ed329ad25df85a1"
   }
  }
 },
 "nbformat": 4,
 "nbformat_minor": 2
}
