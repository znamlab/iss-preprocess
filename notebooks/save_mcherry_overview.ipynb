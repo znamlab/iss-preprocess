{
 "cells": [
  {
   "cell_type": "markdown",
   "metadata": {},
   "source": [
    "# Compute projections\n",
    "Best options is to run `iss project-round` command after each acquisition:\n",
    "\n",
    "`iss project-round -p $DATAPATH -n $PREFIX`\n",
    "\n",
    "where `$DATAPATH` is the path to the data relative to raw data root and `$PREFIX` is the file name prefix and directory name of the round, e.g. `genes_round_1_1`.\n"
   ]
  },
  {
   "cell_type": "markdown",
   "metadata": {},
   "source": [
    "# Import requirements"
   ]
  },
  {
   "cell_type": "code",
   "execution_count": null,
   "metadata": {},
   "outputs": [],
   "source": [
    "%load_ext autoreload\n",
    "%autoreload 2"
   ]
  },
  {
   "cell_type": "code",
   "execution_count": null,
   "metadata": {},
   "outputs": [],
   "source": [
    "import iss_preprocess as iss\n",
    "import numpy as np\n",
    "import matplotlib.pyplot as plt\n",
    "import yaml\n",
    "from flexiznam.config import PARAMETERS\n",
    "from pathlib import Path\n",
    "from itertools import cycle\n",
    "from matplotlib.animation import FuncAnimation\n"
   ]
  },
  {
   "cell_type": "markdown",
   "metadata": {},
   "source": [
    "# Set options and path"
   ]
  },
  {
   "cell_type": "code",
   "execution_count": null,
   "metadata": {},
   "outputs": [],
   "source": [
    "data_path = \"becalia_rabies_barseq//BRAC6780.3b/chamber_19/\"\n",
    "\n",
    "processed_path = Path(PARAMETERS['data_root']['processed'])\n",
    "# metadata = iss.io.load_metadata(data_path)\n",
    "\n",
    "ops = iss.config.DEFAULT_OPS.copy()\n"
   ]
  },
  {
   "cell_type": "code",
   "execution_count": null,
   "metadata": {},
   "outputs": [],
   "source": [
    "import os\n",
    "os.listdir(processed_path / data_path)"
   ]
  },
  {
   "cell_type": "code",
   "execution_count": null,
   "metadata": {},
   "outputs": [],
   "source": [
    "ops['camera_order'] = [1 ,3,4,2]\n",
    "for cam, ch in enumerate(np.argsort(ops['camera_order'])):\n",
    "    print(ch, cam)"
   ]
  },
  {
   "cell_type": "code",
   "execution_count": null,
   "metadata": {},
   "outputs": [],
   "source": [
    "shift_right, shift_down, tile_shape = iss.pipeline.register_adjacent_tiles(\n",
    "    data_path, ref_coors=ops['ref_tile'], prefix='mCherry_1')"
   ]
  },
  {
   "cell_type": "code",
   "execution_count": null,
   "metadata": {},
   "outputs": [],
   "source": [
    "prefix='mCherry_1'\n",
    "roi_dims = iss.pipeline.save_roi_dimensions(data_path, prefix)"
   ]
  },
  {
   "cell_type": "code",
   "execution_count": null,
   "metadata": {},
   "outputs": [],
   "source": [
    "import cv2\n",
    "fig = plt.figure(figsize=(20,20))\n",
    "\n",
    "for roi in np.arange(8):\n",
    "    fig.clear()\n",
    "    print(f'Doing roi {roi+1}')\n",
    "    print('   ... stitching', flush=True)\n",
    "    stack = iss.pipeline.stitch_tiles(\n",
    "        data_path,\n",
    "        prefix,\n",
    "        shift_right,\n",
    "        shift_down,\n",
    "        roi=roi + 1,\n",
    "        suffix=\"fstack\",\n",
    "        ich=1,\n",
    "        correct_illumination=False,\n",
    "    )\n",
    "    print('   ... downsampling', flush=True)\n",
    "    downsampled_size = (np.array(stack.shape) / 20).astype('int')\n",
    "    downsampled = cv2.resize(stack, downsampled_size[::-1], interpolation= cv2.INTER_LINEAR)\n",
    "    print('   ... plotting', flush=True)\n",
    "    plt.imshow(stack[::10, ::10], vmax=150)\n",
    "    plt.subplots_adjust(left=0, right=1, top=1, bottom=0)\n",
    "    plt.axis('off')\n",
    "    print('   ... saving', flush=True)\n",
    "    fig.savefig(processed_path / data_path / f'mcherry_overview_roi{roi + 1}.png', dpi=600)"
   ]
  },
  {
   "attachments": {},
   "cell_type": "markdown",
   "metadata": {},
   "source": [
    "# Montage\n",
    "\n",
    "A montage can be generated from the overviews using ImageMagick:\n",
    "\n",
    "```\n",
    "ml ImageMagick\n",
    "cd MOUSE_DIRECTORY\n",
    "magick montage chamber_19/mcheery_overview*.png -geometry 2000x -tile 4x2 chamge_19_mCherry.png\n",
    "```\n",
    "\n",
    "The 2000x sets the number of pixels of each image in the montage (in x) and  4x2 the tile\n",
    "arangment."
   ]
  }
 ],
 "metadata": {
  "kernelspec": {
   "display_name": "Python 3 (ipykernel)",
   "language": "python",
   "name": "python3"
  },
  "language_info": {
   "codemirror_mode": {
    "name": "ipython",
    "version": 3
   },
   "file_extension": ".py",
   "mimetype": "text/x-python",
   "name": "python",
   "nbconvert_exporter": "python",
   "pygments_lexer": "ipython3",
   "version": "3.10.8"
  },
  "vscode": {
   "interpreter": {
    "hash": "6f6453066f0b8e07605712c689f4630f5cec26ed25eeb949388b0d94ce3c4139"
   }
  }
 },
 "nbformat": 4,
 "nbformat_minor": 2
}
