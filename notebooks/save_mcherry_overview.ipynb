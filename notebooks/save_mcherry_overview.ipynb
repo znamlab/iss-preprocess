{
 "cells": [
  {
   "cell_type": "markdown",
   "metadata": {},
   "source": [
    "# Compute projections\n",
    "Best options is to run `iss project-round` command after each acquisition:\n",
    "\n",
    "`iss project-round -p $DATAPATH -n $PREFIX`\n",
    "\n",
    "where `$DATAPATH` is the path to the data relative to raw data root and `$PREFIX` is the file name prefix and directory name of the round, e.g. `genes_round_1_1`.\n"
   ]
  },
  {
   "cell_type": "markdown",
   "metadata": {},
   "source": [
    "# Import requirements"
   ]
  },
  {
   "cell_type": "code",
   "execution_count": null,
   "metadata": {},
   "outputs": [],
   "source": [
    "%load_ext autoreload\n",
    "%autoreload 2"
   ]
  },
  {
   "cell_type": "code",
   "execution_count": null,
   "metadata": {},
   "outputs": [],
   "source": [
    "import iss_preprocess as iss\n",
    "import numpy as np\n",
    "import matplotlib.pyplot as plt\n",
    "import yaml\n",
    "from flexiznam.config import PARAMETERS\n",
    "from pathlib import Path\n",
    "from itertools import cycle\n",
    "from matplotlib.animation import FuncAnimation"
   ]
  },
  {
   "cell_type": "markdown",
   "metadata": {},
   "source": [
    "# Set options and path"
   ]
  },
  {
   "cell_type": "code",
   "execution_count": null,
   "metadata": {},
   "outputs": [],
   "source": [
    "data_path = \"becalia_rabies_barseq/BRAC8501.6a/chamber_06\"\n",
    "\n",
    "processed_path = Path(PARAMETERS[\"data_root\"][\"processed\"])\n",
    "# metadata = iss.io.load_metadata(data_path)\n",
    "\n",
    "ops = iss.io.load.load_ops(data_path)"
   ]
  },
  {
   "cell_type": "code",
   "execution_count": null,
   "metadata": {},
   "outputs": [],
   "source": [
    "prefix = \"mCherry_1\""
   ]
  },
  {
   "cell_type": "code",
   "execution_count": null,
   "metadata": {},
   "outputs": [],
   "source": [
    "# ops['camera_order'] = [1 ,3,4,2]\n",
    "for cam, ch in enumerate(np.argsort(ops[\"camera_order\"])):\n",
    "    print(ch, cam)"
   ]
  },
  {
   "cell_type": "code",
   "execution_count": null,
   "metadata": {},
   "outputs": [],
   "source": [
    "roi_dims = iss.io.load.get_roi_dimensions(data_path, prefix=prefix)\n",
    "c0 = 1\n",
    "c1 = round(roi_dims[0, 1] / 2)\n",
    "c2 = round(roi_dims[0, 2] / 2)\n",
    "ref_coords = [c0, c1, c2]\n",
    "\n",
    "shift_right, shift_down, tile_shape = iss.pipeline.register_adjacent_tiles(\n",
    "    data_path, ref_coors=[1, 3, 3], prefix=\"mCherry_1\", ref_ch=1\n",
    ")\n",
    "print(shift_right, shift_down, tile_shape)"
   ]
  },
  {
   "cell_type": "code",
   "execution_count": null,
   "metadata": {},
   "outputs": [],
   "source": []
  },
  {
   "cell_type": "code",
   "execution_count": null,
   "metadata": {},
   "outputs": [],
   "source": [
    "iss.vis.vis.plot_overview_images(\n",
    "    data_path=data_path,\n",
    "    prefix=prefix,\n",
    "    plot_grid=True,\n",
    "    downsample_factor=5,\n",
    "    save_raw=True,\n",
    "    group_channels=False,\n",
    "    use_slurm=False,\n",
    ")"
   ]
  },
  {
   "cell_type": "code",
   "execution_count": null,
   "metadata": {},
   "outputs": [],
   "source": [
    "prefix = \"mCherry_1\"\n",
    "import cv2\n",
    "\n",
    "fig = plt.figure(figsize=(20, 20))\n",
    "\n",
    "for roi in np.arange(8):\n",
    "    fig.clear()\n",
    "    print(f\"Doing roi {roi+1}\")\n",
    "    print(\"   ... stitching\", flush=True)\n",
    "    stack = iss.pipeline.stitch_tiles(\n",
    "        data_path,\n",
    "        prefix,\n",
    "        roi=roi + 1,\n",
    "        suffix=\"max\",\n",
    "        ich=1,\n",
    "        correct_illumination=False,\n",
    "    )\n",
    "    print(\"   ... downsampling\", flush=True)\n",
    "    downsampled_size = (np.array(stack.shape) / 20).astype(\"int\")\n",
    "    downsampled = cv2.resize(\n",
    "        stack, downsampled_size[::-1], interpolation=cv2.INTER_LINEAR\n",
    "    )\n",
    "    print(\"   ... plotting\", flush=True)\n",
    "    plt.imshow(stack[::10, ::10], vmax=150)\n",
    "    plt.subplots_adjust(left=0, right=1, top=1, bottom=0)\n",
    "    plt.axis(\"off\")\n",
    "    print(\"   ... saving\", flush=True)\n",
    "    fig.savefig(\n",
    "        processed_path / data_path / f\"mcherry_overview_roi{roi + 1:02d}.png\", dpi=600\n",
    "    )"
   ]
  },
  {
   "attachments": {},
   "cell_type": "markdown",
   "metadata": {},
   "source": [
    "# Montage\n",
    "\n",
    "A montage can be generated from the overviews using ImageMagick:\n",
    "\n",
    "```\n",
    "ml ImageMagick\n",
    "cd MOUSE_DIRECTORY\n",
    "magick montage -font \"DejaVu-Sans\" round_overviews/chamber_08_roi_*_genes_round_5*.png  -geometry 2000x -tile 5x2 -background black  chamber_08_genes_round_5_overview.png\n",
    "```\n",
    "\n",
    "The 2000x sets the number of pixels of each image in the montage (in x) and  4x2 the tile\n",
    "arangment.\n",
    "\n",
    "To merge all round\n",
    "\n",
    "```\n",
    "magick montage -font \"DejaVu-Sans\" chamber_08_genes_round*_overview.png  -geometry x800 -tile 1x -background black  chamber_08_all_genes_rounds.png\n",
    "```"
   ]
  },
  {
   "cell_type": "markdown",
   "metadata": {},
   "source": [
    "To add file name:\n",
    "\n",
    "`magick montage -label \"%f\" -font \"DejaVu-Sans\" round_overviews/chamber_08_roi_*_genes_round_2*.png  -geometry 2000x -tile 5x2 chamber_08_genes_round_2_overview.png`\n",
    "\n",
    "To flip rows:\n",
    "\n",
    "`magick montage round_overviews/chamber_08_roi_17*.png round_overviews/chamber_08_roi_18*.png round_overviews/chamber_08_roi_19*.png round_overviews/chamber_08_roi_20*.png round_overviews/chamber_08_roi_21*.png  -geometry 2000x -tile 5x1 chamber_08_overview_top_row.png`\n",
    "\n",
    "and\n",
    "\n",
    "`magick montage round_overviews/chamber_08_roi_12*.png round_overviews/chamber_08_roi_13*.png round_overviews/chamber_08_roi_14*.png round_overviews/chamber_08_roi_15*.png round_overviews/chamber_08_roi_16*.png  -geometry 2000x -tile 5x1 chamber_08_overview_bottom_row.png`\n",
    "\n",
    "`magick montage chamber_08_overview_top_row.png chamber_08_overview_bottom_row.png -geometry 10000x -tile 1x2 chamber_08_overview.png`\n",
    "\n"
   ]
  },
  {
   "cell_type": "markdown",
   "metadata": {},
   "source": []
  }
 ],
 "metadata": {
  "kernelspec": {
   "language": "python"
  },
  "language_info": {
   "codemirror_mode": {
    "name": "ipython",
    "version": 3
   },
   "file_extension": ".py",
   "mimetype": "text/x-python",
   "name": "python",
   "nbconvert_exporter": "python",
   "pygments_lexer": "ipython3"
  },
  "vscode": {
   "interpreter": {
    "hash": "6f6453066f0b8e07605712c689f4630f5cec26ed25eeb949388b0d94ce3c4139"
   }
  }
 },
 "nbformat": 4,
 "nbformat_minor": 2
}
