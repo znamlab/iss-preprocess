{
 "cells": [
  {
   "cell_type": "markdown",
   "metadata": {},
   "source": [
    "# Select parameters to register fluorescence images\n",
    "\n",
    "This is for acquisition that have no rounds, but multiple channels to align.\n",
    "\n",
    "- `binarise_quantile`: The quantile to use to binarise the moving image. The default\n",
    "is `0.7`."
   ]
  },
  {
   "cell_type": "code",
   "execution_count": null,
   "metadata": {},
   "outputs": [],
   "source": [
    "import numpy as np\n",
    "import matplotlib.pyplot as plt\n",
    "import iss_preprocess as iss\n",
    "\n",
    "data_path = \"becalia_rabies_barseq/BRAC8498.3e/chamber_08/\"\n",
    "prefix = \"hybridisation_round_1_1\"\n",
    "projection = \"max-median\"\n",
    "threshold_quantile = 0.9\n",
    "block_size = 512\n",
    "overlap = 0.8\n",
    "\n",
    "ops = iss.io.load_ops(data_path)\n",
    "tile_coors = ops[\"ref_tile\"]\n",
    "ref_ch = ops[\"ref_ch\"]"
   ]
  },
  {
   "cell_type": "markdown",
   "metadata": {},
   "source": [
    "## Median filter\n",
    "\n",
    "The images are first filtered with a median filter to remove noise. The size of the\n",
    "filter is `ops[\"reg_median_filter\"]`. The size does not need to be very large, it is \n",
    "just used to remove dead pixels and some regular noise."
   ]
  },
  {
   "cell_type": "code",
   "execution_count": null,
   "metadata": {},
   "outputs": [],
   "source": [
    "from skimage.morphology import disk\n",
    "from scipy.ndimage import median_filter\n",
    "\n",
    "stack_ori = iss.pipeline.load_tile_by_coors(\n",
    "    data_path, tile_coors=tile_coors, suffix=projection, prefix=prefix\n",
    ")\n",
    "\n",
    "# median filter if needed\n",
    "median_filter_size = ops[\"reg_median_filter\"]\n",
    "if median_filter_size is not None:\n",
    "    print(f\"Filtering with median filter of size {median_filter_size}\")\n",
    "    assert isinstance(median_filter_size, int), \"reg_median_filter must be an integer\"\n",
    "    stack = median_filter(\n",
    "        stack_ori.copy(), footprint=disk(median_filter_size), axes=(0, 1)\n",
    "    )\n",
    "else:\n",
    "    stack = stack_ori\n",
    "\n",
    "w = 512\n",
    "\n",
    "fig = plt.figure(figsize=(7, 5))\n",
    "vmin, vmax = np.percentile(stack[:w, :w, ref_ch], [1, 99.9])\n",
    "plt.subplot(1, 3, 1)\n",
    "plt.imshow(stack_ori[:w, :w, ref_ch], vmin=vmin, vmax=vmax)\n",
    "plt.title(\"Original\")\n",
    "plt.subplot(1, 3, 2)\n",
    "plt.imshow(stack[:w, :w, ref_ch], vmin=vmin, vmax=vmax)\n",
    "plt.title(f\"Filtered ({median_filter_size} px disk)\")\n",
    "\n",
    "rgb = iss.vis.to_rgb(\n",
    "    np.dstack([stack_ori[:w, :w, ref_ch], stack[:w, :w, ref_ch]]),\n",
    "    colors=[(1, 0, 0), (0, 1, 0)],\n",
    "    vmin=(vmin, vmin),\n",
    "    vmax=(vmax, vmax),\n",
    ")\n",
    "plt.subplot(1, 3, 3)\n",
    "plt.imshow(rgb)\n",
    "plt.title(\"Overlay\")\n",
    "for x in fig.axes:\n",
    "    x.axis(\"off\")"
   ]
  },
  {
   "cell_type": "markdown",
   "metadata": {},
   "source": [
    "# Binarisation quantile\n",
    "\n",
    "The binarisation is used to increase the importance of the shared background between\n",
    "channels in the registration. It is applied on each block of the image independently,\n",
    "but here to get an idea we just plot the whole image with one threshold."
   ]
  },
  {
   "cell_type": "code",
   "execution_count": null,
   "metadata": {},
   "outputs": [],
   "source": [
    "tl = (0, 0)  # top left of the part to plot\n",
    "w = 1024\n",
    "# width of the part to plot\n",
    "nch = stack.shape[2]\n",
    "stack_bin = stack.copy()\n",
    "if threshold_quantile is not None:\n",
    "    for ich in range(nch):\n",
    "        ref_thresh = np.quantile(stack[:, :, ich], threshold_quantile)\n",
    "        stack_bin[:, :, ich] = stack[:, :, ich] > ref_thresh\n",
    "\n",
    "rgb = iss.vis.to_rgb(\n",
    "    stack_bin[tl[0] : tl[0] + w, tl[1] : tl[1] + w, :],\n",
    "    colors=[(1, 0, 0), (0, 1, 0), (1, 0, 1), (0, 1, 1)],\n",
    "    vmin=[0] * nch,\n",
    "    vmax=[1] * nch,\n",
    ")\n",
    "\n",
    "plt.imshow(rgb)\n",
    "plt.xticks([])\n",
    "plt.yticks([])\n",
    "plt.tight_layout()"
   ]
  },
  {
   "cell_type": "markdown",
   "metadata": {},
   "source": [
    "# Block size and overlap\n",
    "\n",
    "The registration will be done in blocks. The size of the blocks should be big enough\n",
    "to make sure that there is enough shared information between the channels, but small\n",
    "enough to ensure we can get local variation. The overlap should be high enough to get a \n",
    "decent fit from the shifts."
   ]
  },
  {
   "cell_type": "code",
   "execution_count": null,
   "metadata": {},
   "outputs": [],
   "source": [
    "# remove the runtime warning\n",
    "import warnings\n",
    "\n",
    "warnings.filterwarnings(\"ignore\", category=RuntimeWarning)\n",
    "(\n",
    "    tile_coors,\n",
    "    matrices,\n",
    "    debug_info,\n",
    ") = iss.pipeline.diagnostics.check_affine_channel_registration(\n",
    "    data_path,\n",
    "    prefix=\"hybridisation_round_1_1\",\n",
    "    tile_coords=ops[\"ref_tile\"],\n",
    "    projection=projection,\n",
    "    binarise_quantile=threshold_quantile,\n",
    "    block_size=block_size,\n",
    "    overlap=overlap,\n",
    ")\n",
    "warnings.filterwarnings(\"default\")"
   ]
  },
  {
   "cell_type": "markdown",
   "metadata": {},
   "source": [
    "# Final results\n",
    "\n",
    "That should look pretty"
   ]
  },
  {
   "cell_type": "code",
   "execution_count": null,
   "metadata": {},
   "outputs": [],
   "source": [
    "corrected_hyb = iss.reg.rounds_and_channels.apply_corrections(\n",
    "    stack_ori, matrix=matrices, cval=0.0\n",
    ")\n",
    "vmax = np.percentile(corrected_hyb, 99.9, axis=(0, 1))\n",
    "vmin = np.percentile(corrected_hyb, 1, axis=(0, 1))\n",
    "\n",
    "fig = plt.figure(figsize=(10, 5))\n",
    "ax = plt.subplot(1, 2, 1)\n",
    "rgb = iss.vis.to_rgb(\n",
    "    stack_ori, colors=[(1, 0, 0), (0, 1, 0), (1, 0, 1), (0, 1, 1)], vmin=vmin, vmax=vmax\n",
    ")\n",
    "plt.imshow(rgb)\n",
    "plt.subplot(1, 2, 2, sharex=ax, sharey=ax)\n",
    "rgb = iss.vis.to_rgb(\n",
    "    corrected_hyb,\n",
    "    colors=[(1, 0, 0), (0, 1, 0), (1, 0, 1), (0, 1, 1)],\n",
    "    vmin=vmin,\n",
    "    vmax=vmax,\n",
    ")\n",
    "plt.imshow(rgb)\n",
    "ax.set_xlim(3290 - 512, 3290)\n",
    "ax.set_ylim(0, 512)\n",
    "ax.set_xticks([])\n",
    "ax.set_yticks([])\n",
    "\n",
    "\n",
    "fig.suptitle(\n",
    "    f\"{block_size} block, {overlap} overlap, {threshold_quantile} quantile binarisation\"\n",
    ")"
   ]
  },
  {
   "cell_type": "code",
   "execution_count": null,
   "metadata": {},
   "outputs": [],
   "source": []
  }
 ],
 "metadata": {
  "kernelspec": {
   "display_name": "iss-preprocess",
   "language": "python",
   "name": "python3"
  },
  "language_info": {
   "codemirror_mode": {
    "name": "ipython",
    "version": 3
   },
   "file_extension": ".py",
   "mimetype": "text/x-python",
   "name": "python",
   "nbconvert_exporter": "python",
   "pygments_lexer": "ipython3",
   "version": "3.12.2"
  }
 },
 "nbformat": 4,
 "nbformat_minor": 2
}
