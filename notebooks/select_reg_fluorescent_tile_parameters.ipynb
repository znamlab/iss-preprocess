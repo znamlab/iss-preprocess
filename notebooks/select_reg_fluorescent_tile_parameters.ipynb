{
 "cells": [
  {
   "cell_type": "markdown",
   "metadata": {},
   "source": [
    "# Select parameters to register fluorescence images\n",
    "\n",
    "This is for acquisition that have no rounds, but multiple channels to align.\n",
    "\n",
    "- `binarise_quantile`: The quantile to use to binarise the moving image. The default\n",
    "is `0.7`."
   ]
  },
  {
   "cell_type": "code",
   "execution_count": null,
   "metadata": {},
   "outputs": [],
   "source": [
    "%load_ext autoreload\n",
    "%autoreload 2"
   ]
  },
  {
   "cell_type": "code",
   "execution_count": null,
   "metadata": {},
   "outputs": [],
   "source": [
    "import matplotlib.pyplot as plt\n",
    "import numpy as np\n",
    "\n",
    "import iss_preprocess as iss\n",
    "import iss_preprocess.io\n",
    "\n",
    "data_path = \"becalia_rabies_barseq/BRAC8498.3e/chamber_06/\"\n",
    "prefix = \"mCherry_1\"\n",
    "ops = iss.io.load_ops(data_path)\n",
    "tile_coors = ops[\"ref_tile\"]\n",
    "tile_coors = [19, 5, 5]"
   ]
  },
  {
   "cell_type": "markdown",
   "metadata": {},
   "source": [
    "## Look at current registration\n",
    "\n",
    "This runs the registration with the current parameters from ops."
   ]
  },
  {
   "cell_type": "code",
   "execution_count": null,
   "metadata": {},
   "outputs": [],
   "source": [
    "# Current registration results\n",
    "import iss_preprocess.pipeline.register\n",
    "\n",
    "reg_out, db_output = iss.pipeline.register.register_fluorescent_tile(\n",
    "    data_path,\n",
    "    tile_coors,\n",
    "    prefix,\n",
    "    reference_prefix=None,\n",
    "    debug=True,\n",
    "    save_output=False,\n",
    ")"
   ]
  },
  {
   "cell_type": "code",
   "execution_count": null,
   "metadata": {},
   "outputs": [],
   "source": [
    "ops_prefix = prefix.split(\"_\")[0].lower()\n",
    "projection = ops[f\"{ops_prefix}_projection\"]\n",
    "projection = ops.get(f\"{ops_prefix}_reg_projection\", projection)\n",
    "print(f\"Using projection: {projection}\")\n",
    "stack_ori = iss.io.load_tile_by_coors(\n",
    "    data_path, tile_coors=tile_coors, suffix=projection, prefix=prefix\n",
    ")\n",
    "corrected_hyb = iss.reg.rounds_and_channels.apply_corrections(\n",
    "    stack_ori, matrix=reg_out[\"matrix_between_channels\"], cval=0.0\n",
    ")"
   ]
  },
  {
   "cell_type": "code",
   "execution_count": null,
   "metadata": {},
   "outputs": [],
   "source": [
    "# Plot the initial registration\n",
    "colors = [(1, 0, 0), (0, 1, 0), (1, 0, 1), (0, 1, 1)]\n",
    "vmax = np.percentile(stack_ori, 99.9, axis=(0, 1))\n",
    "vmin = np.percentile(stack_ori, 0.1, axis=(0, 1))\n",
    "rgb_ori = iss.vis.to_rgb(stack_ori, colors, vmax, vmin)\n",
    "rgb_reg = iss.vis.to_rgb(corrected_hyb, colors, vmax, vmin)\n",
    "\n",
    "fig, axes = plt.subplots(1, 2, figsize=(10, 5))\n",
    "axes[0].imshow(rgb_ori)\n",
    "axes[0].set_title(\"Before channel registration\")\n",
    "axes[1].imshow(rgb_reg)\n",
    "axes[1].set_title(\"Registered\")\n",
    "if False:\n",
    "    for ax in axes:\n",
    "        ax.axis(\"off\")\n",
    "        ax.set_xlim([1000, 1500])\n",
    "        ax.set_ylim([1000, 1500])\n",
    "fig.tight_layout()"
   ]
  },
  {
   "cell_type": "markdown",
   "metadata": {},
   "source": [
    "# Change parameters"
   ]
  },
  {
   "cell_type": "code",
   "execution_count": null,
   "metadata": {},
   "outputs": [],
   "source": [
    "projection = \"max-median\"\n",
    "threshold_quantile = None\n",
    "block_size = 512\n",
    "overlap = 0.8\n",
    "max_residual = 5\n",
    "\n",
    "ref_ch = ops[\"ref_ch\"]"
   ]
  },
  {
   "cell_type": "markdown",
   "metadata": {},
   "source": [
    "## Median filter\n",
    "\n",
    "The images are first filtered with a median filter to remove noise. The size of the\n",
    "filter is `ops[\"reg_median_filter\"]`. The size does not need to be very large, it is \n",
    "just used to remove dead pixels and some regular noise."
   ]
  },
  {
   "cell_type": "code",
   "execution_count": null,
   "metadata": {},
   "outputs": [],
   "source": [
    "from scipy.ndimage import median_filter\n",
    "from skimage.morphology import disk\n",
    "\n",
    "stack_ori = iss.io.load_tile_by_coors(\n",
    "    data_path, tile_coors=tile_coors, suffix=projection, prefix=prefix\n",
    ")\n",
    "\n",
    "# median filter if needed\n",
    "median_filter_size = ops[\"reg_median_filter\"]\n",
    "if median_filter_size is not None:\n",
    "    print(f\"Filtering with median filter of size {median_filter_size}\")\n",
    "    assert isinstance(median_filter_size, int), \"reg_median_filter must be an integer\"\n",
    "    stack = median_filter(\n",
    "        stack_ori.copy(), footprint=disk(median_filter_size), axes=(0, 1)\n",
    "    )\n",
    "else:\n",
    "    stack = stack_ori\n",
    "\n",
    "w = 512\n",
    "\n",
    "fig = plt.figure(figsize=(7, 5))\n",
    "vmin, vmax = np.percentile(stack[:w, :w, ref_ch], [1, 99.9])\n",
    "plt.subplot(1, 3, 1)\n",
    "plt.imshow(stack_ori[:w, :w, ref_ch], vmin=vmin, vmax=vmax)\n",
    "plt.title(\"Original\")\n",
    "plt.subplot(1, 3, 2)\n",
    "plt.imshow(stack[:w, :w, ref_ch], vmin=vmin, vmax=vmax)\n",
    "plt.title(f\"Filtered ({median_filter_size} px disk)\")\n",
    "\n",
    "rgb = iss.vis.to_rgb(\n",
    "    np.dstack([stack_ori[:w, :w, ref_ch], stack[:w, :w, ref_ch]]),\n",
    "    colors=[(1, 0, 0), (0, 1, 0)],\n",
    "    vmin=(vmin, vmin),\n",
    "    vmax=(vmax, vmax),\n",
    ")\n",
    "plt.subplot(1, 3, 3)\n",
    "plt.imshow(rgb)\n",
    "plt.title(\"Overlay\")\n",
    "for x in fig.axes:\n",
    "    x.axis(\"off\")"
   ]
  },
  {
   "cell_type": "markdown",
   "metadata": {},
   "source": [
    "# Binarisation quantile\n",
    "\n",
    "The binarisation is used to increase the importance of the shared background between\n",
    "channels in the registration. It is applied on each block of the image independently,\n",
    "but here to get an idea we just plot the whole image with one threshold."
   ]
  },
  {
   "cell_type": "code",
   "execution_count": null,
   "metadata": {},
   "outputs": [],
   "source": [
    "tl = (0, 0)  # top left of the part to plot\n",
    "w = 2024\n",
    "# width of the part to plot\n",
    "nch = stack.shape[2]\n",
    "stack_bin = stack.copy()\n",
    "plt.subplot(111)\n",
    "if threshold_quantile is not None:\n",
    "    for ich in range(nch):\n",
    "        ref_thresh = np.quantile(stack[:, :, ich], threshold_quantile)\n",
    "        stack_bin[:, :, ich] = stack[:, :, ich] > ref_thresh\n",
    "else:\n",
    "    plt.title(\"NO BINARISATION\")\n",
    "rgb = iss.vis.to_rgb(\n",
    "    stack_bin[tl[0] : tl[0] + w, tl[1] : tl[1] + w, :],\n",
    "    colors=[(1, 0, 0), (0, 1, 0), (1, 0, 1), (0, 1, 1)],\n",
    "    vmin=[0] * nch,\n",
    "    vmax=[1] * nch,\n",
    ")\n",
    "\n",
    "plt.imshow(rgb)\n",
    "plt.xticks([])\n",
    "plt.yticks([])\n",
    "plt.tight_layout()"
   ]
  },
  {
   "cell_type": "markdown",
   "metadata": {},
   "source": [
    "# Block size and overlap\n",
    "\n",
    "The registration will be done in blocks. The size of the blocks should be big enough\n",
    "to make sure that there is enough shared information between the channels, but small\n",
    "enough to ensure we can get local variation. The overlap should be high enough to get a \n",
    "decent fit from the shifts."
   ]
  },
  {
   "cell_type": "code",
   "execution_count": null,
   "metadata": {},
   "outputs": [],
   "source": [
    "# remove the runtime warning\n",
    "import warnings\n",
    "\n",
    "import iss_preprocess.diagnostics.diag_register\n",
    "\n",
    "warnings.filterwarnings(\"ignore\", category=RuntimeWarning)\n",
    "(\n",
    "    tile_coors,\n",
    "    matrices,\n",
    "    debug_info,\n",
    ") = iss.diagnostics.diag_register.check_affine_channel_registration(\n",
    "    data_path,\n",
    "    prefix=prefix,\n",
    "    tile_coords=tile_coors,\n",
    "    projection=projection,\n",
    "    binarise_quantile=threshold_quantile,\n",
    "    block_size=block_size,\n",
    "    overlap=overlap,\n",
    "    max_residual=max_residual,\n",
    ")\n",
    "warnings.filterwarnings(\"default\")"
   ]
  },
  {
   "cell_type": "markdown",
   "metadata": {},
   "source": [
    "# Final results\n",
    "\n",
    "That should look pretty"
   ]
  },
  {
   "cell_type": "code",
   "execution_count": null,
   "metadata": {},
   "outputs": [],
   "source": [
    "corrected_hyb = iss.reg.rounds_and_channels.apply_corrections(\n",
    "    stack_ori, matrix=matrices, cval=0.0\n",
    ")\n",
    "vmax = np.percentile(corrected_hyb, 99.9, axis=(0, 1))\n",
    "vmin = np.percentile(corrected_hyb, 1, axis=(0, 1))\n",
    "\n",
    "fig = plt.figure(figsize=(10, 5))\n",
    "ax = plt.subplot(1, 2, 1)\n",
    "rgb = iss.vis.to_rgb(\n",
    "    stack_ori, colors=[(1, 0, 0), (0, 1, 0), (1, 0, 1), (0, 1, 1)], vmin=vmin, vmax=vmax\n",
    ")\n",
    "plt.imshow(rgb)\n",
    "plt.subplot(1, 2, 2, sharex=ax, sharey=ax)\n",
    "rgb = iss.vis.to_rgb(\n",
    "    corrected_hyb,\n",
    "    colors=[(1, 0, 0), (0, 1, 0), (1, 0, 1), (0, 1, 1)],\n",
    "    vmin=vmin,\n",
    "    vmax=vmax,\n",
    ")\n",
    "plt.imshow(rgb)\n",
    "ax.set_xlim(3290 - 512, 3290)\n",
    "ax.set_ylim(0, 512)\n",
    "ax.set_xticks([])\n",
    "ax.set_yticks([])\n",
    "\n",
    "\n",
    "fig.suptitle(\n",
    "    f\"{block_size} block, {overlap} overlap, {threshold_quantile} quantile binarisation\"\n",
    ")"
   ]
  },
  {
   "cell_type": "markdown",
   "metadata": {},
   "source": [
    "## [slow] Look at a whole ROI\n",
    "\n",
    "If you want to look at the whole ROI, you can run the registration on the whole image\n",
    "and stitch. We are not doing this by default as it is slow."
   ]
  },
  {
   "cell_type": "code",
   "execution_count": null,
   "metadata": {},
   "outputs": [],
   "source": [
    "raise ValueError\n",
    "\n",
    "# Stop to make sure we run the slow only if we really want"
   ]
  },
  {
   "cell_type": "code",
   "execution_count": null,
   "metadata": {},
   "outputs": [],
   "source": [
    "# Raw stitching, just looking at this acquisition\n",
    "\n",
    "# ensure that we have tiling information\n",
    "_ = iss.pipeline.register_within_acquisition(\n",
    "    data_path, prefix=prefix, roi=5, reload=True, save_plot=True, use_slurm=False\n",
    ")\n",
    "stitched_registered = [\n",
    "    iss.pipeline.stitch.stitch_tiles(\n",
    "        data_path,\n",
    "        prefix,\n",
    "        roi=5,\n",
    "        suffix=\"max-median\",\n",
    "        ich=i,\n",
    "        correct_illumination=False,\n",
    "        shifts_prefix=None,\n",
    "        register_channels=True,\n",
    "        allow_quick_estimate=False,\n",
    "    )\n",
    "    for i in range(4)\n",
    "]\n",
    "rgb = iss.vis.to_rgb(np.dstack(stitched_registered), colors, vmax, vmin)\n",
    "print(rgb.shape)\n",
    "plt.figure(figsize=(20, 20))\n",
    "plt.imshow(rgb[5000:10000, 10000:15000, :], interpolation=\"none\")"
   ]
  },
  {
   "cell_type": "code",
   "execution_count": null,
   "metadata": {},
   "outputs": [],
   "source": [
    "# Final stitching to reference\n",
    "stitched_registered = iss.pipeline.stitch.stitch_registered(\n",
    "    data_path,\n",
    "    prefix,\n",
    "    5,\n",
    "    channels=range(4),\n",
    "    ref_prefix=None,\n",
    "    filter_r=False,\n",
    "    projection=None,\n",
    "    correct_illumination=False,\n",
    ")\n",
    "bad = np.any(stitched_registered == 0, axis=2)\n",
    "vmax = np.nanpercentile(stitched_registered[~bad, :], 99.99, axis=(0))\n",
    "rgb = iss.vis.to_rgb(stitched_registered, colors, vmax, vmin=0)\n",
    "plt.figure(figsize=(20, 20))\n",
    "plt.imshow(rgb[5000:10000, 10000:15000, :], interpolation=\"none\")"
   ]
  },
  {
   "cell_type": "code",
   "execution_count": null,
   "metadata": {},
   "outputs": [],
   "source": []
  },
  {
   "cell_type": "code",
   "execution_count": null,
   "metadata": {},
   "outputs": [],
   "source": []
  }
 ],
 "metadata": {
  "kernelspec": {
   "language": "python"
  },
  "language_info": {
   "codemirror_mode": {
    "name": "ipython",
    "version": 3
   },
   "file_extension": ".py",
   "mimetype": "text/x-python",
   "name": "python",
   "nbconvert_exporter": "python",
   "pygments_lexer": "ipython3"
  }
 },
 "nbformat": 4,
 "nbformat_minor": 2
}
