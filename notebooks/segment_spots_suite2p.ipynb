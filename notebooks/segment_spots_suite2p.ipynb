{
 "cells": [
  {
   "cell_type": "code",
   "execution_count": null,
   "metadata": {},
   "outputs": [],
   "source": [
    "import numpy as np\n",
    "import pandas as pd\n",
    "from pathlib import Path\n",
    "from flexiznam import PARAMETERS\n",
    "\n",
    "from iss_preprocess.pipeline import segment_spots\n",
    "from iss_preprocess.segment import spot_mask_value, count_spots\n",
    "from iss_preprocess.io import get_processed_path, get_pixel_size, load_metadata,load_stack\n",
    "from iss_preprocess.vis import to_rgb\n",
    "\n",
    "from skimage.segmentation import expand_labels\n",
    "import matplotlib.pyplot as plt\n",
    "import colorsys"
   ]
  },
  {
   "cell_type": "code",
   "execution_count": null,
   "metadata": {},
   "outputs": [],
   "source": [
    "def _get_big_masks(data_path, roi, masks, mask_expansion):\n",
    "    \"\"\"Small internal function to avoid code duplication\n",
    "\n",
    "    Reload and expand masks if needed\n",
    "\n",
    "    Args:\n",
    "        data_path (str): Relative path to data\n",
    "        roi (int): ID of the ROI to load\n",
    "        mask_expansion (float, optional): Distance in um to expand masks before counting\n",
    "            rolonies per cells. None for no expansion. Defaults to 5.\n",
    "        masks (np.array, optional): Array of labels. If None will load \"masks_{roi}\".\n",
    "             Defaults to None.\n",
    "\n",
    "    Returns:\n",
    "        numpy.ndarray: masks expanded\n",
    "\n",
    "    \"\"\"\n",
    "    if masks is None:\n",
    "        masks = np.load(get_processed_path(data_path) / f\"masks_{roi}.npy\")\n",
    "    if mask_expansion is None:\n",
    "        big_masks = masks\n",
    "    else:\n",
    "        pixel_size = get_pixel_size(data_path, prefix=\"genes_round_1_1\")\n",
    "        big_masks = expand_labels(masks, distance=int(mask_expansion / pixel_size))\n",
    "    return big_masks\n",
    "\n",
    "def hsl_palette(categorical_vector, h = [0,360], c = 85, l=65):\n",
    "    \"\"\"Make equally spaced palette from HSL circle.\"\"\"\n",
    "    # Ensuring all values in categorical vector are unique\n",
    "    categorical_vector = np.unique(categorical_vector).tolist()\n",
    "\n",
    "    if np.diff(h) % 360 > 1:\n",
    "        h[1] = h[1] - 360 / len(categorical_vector)\n",
    "    \n",
    "    hues = np.linspace(start=h[0], stop=h[1], num=len(categorical_vector)+1)\n",
    "    hues = hues[:-1] % 360\n",
    "    hues = hues / 360\n",
    "\n",
    "    hlc = np.c_[hues, np.full_like(hues, l / 100), np.full_like(hues, c / 100)]\n",
    "    rgbs = [colorsys.hls_to_rgb(hlc[row,0], hlc[row,1], hlc[row,2]) for row in range(hlc.shape[0])]\n",
    "    hex = ['#%02x%02x%02x'%(round(rgb[0]*255),round(rgb[1]*255),round(rgb[2]*255)) for rgb in rgbs]\n",
    "\n",
    "    return dict(zip(categorical_vector, hex))\n",
    "        \n",
    "\n",
    "\n"
   ]
  },
  {
   "cell_type": "code",
   "execution_count": null,
   "metadata": {},
   "outputs": [],
   "source": [
    "## Loading registered ex vivo data set for ROI 11\n",
    "processed_path = Path(PARAMETERS[\"data_root\"][\"processed\"])\n",
    "\n",
    "data_path = \"ccyp_ex-vivo-reg-pilot/BRBQ77.1f/chamber_1\"\n",
    "genes_prefix = \"genes_round_1_1\"\n",
    "anchor_prefix = \"anchor_1\"\n",
    "mcherry_prefix = \"mcherry_1\"\n",
    "tile_coors=(11,1,1)"
   ]
  },
  {
   "cell_type": "code",
   "execution_count": null,
   "metadata": {},
   "outputs": [],
   "source": [
    "# Get the masks from suite2p in anchor coordinates\n",
    "masks = np.load(processed_path / data_path / f\"masks_{tile_coors[0]}_s2p.npy\")"
   ]
  },
  {
   "cell_type": "code",
   "execution_count": null,
   "metadata": {},
   "outputs": [],
   "source": [
    "barcode_dot_threshold=0.15\n",
    "spot_score_threshold=0.1\n",
    "hyb_score_threshold=0.8\n",
    "\n",
    "big_masks = _get_big_masks(data_path, tile_coors[0], masks, 2.0)\n",
    "\n",
    "metadata = load_metadata(data_path=data_path)\n",
    "\n",
    "thresholds = dict(\n",
    "    genes_round=(\"spot_score\", spot_score_threshold),\n",
    "    barcode_round=(\"dot_product_score\", barcode_dot_threshold),\n",
    ")\n",
    "\n",
    "spot_acquisitions = [\"genes_round\"]\n",
    "\n",
    "for hyb in metadata[\"hybridisation\"]:\n",
    "    if \"anchor\" not in hyb:\n",
    "        spot_acquisitions.append(hyb)\n",
    "        thresholds[hyb] = (\"score\", hyb_score_threshold)\n",
    "\n",
    "# get the spots dataframes\n",
    "spots_dict = dict()\n",
    "for prefix in spot_acquisitions:\n",
    "        print(f\"Loading {prefix}\", flush=True)\n",
    "        spot_df = pd.read_pickle(processed_path / data_path / f\"{prefix}_spots_{tile_coors[0]}.pkl\")\n",
    "        filt_col, threshold = thresholds[prefix]\n",
    "        spot_df = spot_df[spot_df[filt_col] > threshold]\n",
    "        # modify spots in place\n",
    "        spots_dict[prefix] = spot_mask_value(big_masks, spot_df)\n",
    "\n"
   ]
  },
  {
   "cell_type": "code",
   "execution_count": null,
   "metadata": {},
   "outputs": [],
   "source": [
    "thresholds = dict(\n",
    "    genes_round=(\"spot_score\", spot_score_threshold),\n",
    "    barcode_round=(\"dot_product_score\", barcode_dot_threshold),\n",
    ")\n",
    "for hyb in spots_dict:\n",
    "    if hyb in thresholds:\n",
    "        # it is genes or barcode\n",
    "        continue\n",
    "    thresholds[hyb] = (\"score\", hyb_score_threshold)\n",
    "\n",
    "# get the spots dataframes\n",
    "spots_in_cells = dict()\n",
    "for prefix, spot_df in spots_dict.items():\n",
    "    print(f\"Doing {prefix}\", flush=True)\n",
    "    grouping_column = \"bases\" if prefix.startswith(\"barcode\") else \"gene\"\n",
    "    cell_df = count_spots(spots=spot_df, grouping_column=grouping_column)\n",
    "    spots_in_cells[prefix] = cell_df\n",
    "\n",
    "print(spots_in_cells)"
   ]
  },
  {
   "cell_type": "code",
   "execution_count": null,
   "metadata": {},
   "outputs": [],
   "source": [
    "save_dir = get_processed_path(data_path) / \"cells\"\n",
    "save_dir.mkdir(exist_ok=True)"
   ]
  },
  {
   "cell_type": "code",
   "execution_count": null,
   "metadata": {},
   "outputs": [],
   "source": [
    "if \"genes_round\" in spot_acquisitions:\n",
    "    fused_df = spots_in_cells.pop(\"genes_round\")"
   ]
  },
  {
   "cell_type": "code",
   "execution_count": null,
   "metadata": {},
   "outputs": [],
   "source": [
    "for hyb, hyb_df in spots_in_cells.items():\n",
    "    for gene in hyb_df.columns:\n",
    "        if gene in fused_df.columns:\n",
    "            print(f\"Replacing {gene} with hybridisation\")\n",
    "            fused_df.pop(gene)\n",
    "    fused_df = fused_df.join(hyb_df, how=\"outer\")\n",
    "fused_df[np.isnan(fused_df)] = 0\n",
    "fused_df = fused_df.astype(int)"
   ]
  },
  {
   "cell_type": "code",
   "execution_count": null,
   "metadata": {},
   "outputs": [],
   "source": [
    "fused_df.to_pickle(save_dir / f\"genes_df_roi{tile_coors[0]}.pkl\")"
   ]
  },
  {
   "cell_type": "code",
   "execution_count": null,
   "metadata": {},
   "outputs": [],
   "source": [
    "exvivo_stitched = load_stack(processed_path / data_path / \"figures\" / \"exvivo_reg\" / f\"{anchor_prefix}_roi{tile_coors[0]}_stitched_genes2func.tif\")\n"
   ]
  },
  {
   "cell_type": "code",
   "execution_count": null,
   "metadata": {},
   "outputs": [],
   "source": [
    "fig = plt.figure(figsize=(12,8))\n",
    "ax0 = fig.add_subplot(121)\n",
    "ax0.imshow(exvivo_stitched[2800:5800,2800:5800,9], cmap='Greys_r', vmax=2000)\n",
    "ax0.imshow(np.ma.masked_where(big_masks == 0, big_masks)[2800:5800,2800:5800], cmap=\"prism\",alpha=0.4)\n",
    "ax0.set_title('suite2p masks\\n expanded 5 px post-transformation')\n",
    "\n",
    "ax1 = fig.add_subplot(122)\n",
    "ax1.imshow(exvivo_stitched[2800:5800,2800:5800,5], cmap='Greys_r', vmax=400)\n",
    "ax1.imshow(np.ma.masked_where(big_masks == 0, big_masks)[2800:5800,2800:5800], cmap=\"prism\",alpha=0.4)\n"
   ]
  },
  {
   "cell_type": "code",
   "execution_count": null,
   "metadata": {},
   "outputs": [],
   "source": [
    "genes_df = spots_dict['genes_round']\n",
    "genes_df = genes_df[~genes_df['gene'].str.contains(\"unassigned\")]\n",
    "\n",
    "roi_list = [833, 760, 889, 828, 878, 873]\n",
    "\n",
    "unique_genes = genes_df['gene'].unique().tolist()\n",
    "\n",
    "gene_palette = hsl_palette(unique_genes, c=58, l=68)\n",
    "\n",
    "# convert relevant channels of exvivo image to RGB, clip values so we can see both the in vivo GCaMP and DAPI nicely\n",
    "to_plot = exvivo_stitched[:,:,[4,9]]\n",
    "to_plot[:,:,0] = np.clip(to_plot[:,:,0], a_min=to_plot[:,:,0].min(), a_max=None)\n",
    "to_plot[:,:,1] = np.clip(to_plot[:,:,1], a_min=to_plot[3200:4000,3200:4000,1].min()/3, a_max=None)\n",
    "to_plot[:,:,0] *= 18\n",
    "im = to_rgb(to_plot, colors=[[0,1,1], [1,1,1]], vmax=1800)\n"
   ]
  },
  {
   "cell_type": "code",
   "execution_count": null,
   "metadata": {},
   "outputs": [],
   "source": [
    "import matplotlib as mpl\n",
    "from matplotlib.colors import ListedColormap\n",
    "\n",
    "# custom colour palette avoiding green, cyan type colours so ROI boundaries are contrastive\n",
    "roi_palette = [\"salmon\", \"lightcoral\", \"orange\", \"gold\", \"mediumorchid\", \"violet\", \"magenta\", \"hotpink\"]\n",
    "roi_cycle = ListedColormap(32*roi_palette, name='roi_cycle', N=256)"
   ]
  },
  {
   "cell_type": "code",
   "execution_count": null,
   "metadata": {},
   "outputs": [],
   "source": [
    "fig = plt.figure(figsize=(24,16))\n",
    "for i,roi in enumerate(roi_list):\n",
    "    centre = np.mean(np.argwhere(big_masks==roi), axis=0)\n",
    "    ax = fig.add_subplot(2,3,i+1)\n",
    "    xlims = [centre[1]-200, centre[1]+200]\n",
    "    ylims = [centre[0]+200, centre[0]-200]\n",
    "    # filter spots dataframe for those in ROI\n",
    "    spots_in_view = genes_df.loc[\n",
    "        (genes_df['x'] > xlims[0]) & \n",
    "        (genes_df['x'] < xlims[1]) &\n",
    "        (genes_df['y'] > ylims[1]) &\n",
    "        (genes_df['y'] < ylims[0]) &\n",
    "        (genes_df['mask_id'] != roi)\n",
    "    ]\n",
    "    tmp = genes_df.loc[genes_df['mask_id'] == roi]\n",
    "    ax.imshow(im)\n",
    "    ax.imshow(np.ma.masked_where(big_masks == 0, big_masks), cmap=roi_cycle, alpha=0.4)\n",
    "    ax.scatter(x = spots_in_view['x'], y = spots_in_view['y'], c = 'white', marker='x')\n",
    "    for gene in tmp['gene']:\n",
    "        ax.scatter(x = tmp[tmp['gene'] == gene]['x'], y = tmp[tmp['gene'] == gene]['y'], c=gene_palette[gene], s=12)\n",
    "\n",
    "    ax.set_xlim(xlims)\n",
    "    ax.set_ylim(ylims)\n",
    "    ax.set_xticks([])\n",
    "    ax.set_yticks([])\n",
    "    ax.set_title(f\"ROI {roi}\", fontsize=24)\n",
    "\n",
    "plt.tight_layout()\n",
    "fig.legend(labels = gene_palette.keys())"
   ]
  },
  {
   "cell_type": "code",
   "execution_count": null,
   "metadata": {},
   "outputs": [],
   "source": [
    "all_rois = genes_df['mask_id'].unique().tolist()[1:]\n",
    "\n",
    "roi_list = all_rois[:6]\n",
    "\n",
    "fig = plt.figure(figsize=(24,16))\n",
    "for i,roi in enumerate(roi_list):\n",
    "    centre = np.mean(np.argwhere(big_masks==roi), axis=0)\n",
    "    ax = fig.add_subplot(2,3,i+1)\n",
    "    xlims = [centre[1]-200, centre[1]+200]\n",
    "    ylims = [centre[0]+200, centre[0]-200]\n",
    "    # filter spots dataframe for those in ROI\n",
    "    spots_in_view = genes_df.loc[\n",
    "        (genes_df['x'] > xlims[0]) & \n",
    "        (genes_df['x'] < xlims[1]) &\n",
    "        (genes_df['y'] > ylims[1]) &\n",
    "        (genes_df['y'] < ylims[0]) &\n",
    "        (genes_df['mask_id'] != roi)\n",
    "    ]\n",
    "    tmp = genes_df.loc[genes_df['mask_id'] == roi]\n",
    "    ax.imshow(im)\n",
    "    ax.imshow(np.ma.masked_where(big_masks == 0, big_masks), cmap=roi_cycle, alpha=0.4)\n",
    "    ax.scatter(x = spots_in_view['x'], y = spots_in_view['y'], c = 'white', marker='x')\n",
    "    for gene in tmp['gene']:\n",
    "        ax.scatter(x = tmp[tmp['gene'] == gene]['x'], y = tmp[tmp['gene'] == gene]['y'], c=gene_palette[gene], s=12)\n",
    "\n",
    "    ax.set_xlim(xlims)\n",
    "    ax.set_ylim(ylims)\n",
    "    ax.set_xticks([])\n",
    "    ax.set_yticks([])\n",
    "    ax.set_title(f\"ROI {roi}\", fontsize=24)\n",
    "\n",
    "plt.tight_layout()\n",
    "fig.legend(labels = gene_palette.keys())"
   ]
  }
 ],
 "metadata": {
  "kernelspec": {
   "display_name": "iss-preprocess",
   "language": "python",
   "name": "python3"
  },
  "language_info": {
   "codemirror_mode": {
    "name": "ipython",
    "version": 3
   },
   "file_extension": ".py",
   "mimetype": "text/x-python",
   "name": "python",
   "nbconvert_exporter": "python",
   "pygments_lexer": "ipython3",
   "version": "3.10.11"
  }
 },
 "nbformat": 4,
 "nbformat_minor": 2
}
